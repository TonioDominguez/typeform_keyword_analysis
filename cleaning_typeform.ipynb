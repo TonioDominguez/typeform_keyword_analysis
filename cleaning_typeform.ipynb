{
 "cells": [
  {
   "cell_type": "markdown",
   "id": "0e79c28e-4082-408c-9ff6-bbb4cdbc6856",
   "metadata": {},
   "source": [
    "## SET UP & DATA WRANGLING"
   ]
  },
  {
   "cell_type": "code",
   "execution_count": 1,
   "id": "c2953d08-e079-4ec5-8dd2-2545a9bdd1f8",
   "metadata": {
    "tags": []
   },
   "outputs": [],
   "source": [
    "import pandas as pd\n",
    "import numpy as np # funciones matemáticas\n",
    "\n",
    "## EDA Libraries \n",
    "import matplotlib.pyplot as plt\n",
    "import seaborn as sns\n",
    "\n",
    "## Settings\n",
    "pd.set_option('display.max_columns', None) # display all columns\n",
    "import warnings\n",
    "warnings.filterwarnings('ignore') # ignore warnings"
   ]
  },
  {
   "cell_type": "code",
   "execution_count": 2,
   "id": "8ff6cadc-9fb7-473f-8adb-45a849aa2d1a",
   "metadata": {
    "tags": []
   },
   "outputs": [],
   "source": [
    "# pip install --upgrade openpyxl"
   ]
  },
  {
   "cell_type": "code",
   "execution_count": 3,
   "id": "2ba5c761-09cc-4ef5-9f82-bc4f6416e3ac",
   "metadata": {
    "tags": []
   },
   "outputs": [],
   "source": [
    "data = pd.read_excel(\"typeform 15-09-2024.xlsx\")"
   ]
  },
  {
   "cell_type": "code",
   "execution_count": 4,
   "id": "d9ac99f0-8649-485a-b26b-bbf7a456184e",
   "metadata": {
    "tags": []
   },
   "outputs": [],
   "source": [
    "df = data.copy()"
   ]
  },
  {
   "cell_type": "code",
   "execution_count": 5,
   "id": "6be3a78d-ad40-4da8-8c87-ee2fae295fb7",
   "metadata": {
    "tags": []
   },
   "outputs": [],
   "source": [
    "df.columns = df.columns.str.lower().str.replace(\" \",\"_\").str.replace(\".\",\"_\").str.replace(\":\",\"\")"
   ]
  },
  {
   "cell_type": "code",
   "execution_count": 6,
   "id": "ef573e7a-80ba-4150-8209-5469e1b7a4d3",
   "metadata": {
    "tags": []
   },
   "outputs": [
    {
     "data": {
      "text/plain": [
       "(1239, 24)"
      ]
     },
     "execution_count": 6,
     "metadata": {},
     "output_type": "execute_result"
    }
   ],
   "source": [
    "df.shape"
   ]
  },
  {
   "cell_type": "code",
   "execution_count": 7,
   "id": "91874f99-5327-4f4c-ad19-b00793ba4650",
   "metadata": {
    "tags": []
   },
   "outputs": [
    {
     "data": {
      "text/html": [
       "<div>\n",
       "<style scoped>\n",
       "    .dataframe tbody tr th:only-of-type {\n",
       "        vertical-align: middle;\n",
       "    }\n",
       "\n",
       "    .dataframe tbody tr th {\n",
       "        vertical-align: top;\n",
       "    }\n",
       "\n",
       "    .dataframe thead th {\n",
       "        text-align: right;\n",
       "    }\n",
       "</style>\n",
       "<table border=\"1\" class=\"dataframe\">\n",
       "  <thead>\n",
       "    <tr style=\"text-align: right;\">\n",
       "      <th></th>\n",
       "      <th>#</th>\n",
       "      <th>¿cómo_te_gusta_que_te_llamemos?</th>\n",
       "      <th>para_empezar,_aceptas_la_política_de_privacidad_y_que_te_mandemos_chicha_de_la_buena?</th>\n",
       "      <th>{{field01g9cmc9sx965qwjp9reb0q2bj}},_escribe_tu_mejor_correo</th>\n",
       "      <th>escribe_tu_teléfono_(*con_prefijo,_si_no_no_te_podremos_contactar*)_para_poder_pasarte_la_información_de_nuestra_sesión_juntas❤️</th>\n",
       "      <th>¿en_qué_franja_horaria_vives?</th>\n",
       "      <th>-nuestra_terapia_grupal_dura_*16_semanas_*\\n\\n-los_horarios_son_de_*1200_-_1400_pm_o_de_1900_a_2100_pm_*(franja_horaria_españa)\\n\\n-tiene_un_precio_desde*_64€_por_sesiones_de_2_horas__*pero_no_se_paga_por_sesión,_sino_que_te_comprometes_al_proceso_entero_\\n\\n_*esto_implica_tanto_una_inversión_económica,_como_de_tiempo_*__si_esto_no_encaja_en_tus_posibilidades,_te_pedimos,_con_amor,_que_reconsideres_la_reserva__</th>\n",
       "      <th>cuéntame,_¿qué_no_está_funcionando_actualmente_en_tu_vida?</th>\n",
       "      <th>¿_qué_cambios_te_gustaría_ver_después_de_pasar_por_nuestra_terapia?</th>\n",
       "      <th>{{field01g9cmc9sx965qwjp9reb0q2bj}},_¿por_qué_crees_que_conecta_contigo,_nuestra_terapia_grupal,_puede_ayudarte?_</th>\n",
       "      <th>-nuestra_terapia_grupal_dura_*16_semanas_*\\n\\n-cada_semana_de_*1900-2100_pm_o_cada_semana_de_1200-1400_pm_*\\n-se_paga_por_*todo_el_proceso*_en_cuotas_de_1/3/6_pagos_mensuales_\\n\\nesto_implica_una_inversión_económica_y_de_tiempo__si_esto_no_encaja_en_tus_posibilidades,_te_pedimos,_con_amor,_que_reconsideres_la_reserva__\\n\\n¿estás_interesada_en_continuar?</th>\n",
       "      <th>sí!</th>\n",
       "      <th>no,_solo_por_la_tarde!</th>\n",
       "      <th>por_las_tardes_a_partir_de_las_3_00pm</th>\n",
       "      <th>por_las_tardes_a_partir_de_las_5_00pm</th>\n",
       "      <th>por_las_tardes_a_partir_de_las_6_00pm</th>\n",
       "      <th>por_las_tardes_a_partir_de_las_7_00pm</th>\n",
       "      <th>tu_tiempo_es_oro_y_el_nuestro_también,_reserva_esta_sesión_solo_*si_estás_comprometida_a_asistir__*\\n\\n*-esta_sesión_es_una_sesión_enfocada_a_ver_tu_caso_para_entrar_a_la_terapia_grupal_*_\\n\\nsin_tu_compromiso,_no_puede_haber_avance__¿trato_hecho?</th>\n",
       "      <th>response_type</th>\n",
       "      <th>start_date_(utc)</th>\n",
       "      <th>stage_date_(utc)</th>\n",
       "      <th>submit_date_(utc)</th>\n",
       "      <th>network_id</th>\n",
       "      <th>tags</th>\n",
       "    </tr>\n",
       "  </thead>\n",
       "  <tbody>\n",
       "    <tr>\n",
       "      <th>483</th>\n",
       "      <td>hz2p8hpjpnkkvdoqhz2p8anejjk74vzf</td>\n",
       "      <td>Bren</td>\n",
       "      <td>Acepto! yes!</td>\n",
       "      <td>bcamachoperez@pucpr.edu</td>\n",
       "      <td>1.939247e+10</td>\n",
       "      <td>NaN</td>\n",
       "      <td>NaN</td>\n",
       "      <td>Me he quedado enganchada con un casi algo me g...</td>\n",
       "      <td>Recuperar mi confianza. Para mi era un vínculo...</td>\n",
       "      <td>Porque mi terapeuta me ha ayudado en todas las...</td>\n",
       "      <td>Sí, estoy dispuesta a invertir en mí y tengo d...</td>\n",
       "      <td>NaN</td>\n",
       "      <td>NaN</td>\n",
       "      <td>NaN</td>\n",
       "      <td>NaN</td>\n",
       "      <td>NaN</td>\n",
       "      <td>NaN</td>\n",
       "      <td>Sí!! Estoy dispuesta a invertirme en mí y comp...</td>\n",
       "      <td>completed</td>\n",
       "      <td>2024-02-10 00:04:24</td>\n",
       "      <td>NaN</td>\n",
       "      <td>2024-02-10 00:17:21</td>\n",
       "      <td>a90f07be4e</td>\n",
       "      <td>NaN</td>\n",
       "    </tr>\n",
       "    <tr>\n",
       "      <th>277</th>\n",
       "      <td>65dlx0x1dj5bnywyvpmd9n65dlx0xz2s</td>\n",
       "      <td>Maca</td>\n",
       "      <td>Acepto! yes!</td>\n",
       "      <td>caleromacarena93@gmail.com</td>\n",
       "      <td>3.461962e+10</td>\n",
       "      <td>Europa</td>\n",
       "      <td>NaN</td>\n",
       "      <td>No me quiero y soy muy autodestructiva conmigo...</td>\n",
       "      <td>Tener mas y mejor autoestima</td>\n",
       "      <td>Soy una persona muy abierta, y me ayuda mucho ...</td>\n",
       "      <td>Sí, estoy dispuesta a invertir en mí y tengo d...</td>\n",
       "      <td>NaN</td>\n",
       "      <td>NaN</td>\n",
       "      <td>NaN</td>\n",
       "      <td>NaN</td>\n",
       "      <td>NaN</td>\n",
       "      <td>NaN</td>\n",
       "      <td>Sí!! Estoy dispuesta a invertirme en mí y comp...</td>\n",
       "      <td>completed</td>\n",
       "      <td>2024-05-01 12:35:40</td>\n",
       "      <td>NaN</td>\n",
       "      <td>2024-05-01 12:38:21</td>\n",
       "      <td>5b61c3b662</td>\n",
       "      <td>NaN</td>\n",
       "    </tr>\n",
       "    <tr>\n",
       "      <th>1022</th>\n",
       "      <td>74sz8n7y0ilbjdzddi74sz8pedr9boux</td>\n",
       "      <td>Natalia</td>\n",
       "      <td>Acepto! yes!</td>\n",
       "      <td>sisuka00@hotmail.com</td>\n",
       "      <td>NaN</td>\n",
       "      <td>NaN</td>\n",
       "      <td>NaN</td>\n",
       "      <td>No encuentro pareja</td>\n",
       "      <td>Ser capaz de conectar con alguien</td>\n",
       "      <td>Porque para poder conectar con alguien primero...</td>\n",
       "      <td>Sí, estoy dispuesta a invertir en mí y tengo d...</td>\n",
       "      <td>NaN</td>\n",
       "      <td>NaN</td>\n",
       "      <td>NaN</td>\n",
       "      <td>NaN</td>\n",
       "      <td>NaN</td>\n",
       "      <td>NaN</td>\n",
       "      <td>No, estoy comprometida ni puedo invertir prefi...</td>\n",
       "      <td>completed</td>\n",
       "      <td>2023-02-09 22:17:41</td>\n",
       "      <td>NaN</td>\n",
       "      <td>2023-02-09 22:19:56</td>\n",
       "      <td>b050896985</td>\n",
       "      <td>NaN</td>\n",
       "    </tr>\n",
       "    <tr>\n",
       "      <th>671</th>\n",
       "      <td>5a6p4ro15ztnwt7q5a6p4a8mgq1x7aaa</td>\n",
       "      <td>Mari</td>\n",
       "      <td>Acepto! yes!</td>\n",
       "      <td>mariaranda32@gmail.com</td>\n",
       "      <td>3.466355e+10</td>\n",
       "      <td>NaN</td>\n",
       "      <td>NaN</td>\n",
       "      <td>Algo anda mal dentro de mi, llevo un par de añ...</td>\n",
       "      <td>Sentirme bién conmigo, y que lo que hago lo ha...</td>\n",
       "      <td>No lo sé, a lo mejor por sentirme escuchada</td>\n",
       "      <td>Sí, estoy dispuesta a invertir en mí y tengo d...</td>\n",
       "      <td>NaN</td>\n",
       "      <td>NaN</td>\n",
       "      <td>NaN</td>\n",
       "      <td>NaN</td>\n",
       "      <td>NaN</td>\n",
       "      <td>NaN</td>\n",
       "      <td>Sí!! Estoy dispuesta a invertirme en mí y comp...</td>\n",
       "      <td>completed</td>\n",
       "      <td>2023-11-02 12:05:17</td>\n",
       "      <td>NaN</td>\n",
       "      <td>2023-11-02 12:13:24</td>\n",
       "      <td>817c604b36</td>\n",
       "      <td>NaN</td>\n",
       "    </tr>\n",
       "    <tr>\n",
       "      <th>253</th>\n",
       "      <td>4sgx52jzjq8vxsvdr4sgx5lyisujgxs0</td>\n",
       "      <td>Sadith</td>\n",
       "      <td>Acepto! yes!</td>\n",
       "      <td>sadithquirozl@gmail.com</td>\n",
       "      <td>5.195518e+10</td>\n",
       "      <td>Latino America/USA</td>\n",
       "      <td>No se ajusta a mis posibilidades 🙏🏽</td>\n",
       "      <td>NaN</td>\n",
       "      <td>NaN</td>\n",
       "      <td>NaN</td>\n",
       "      <td>NaN</td>\n",
       "      <td>NaN</td>\n",
       "      <td>NaN</td>\n",
       "      <td>NaN</td>\n",
       "      <td>NaN</td>\n",
       "      <td>NaN</td>\n",
       "      <td>NaN</td>\n",
       "      <td>NaN</td>\n",
       "      <td>completed</td>\n",
       "      <td>2024-05-14 06:13:27</td>\n",
       "      <td>NaN</td>\n",
       "      <td>2024-05-14 06:14:34</td>\n",
       "      <td>3272781825</td>\n",
       "      <td>NaN</td>\n",
       "    </tr>\n",
       "    <tr>\n",
       "      <th>1025</th>\n",
       "      <td>n7q0593xss1oe1gln7q05f0jg6ylu398</td>\n",
       "      <td>Linda</td>\n",
       "      <td>NaN</td>\n",
       "      <td>linda.ordonez@asterchile.cl</td>\n",
       "      <td>NaN</td>\n",
       "      <td>NaN</td>\n",
       "      <td>NaN</td>\n",
       "      <td>La aceptación</td>\n",
       "      <td>Vivir tranquila con mis decisiones</td>\n",
       "      <td>Porque han descrito en uno de sus feeds como m...</td>\n",
       "      <td>Sí, estoy dispuesta a invertir en mí y tengo d...</td>\n",
       "      <td>NaN</td>\n",
       "      <td>NaN</td>\n",
       "      <td>NaN</td>\n",
       "      <td>NaN</td>\n",
       "      <td>NaN</td>\n",
       "      <td>NaN</td>\n",
       "      <td>Sí!! Estoy dispuesta a invertirme en mí y comp...</td>\n",
       "      <td>completed</td>\n",
       "      <td>2023-02-09 18:22:16</td>\n",
       "      <td>NaN</td>\n",
       "      <td>2023-02-09 18:26:06</td>\n",
       "      <td>34fe82fcb2</td>\n",
       "      <td>NaN</td>\n",
       "    </tr>\n",
       "    <tr>\n",
       "      <th>476</th>\n",
       "      <td>slbhiut8hrsl7slmu5bez15f0p4nx2w7</td>\n",
       "      <td>Camila</td>\n",
       "      <td>Acepto! yes!</td>\n",
       "      <td>mateusjaimemariacamila@gmail.com</td>\n",
       "      <td>5.732237e+11</td>\n",
       "      <td>NaN</td>\n",
       "      <td>NaN</td>\n",
       "      <td>Busco la validación de los demas y género apegos</td>\n",
       "      <td>Estar enfocada en mis metas</td>\n",
       "      <td>Porque aprendemos al escucharnos unas a otras</td>\n",
       "      <td>No, ahora mismo no estoy dispuesta a invertir ...</td>\n",
       "      <td>NaN</td>\n",
       "      <td>NaN</td>\n",
       "      <td>NaN</td>\n",
       "      <td>NaN</td>\n",
       "      <td>NaN</td>\n",
       "      <td>NaN</td>\n",
       "      <td>No, estoy comprometida ni puedo invertir prefi...</td>\n",
       "      <td>completed</td>\n",
       "      <td>2024-02-13 18:34:23</td>\n",
       "      <td>NaN</td>\n",
       "      <td>2024-02-13 18:37:29</td>\n",
       "      <td>0c98d90a25</td>\n",
       "      <td>NaN</td>\n",
       "    </tr>\n",
       "    <tr>\n",
       "      <th>202</th>\n",
       "      <td>8c8eloztqx80mkx1m7f5o8c8elo7x0en</td>\n",
       "      <td>Liliana</td>\n",
       "      <td>Acepto! yes!</td>\n",
       "      <td>lilianamillasson17@gmail.com</td>\n",
       "      <td>1.240645e+10</td>\n",
       "      <td>Latino America/USA</td>\n",
       "      <td>No se ajusta a mis posibilidades 🙏🏽</td>\n",
       "      <td>NaN</td>\n",
       "      <td>NaN</td>\n",
       "      <td>NaN</td>\n",
       "      <td>NaN</td>\n",
       "      <td>NaN</td>\n",
       "      <td>NaN</td>\n",
       "      <td>NaN</td>\n",
       "      <td>NaN</td>\n",
       "      <td>NaN</td>\n",
       "      <td>NaN</td>\n",
       "      <td>NaN</td>\n",
       "      <td>completed</td>\n",
       "      <td>2024-06-04 15:18:21</td>\n",
       "      <td>NaN</td>\n",
       "      <td>2024-06-04 15:19:43</td>\n",
       "      <td>5d0458d030</td>\n",
       "      <td>NaN</td>\n",
       "    </tr>\n",
       "    <tr>\n",
       "      <th>125</th>\n",
       "      <td>43ykw8da173mbgxkzox43ykw8gqfbvre</td>\n",
       "      <td>Fatu</td>\n",
       "      <td>Acepto! yes!</td>\n",
       "      <td>fatoukorta@gmail.com</td>\n",
       "      <td>3.462252e+10</td>\n",
       "      <td>Europa</td>\n",
       "      <td>NaN</td>\n",
       "      <td>En si muchas cosas, pero sobretodo la estima h...</td>\n",
       "      <td>Tener más autoestima, seguridad y confianza</td>\n",
       "      <td>Me llama la atención</td>\n",
       "      <td>Sí, estoy dispuesta a invertir en mí y tengo d...</td>\n",
       "      <td>NaN</td>\n",
       "      <td>NaN</td>\n",
       "      <td>NaN</td>\n",
       "      <td>NaN</td>\n",
       "      <td>NaN</td>\n",
       "      <td>NaN</td>\n",
       "      <td>Sí!! Estoy dispuesta a invertirme en mí y comp...</td>\n",
       "      <td>completed</td>\n",
       "      <td>2024-07-04 06:21:52</td>\n",
       "      <td>NaN</td>\n",
       "      <td>2024-07-04 06:24:41</td>\n",
       "      <td>1fca155f27</td>\n",
       "      <td>NaN</td>\n",
       "    </tr>\n",
       "    <tr>\n",
       "      <th>1224</th>\n",
       "      <td>a35f6dre38aja35f6j5mwqiryq0osfrj</td>\n",
       "      <td>Dani</td>\n",
       "      <td>NaN</td>\n",
       "      <td>danielledeekes@gmail.com</td>\n",
       "      <td>NaN</td>\n",
       "      <td>NaN</td>\n",
       "      <td>NaN</td>\n",
       "      <td>Quiero dejar atrás lo que me haga daño</td>\n",
       "      <td>NaN</td>\n",
       "      <td>Quiero dejar atrás el pasado, sentirme más tra...</td>\n",
       "      <td>NaN</td>\n",
       "      <td>NaN</td>\n",
       "      <td>NaN</td>\n",
       "      <td>NaN</td>\n",
       "      <td>NaN</td>\n",
       "      <td>NaN</td>\n",
       "      <td>NaN</td>\n",
       "      <td>NaN</td>\n",
       "      <td>completed</td>\n",
       "      <td>2022-08-24 23:28:02</td>\n",
       "      <td>NaN</td>\n",
       "      <td>2022-08-24 23:30:34</td>\n",
       "      <td>41e95c6911</td>\n",
       "      <td>NaN</td>\n",
       "    </tr>\n",
       "  </tbody>\n",
       "</table>\n",
       "</div>"
      ],
      "text/plain": [
       "                                     # ¿cómo_te_gusta_que_te_llamemos?  \\\n",
       "483   hz2p8hpjpnkkvdoqhz2p8anejjk74vzf                            Bren   \n",
       "277   65dlx0x1dj5bnywyvpmd9n65dlx0xz2s                            Maca   \n",
       "1022  74sz8n7y0ilbjdzddi74sz8pedr9boux                         Natalia   \n",
       "671   5a6p4ro15ztnwt7q5a6p4a8mgq1x7aaa                            Mari   \n",
       "253   4sgx52jzjq8vxsvdr4sgx5lyisujgxs0                          Sadith   \n",
       "1025  n7q0593xss1oe1gln7q05f0jg6ylu398                           Linda   \n",
       "476   slbhiut8hrsl7slmu5bez15f0p4nx2w7                          Camila   \n",
       "202   8c8eloztqx80mkx1m7f5o8c8elo7x0en                         Liliana   \n",
       "125   43ykw8da173mbgxkzox43ykw8gqfbvre                            Fatu   \n",
       "1224  a35f6dre38aja35f6j5mwqiryq0osfrj                            Dani   \n",
       "\n",
       "     para_empezar,_aceptas_la_política_de_privacidad_y_que_te_mandemos_chicha_de_la_buena?  \\\n",
       "483                                        Acepto! yes!                                      \n",
       "277                                        Acepto! yes!                                      \n",
       "1022                                       Acepto! yes!                                      \n",
       "671                                        Acepto! yes!                                      \n",
       "253                                        Acepto! yes!                                      \n",
       "1025                                                NaN                                      \n",
       "476                                        Acepto! yes!                                      \n",
       "202                                        Acepto! yes!                                      \n",
       "125                                        Acepto! yes!                                      \n",
       "1224                                                NaN                                      \n",
       "\n",
       "     {{field01g9cmc9sx965qwjp9reb0q2bj}},_escribe_tu_mejor_correo  \\\n",
       "483                             bcamachoperez@pucpr.edu             \n",
       "277                          caleromacarena93@gmail.com             \n",
       "1022                               sisuka00@hotmail.com             \n",
       "671                              mariaranda32@gmail.com             \n",
       "253                             sadithquirozl@gmail.com             \n",
       "1025                        linda.ordonez@asterchile.cl             \n",
       "476                    mateusjaimemariacamila@gmail.com             \n",
       "202                        lilianamillasson17@gmail.com             \n",
       "125                                fatoukorta@gmail.com             \n",
       "1224                           danielledeekes@gmail.com             \n",
       "\n",
       "      escribe_tu_teléfono_(*con_prefijo,_si_no_no_te_podremos_contactar*)_para_poder_pasarte_la_información_de_nuestra_sesión_juntas❤️  \\\n",
       "483                                        1.939247e+10                                                                                  \n",
       "277                                        3.461962e+10                                                                                  \n",
       "1022                                                NaN                                                                                  \n",
       "671                                        3.466355e+10                                                                                  \n",
       "253                                        5.195518e+10                                                                                  \n",
       "1025                                                NaN                                                                                  \n",
       "476                                        5.732237e+11                                                                                  \n",
       "202                                        1.240645e+10                                                                                  \n",
       "125                                        3.462252e+10                                                                                  \n",
       "1224                                                NaN                                                                                  \n",
       "\n",
       "     ¿en_qué_franja_horaria_vives?  \\\n",
       "483                            NaN   \n",
       "277                         Europa   \n",
       "1022                           NaN   \n",
       "671                            NaN   \n",
       "253             Latino America/USA   \n",
       "1025                           NaN   \n",
       "476                            NaN   \n",
       "202             Latino America/USA   \n",
       "125                         Europa   \n",
       "1224                           NaN   \n",
       "\n",
       "     -nuestra_terapia_grupal_dura_*16_semanas_*\\n\\n-los_horarios_son_de_*1200_-_1400_pm_o_de_1900_a_2100_pm_*(franja_horaria_españa)\\n\\n-tiene_un_precio_desde*_64€_por_sesiones_de_2_horas__*pero_no_se_paga_por_sesión,_sino_que_te_comprometes_al_proceso_entero_\\n\\n_*esto_implica_tanto_una_inversión_económica,_como_de_tiempo_*__si_esto_no_encaja_en_tus_posibilidades,_te_pedimos,_con_amor,_que_reconsideres_la_reserva__  \\\n",
       "483                                                 NaN                                                                                                                                                                                                                                                                                                                                                                               \n",
       "277                                                 NaN                                                                                                                                                                                                                                                                                                                                                                               \n",
       "1022                                                NaN                                                                                                                                                                                                                                                                                                                                                                               \n",
       "671                                                 NaN                                                                                                                                                                                                                                                                                                                                                                               \n",
       "253                 No se ajusta a mis posibilidades 🙏🏽                                                                                                                                                                                                                                                                                                                                                                               \n",
       "1025                                                NaN                                                                                                                                                                                                                                                                                                                                                                               \n",
       "476                                                 NaN                                                                                                                                                                                                                                                                                                                                                                               \n",
       "202                 No se ajusta a mis posibilidades 🙏🏽                                                                                                                                                                                                                                                                                                                                                                               \n",
       "125                                                 NaN                                                                                                                                                                                                                                                                                                                                                                               \n",
       "1224                                                NaN                                                                                                                                                                                                                                                                                                                                                                               \n",
       "\n",
       "     cuéntame,_¿qué_no_está_funcionando_actualmente_en_tu_vida?  \\\n",
       "483   Me he quedado enganchada con un casi algo me g...           \n",
       "277   No me quiero y soy muy autodestructiva conmigo...           \n",
       "1022                                No encuentro pareja           \n",
       "671   Algo anda mal dentro de mi, llevo un par de añ...           \n",
       "253                                                 NaN           \n",
       "1025                                      La aceptación           \n",
       "476    Busco la validación de los demas y género apegos           \n",
       "202                                                 NaN           \n",
       "125   En si muchas cosas, pero sobretodo la estima h...           \n",
       "1224             Quiero dejar atrás lo que me haga daño           \n",
       "\n",
       "     ¿_qué_cambios_te_gustaría_ver_después_de_pasar_por_nuestra_terapia?  \\\n",
       "483   Recuperar mi confianza. Para mi era un vínculo...                    \n",
       "277                        Tener mas y mejor autoestima                    \n",
       "1022                  Ser capaz de conectar con alguien                    \n",
       "671   Sentirme bién conmigo, y que lo que hago lo ha...                    \n",
       "253                                                 NaN                    \n",
       "1025                 Vivir tranquila con mis decisiones                    \n",
       "476                         Estar enfocada en mis metas                    \n",
       "202                                                 NaN                    \n",
       "125         Tener más autoestima, seguridad y confianza                    \n",
       "1224                                                NaN                    \n",
       "\n",
       "     {{field01g9cmc9sx965qwjp9reb0q2bj}},_¿por_qué_crees_que_conecta_contigo,_nuestra_terapia_grupal,_puede_ayudarte?_  \\\n",
       "483   Porque mi terapeuta me ha ayudado en todas las...                                                                  \n",
       "277   Soy una persona muy abierta, y me ayuda mucho ...                                                                  \n",
       "1022  Porque para poder conectar con alguien primero...                                                                  \n",
       "671         No lo sé, a lo mejor por sentirme escuchada                                                                  \n",
       "253                                                 NaN                                                                  \n",
       "1025  Porque han descrito en uno de sus feeds como m...                                                                  \n",
       "476       Porque aprendemos al escucharnos unas a otras                                                                  \n",
       "202                                                 NaN                                                                  \n",
       "125                                Me llama la atención                                                                  \n",
       "1224  Quiero dejar atrás el pasado, sentirme más tra...                                                                  \n",
       "\n",
       "     -nuestra_terapia_grupal_dura_*16_semanas_*\\n\\n-cada_semana_de_*1900-2100_pm_o_cada_semana_de_1200-1400_pm_*\\n-se_paga_por_*todo_el_proceso*_en_cuotas_de_1/3/6_pagos_mensuales_\\n\\nesto_implica_una_inversión_económica_y_de_tiempo__si_esto_no_encaja_en_tus_posibilidades,_te_pedimos,_con_amor,_que_reconsideres_la_reserva__\\n\\n¿estás_interesada_en_continuar?  \\\n",
       "483   Sí, estoy dispuesta a invertir en mí y tengo d...                                                                                                                                                                                                                                                                                                                    \n",
       "277   Sí, estoy dispuesta a invertir en mí y tengo d...                                                                                                                                                                                                                                                                                                                    \n",
       "1022  Sí, estoy dispuesta a invertir en mí y tengo d...                                                                                                                                                                                                                                                                                                                    \n",
       "671   Sí, estoy dispuesta a invertir en mí y tengo d...                                                                                                                                                                                                                                                                                                                    \n",
       "253                                                 NaN                                                                                                                                                                                                                                                                                                                    \n",
       "1025  Sí, estoy dispuesta a invertir en mí y tengo d...                                                                                                                                                                                                                                                                                                                    \n",
       "476   No, ahora mismo no estoy dispuesta a invertir ...                                                                                                                                                                                                                                                                                                                    \n",
       "202                                                 NaN                                                                                                                                                                                                                                                                                                                    \n",
       "125   Sí, estoy dispuesta a invertir en mí y tengo d...                                                                                                                                                                                                                                                                                                                    \n",
       "1224                                                NaN                                                                                                                                                                                                                                                                                                                    \n",
       "\n",
       "      sí!  no,_solo_por_la_tarde!  por_las_tardes_a_partir_de_las_3_00pm  \\\n",
       "483   NaN                     NaN                                    NaN   \n",
       "277   NaN                     NaN                                    NaN   \n",
       "1022  NaN                     NaN                                    NaN   \n",
       "671   NaN                     NaN                                    NaN   \n",
       "253   NaN                     NaN                                    NaN   \n",
       "1025  NaN                     NaN                                    NaN   \n",
       "476   NaN                     NaN                                    NaN   \n",
       "202   NaN                     NaN                                    NaN   \n",
       "125   NaN                     NaN                                    NaN   \n",
       "1224  NaN                     NaN                                    NaN   \n",
       "\n",
       "      por_las_tardes_a_partir_de_las_5_00pm  \\\n",
       "483                                     NaN   \n",
       "277                                     NaN   \n",
       "1022                                    NaN   \n",
       "671                                     NaN   \n",
       "253                                     NaN   \n",
       "1025                                    NaN   \n",
       "476                                     NaN   \n",
       "202                                     NaN   \n",
       "125                                     NaN   \n",
       "1224                                    NaN   \n",
       "\n",
       "      por_las_tardes_a_partir_de_las_6_00pm  \\\n",
       "483                                     NaN   \n",
       "277                                     NaN   \n",
       "1022                                    NaN   \n",
       "671                                     NaN   \n",
       "253                                     NaN   \n",
       "1025                                    NaN   \n",
       "476                                     NaN   \n",
       "202                                     NaN   \n",
       "125                                     NaN   \n",
       "1224                                    NaN   \n",
       "\n",
       "      por_las_tardes_a_partir_de_las_7_00pm  \\\n",
       "483                                     NaN   \n",
       "277                                     NaN   \n",
       "1022                                    NaN   \n",
       "671                                     NaN   \n",
       "253                                     NaN   \n",
       "1025                                    NaN   \n",
       "476                                     NaN   \n",
       "202                                     NaN   \n",
       "125                                     NaN   \n",
       "1224                                    NaN   \n",
       "\n",
       "     tu_tiempo_es_oro_y_el_nuestro_también,_reserva_esta_sesión_solo_*si_estás_comprometida_a_asistir__*\\n\\n*-esta_sesión_es_una_sesión_enfocada_a_ver_tu_caso_para_entrar_a_la_terapia_grupal_*_\\n\\nsin_tu_compromiso,_no_puede_haber_avance__¿trato_hecho?  \\\n",
       "483   Sí!! Estoy dispuesta a invertirme en mí y comp...                                                                                                                                                                                                        \n",
       "277   Sí!! Estoy dispuesta a invertirme en mí y comp...                                                                                                                                                                                                        \n",
       "1022  No, estoy comprometida ni puedo invertir prefi...                                                                                                                                                                                                        \n",
       "671   Sí!! Estoy dispuesta a invertirme en mí y comp...                                                                                                                                                                                                        \n",
       "253                                                 NaN                                                                                                                                                                                                        \n",
       "1025  Sí!! Estoy dispuesta a invertirme en mí y comp...                                                                                                                                                                                                        \n",
       "476   No, estoy comprometida ni puedo invertir prefi...                                                                                                                                                                                                        \n",
       "202                                                 NaN                                                                                                                                                                                                        \n",
       "125   Sí!! Estoy dispuesta a invertirme en mí y comp...                                                                                                                                                                                                        \n",
       "1224                                                NaN                                                                                                                                                                                                        \n",
       "\n",
       "     response_type    start_date_(utc)  stage_date_(utc)   submit_date_(utc)  \\\n",
       "483      completed 2024-02-10 00:04:24               NaN 2024-02-10 00:17:21   \n",
       "277      completed 2024-05-01 12:35:40               NaN 2024-05-01 12:38:21   \n",
       "1022     completed 2023-02-09 22:17:41               NaN 2023-02-09 22:19:56   \n",
       "671      completed 2023-11-02 12:05:17               NaN 2023-11-02 12:13:24   \n",
       "253      completed 2024-05-14 06:13:27               NaN 2024-05-14 06:14:34   \n",
       "1025     completed 2023-02-09 18:22:16               NaN 2023-02-09 18:26:06   \n",
       "476      completed 2024-02-13 18:34:23               NaN 2024-02-13 18:37:29   \n",
       "202      completed 2024-06-04 15:18:21               NaN 2024-06-04 15:19:43   \n",
       "125      completed 2024-07-04 06:21:52               NaN 2024-07-04 06:24:41   \n",
       "1224     completed 2022-08-24 23:28:02               NaN 2022-08-24 23:30:34   \n",
       "\n",
       "      network_id  tags  \n",
       "483   a90f07be4e   NaN  \n",
       "277   5b61c3b662   NaN  \n",
       "1022  b050896985   NaN  \n",
       "671   817c604b36   NaN  \n",
       "253   3272781825   NaN  \n",
       "1025  34fe82fcb2   NaN  \n",
       "476   0c98d90a25   NaN  \n",
       "202   5d0458d030   NaN  \n",
       "125   1fca155f27   NaN  \n",
       "1224  41e95c6911   NaN  "
      ]
     },
     "execution_count": 7,
     "metadata": {},
     "output_type": "execute_result"
    }
   ],
   "source": [
    "df.sample(10)"
   ]
  },
  {
   "cell_type": "code",
   "execution_count": 8,
   "id": "9ba841ff-0c15-4606-8f91-78fd8d3383d3",
   "metadata": {
    "tags": []
   },
   "outputs": [
    {
     "data": {
      "text/plain": [
       "Index(['#', '¿cómo_te_gusta_que_te_llamemos?',\n",
       "       'para_empezar,_aceptas_la_política_de_privacidad_y_que_te_mandemos_chicha_de_la_buena?',\n",
       "       '{{field01g9cmc9sx965qwjp9reb0q2bj}},_escribe_tu_mejor_correo',\n",
       "       'escribe_tu_teléfono_(*con_prefijo,_si_no_no_te_podremos_contactar*)_para_poder_pasarte_la_información_de_nuestra_sesión_juntas❤️',\n",
       "       '¿en_qué_franja_horaria_vives?',\n",
       "       '-nuestra_terapia_grupal_dura_*16_semanas_*\\n\\n-los_horarios_son_de_*1200_-_1400_pm_o_de_1900_a_2100_pm_*(franja_horaria_españa)\\n\\n-tiene_un_precio_desde*_64€_por_sesiones_de_2_horas__*pero_no_se_paga_por_sesión,_sino_que_te_comprometes_al_proceso_entero_\\n\\n_*esto_implica_tanto_una_inversión_económica,_como_de_tiempo_*__si_esto_no_encaja_en_tus_posibilidades,_te_pedimos,_con_amor,_que_reconsideres_la_reserva__',\n",
       "       'cuéntame,_¿qué_no_está_funcionando_actualmente_en_tu_vida?',\n",
       "       '¿_qué_cambios_te_gustaría_ver_después_de_pasar_por_nuestra_terapia?',\n",
       "       '{{field01g9cmc9sx965qwjp9reb0q2bj}},_¿por_qué_crees_que_conecta_contigo,_nuestra_terapia_grupal,_puede_ayudarte?_',\n",
       "       '-nuestra_terapia_grupal_dura_*16_semanas_*\\n\\n-cada_semana_de_*1900-2100_pm_o_cada_semana_de_1200-1400_pm_*\\n-se_paga_por_*todo_el_proceso*_en_cuotas_de_1/3/6_pagos_mensuales_\\n\\nesto_implica_una_inversión_económica_y_de_tiempo__si_esto_no_encaja_en_tus_posibilidades,_te_pedimos,_con_amor,_que_reconsideres_la_reserva__\\n\\n¿estás_interesada_en_continuar?',\n",
       "       'sí!', 'no,_solo_por_la_tarde!',\n",
       "       'por_las_tardes_a_partir_de_las_3_00pm',\n",
       "       'por_las_tardes_a_partir_de_las_5_00pm',\n",
       "       'por_las_tardes_a_partir_de_las_6_00pm',\n",
       "       'por_las_tardes_a_partir_de_las_7_00pm',\n",
       "       'tu_tiempo_es_oro_y_el_nuestro_también,_reserva_esta_sesión_solo_*si_estás_comprometida_a_asistir__*\\n\\n*-esta_sesión_es_una_sesión_enfocada_a_ver_tu_caso_para_entrar_a_la_terapia_grupal_*_\\n\\nsin_tu_compromiso,_no_puede_haber_avance__¿trato_hecho?',\n",
       "       'response_type', 'start_date_(utc)', 'stage_date_(utc)',\n",
       "       'submit_date_(utc)', 'network_id', 'tags'],\n",
       "      dtype='object')"
      ]
     },
     "execution_count": 8,
     "metadata": {},
     "output_type": "execute_result"
    }
   ],
   "source": [
    "df.columns"
   ]
  },
  {
   "cell_type": "code",
   "execution_count": 9,
   "id": "83ac723e-1a49-4b7a-a3c0-73d46c425254",
   "metadata": {
    "tags": []
   },
   "outputs": [],
   "source": [
    "df.drop(columns=[\"#\",\"sí!\",\"no,_solo_por_la_tarde!\",\"por_las_tardes_a_partir_de_las_3_00pm\",\"por_las_tardes_a_partir_de_las_5_00pm\",\"por_las_tardes_a_partir_de_las_6_00pm\",\"por_las_tardes_a_partir_de_las_7_00pm\", \"stage_date_(utc)\", \"tags\"], inplace=True)"
   ]
  },
  {
   "cell_type": "code",
   "execution_count": 10,
   "id": "f63427e8-4a98-450b-b4f4-1048050d972c",
   "metadata": {
    "tags": []
   },
   "outputs": [],
   "source": [
    "df = df.rename(columns={\"¿cómo_te_gusta_que_te_llamemos?\":\"nombre\",\n",
    "                   \"para_empezar,_aceptas_la_política_de_privacidad_y_que_te_mandemos_chicha_de_la_buena?\":\"politica_privacidad\",\n",
    "                   \"{{field01g9cmc9sx965qwjp9reb0q2bj}},_escribe_tu_mejor_correo\":\"email\",\n",
    "                   \"escribe_tu_teléfono_(*con_prefijo,_si_no_no_te_podremos_contactar*)_para_poder_pasarte_la_información_de_nuestra_sesión_juntas❤️\":\"telefono\",\n",
    "                   \"¿en_qué_franja_horaria_vives?\":\"zona_horaria\",\n",
    "                   \"-nuestra_terapia_grupal_dura_*16_semanas_*\\n\\n-los_horarios_son_de_*1200_-_1400_pm_o_de_1900_a_2100_pm_*(franja_horaria_españa)\\n\\n-tiene_un_precio_desde*_64€_por_sesiones_de_2_horas__*pero_no_se_paga_por_sesión,_sino_que_te_comprometes_al_proceso_entero_\\n\\n_*esto_implica_tanto_una_inversión_económica,_como_de_tiempo_*__si_esto_no_encaja_en_tus_posibilidades,_te_pedimos,_con_amor,_que_reconsideres_la_reserva__\":\"condiciones_terapia\",\n",
    "                   \"cuéntame,_¿qué_no_está_funcionando_actualmente_en_tu_vida?\":\"problema_principal\",\n",
    "                   \"¿_qué_cambios_te_gustaría_ver_después_de_pasar_por_nuestra_terapia?\":\"cambios_deseados\",\n",
    "                   \"{{field01g9cmc9sx965qwjp9reb0q2bj}},_¿por_qué_crees_que_conecta_contigo,_nuestra_terapia_grupal,_puede_ayudarte?_\":\"busqueda_en_terapia\",\n",
    "                   \"-nuestra_terapia_grupal_dura_*16_semanas_*\\n\\n-cada_semana_de_*1900-2100_pm_o_cada_semana_de_1200-1400_pm_*\\n-se_paga_por_*todo_el_proceso*_en_cuotas_de_1/3/6_pagos_mensuales_\\n\\nesto_implica_una_inversión_económica_y_de_tiempo__si_esto_no_encaja_en_tus_posibilidades,_te_pedimos,_con_amor,_que_reconsideres_la_reserva__\\n\\n¿estás_interesada_en_continuar?\":\"interes_reserva\",\n",
    "                   \"tu_tiempo_es_oro_y_el_nuestro_también,_reserva_esta_sesión_solo_*si_estás_comprometida_a_asistir__*\\n\\n*-esta_sesión_es_una_sesión_enfocada_a_ver_tu_caso_para_entrar_a_la_terapia_grupal_*_\\n\\nsin_tu_compromiso,_no_puede_haber_avance__¿trato_hecho?\":\"interes_sesion_personal\",\n",
    "                   \"start_date_(utc)\":\"start_date\",\n",
    "                   \"submit_date_(utc)\":\"submit_date\"\n",
    "                  })"
   ]
  },
  {
   "cell_type": "code",
   "execution_count": 11,
   "id": "56dcc954-48f0-408b-a937-4209067aa925",
   "metadata": {
    "tags": []
   },
   "outputs": [
    {
     "data": {
      "text/html": [
       "<div>\n",
       "<style scoped>\n",
       "    .dataframe tbody tr th:only-of-type {\n",
       "        vertical-align: middle;\n",
       "    }\n",
       "\n",
       "    .dataframe tbody tr th {\n",
       "        vertical-align: top;\n",
       "    }\n",
       "\n",
       "    .dataframe thead th {\n",
       "        text-align: right;\n",
       "    }\n",
       "</style>\n",
       "<table border=\"1\" class=\"dataframe\">\n",
       "  <thead>\n",
       "    <tr style=\"text-align: right;\">\n",
       "      <th></th>\n",
       "      <th>nombre</th>\n",
       "      <th>politica_privacidad</th>\n",
       "      <th>email</th>\n",
       "      <th>telefono</th>\n",
       "      <th>zona_horaria</th>\n",
       "      <th>condiciones_terapia</th>\n",
       "      <th>problema_principal</th>\n",
       "      <th>cambios_deseados</th>\n",
       "      <th>busqueda_en_terapia</th>\n",
       "      <th>interes_reserva</th>\n",
       "      <th>interes_sesion_personal</th>\n",
       "      <th>response_type</th>\n",
       "      <th>start_date</th>\n",
       "      <th>submit_date</th>\n",
       "      <th>network_id</th>\n",
       "    </tr>\n",
       "  </thead>\n",
       "  <tbody>\n",
       "    <tr>\n",
       "      <th>327</th>\n",
       "      <td>Zaymy</td>\n",
       "      <td>Acepto! yes!</td>\n",
       "      <td>zaymypaulino@gmail.com</td>\n",
       "      <td>4.917772e+11</td>\n",
       "      <td>Europa</td>\n",
       "      <td>NaN</td>\n",
       "      <td>Me siento sola, procrastinando mucho y sufrien...</td>\n",
       "      <td>Me gustaría entenderme más y poder conectar co...</td>\n",
       "      <td>Nunca he asistido a terapia grupal y me causa ...</td>\n",
       "      <td>Sí, estoy dispuesta a invertir en mí y tengo d...</td>\n",
       "      <td>Sí!! Estoy dispuesta a invertirme en mí y comp...</td>\n",
       "      <td>completed</td>\n",
       "      <td>2024-04-01 22:41:59</td>\n",
       "      <td>2024-04-01 22:46:02</td>\n",
       "      <td>6acb82028b</td>\n",
       "    </tr>\n",
       "    <tr>\n",
       "      <th>104</th>\n",
       "      <td>Marcela</td>\n",
       "      <td>Acepto! yes!</td>\n",
       "      <td>Yanez.psp@gmail.com</td>\n",
       "      <td>5.697205e+10</td>\n",
       "      <td>Latino America/USA</td>\n",
       "      <td>No se ajusta a mis posibilidades 🙏🏽</td>\n",
       "      <td>NaN</td>\n",
       "      <td>NaN</td>\n",
       "      <td>NaN</td>\n",
       "      <td>NaN</td>\n",
       "      <td>NaN</td>\n",
       "      <td>completed</td>\n",
       "      <td>2024-07-17 02:12:44</td>\n",
       "      <td>2024-07-17 02:14:23</td>\n",
       "      <td>829e320e19</td>\n",
       "    </tr>\n",
       "    <tr>\n",
       "      <th>894</th>\n",
       "      <td>Montse</td>\n",
       "      <td>Acepto! yes!</td>\n",
       "      <td>montse.hoy@hotmail.com</td>\n",
       "      <td>NaN</td>\n",
       "      <td>NaN</td>\n",
       "      <td>NaN</td>\n",
       "      <td>Yo misma</td>\n",
       "      <td>Más contenta e ilusionada, feliz</td>\n",
       "      <td>Porqué he oído tus audios y me han parecido y ...</td>\n",
       "      <td>Sí, estoy dispuesta a invertir en mí y tengo d...</td>\n",
       "      <td>Sí!! Estoy dispuesta a invertirme en mí y comp...</td>\n",
       "      <td>completed</td>\n",
       "      <td>2023-05-09 17:25:02</td>\n",
       "      <td>2023-05-09 17:27:59</td>\n",
       "      <td>4e20b97f07</td>\n",
       "    </tr>\n",
       "    <tr>\n",
       "      <th>980</th>\n",
       "      <td>Àngela</td>\n",
       "      <td>Acepto! yes!</td>\n",
       "      <td>angelaggels@gmail.com</td>\n",
       "      <td>NaN</td>\n",
       "      <td>NaN</td>\n",
       "      <td>NaN</td>\n",
       "      <td>Mi forma de gestionar ciertas situaciones soci...</td>\n",
       "      <td>Paz y calma en mi interior. Aprender a gestion...</td>\n",
       "      <td>No me cierro a nada, y amo el podcast, me sien...</td>\n",
       "      <td>Sí, estoy dispuesta a invertir en mí y tengo d...</td>\n",
       "      <td>Sí!! Estoy dispuesta a invertirme en mí y comp...</td>\n",
       "      <td>completed</td>\n",
       "      <td>2023-02-28 08:23:37</td>\n",
       "      <td>2023-02-28 08:27:00</td>\n",
       "      <td>c09dcdc8b4</td>\n",
       "    </tr>\n",
       "    <tr>\n",
       "      <th>206</th>\n",
       "      <td>Joi</td>\n",
       "      <td>Acepto! yes!</td>\n",
       "      <td>kaicomplejo@gmail.com</td>\n",
       "      <td>5.411762e+11</td>\n",
       "      <td>Latino America/USA</td>\n",
       "      <td>No se ajusta a mis posibilidades 🙏🏽</td>\n",
       "      <td>NaN</td>\n",
       "      <td>NaN</td>\n",
       "      <td>NaN</td>\n",
       "      <td>NaN</td>\n",
       "      <td>NaN</td>\n",
       "      <td>completed</td>\n",
       "      <td>2024-06-04 12:22:18</td>\n",
       "      <td>2024-06-04 12:23:23</td>\n",
       "      <td>b7df496c37</td>\n",
       "    </tr>\n",
       "  </tbody>\n",
       "</table>\n",
       "</div>"
      ],
      "text/plain": [
       "      nombre politica_privacidad                   email      telefono  \\\n",
       "327    Zaymy        Acepto! yes!  zaymypaulino@gmail.com  4.917772e+11   \n",
       "104  Marcela        Acepto! yes!     Yanez.psp@gmail.com  5.697205e+10   \n",
       "894   Montse        Acepto! yes!  montse.hoy@hotmail.com           NaN   \n",
       "980   Àngela        Acepto! yes!   angelaggels@gmail.com           NaN   \n",
       "206      Joi        Acepto! yes!   kaicomplejo@gmail.com  5.411762e+11   \n",
       "\n",
       "           zona_horaria                  condiciones_terapia  \\\n",
       "327              Europa                                  NaN   \n",
       "104  Latino America/USA  No se ajusta a mis posibilidades 🙏🏽   \n",
       "894                 NaN                                  NaN   \n",
       "980                 NaN                                  NaN   \n",
       "206  Latino America/USA  No se ajusta a mis posibilidades 🙏🏽   \n",
       "\n",
       "                                    problema_principal  \\\n",
       "327  Me siento sola, procrastinando mucho y sufrien...   \n",
       "104                                                NaN   \n",
       "894                                           Yo misma   \n",
       "980  Mi forma de gestionar ciertas situaciones soci...   \n",
       "206                                                NaN   \n",
       "\n",
       "                                      cambios_deseados  \\\n",
       "327  Me gustaría entenderme más y poder conectar co...   \n",
       "104                                                NaN   \n",
       "894                   Más contenta e ilusionada, feliz   \n",
       "980  Paz y calma en mi interior. Aprender a gestion...   \n",
       "206                                                NaN   \n",
       "\n",
       "                                   busqueda_en_terapia  \\\n",
       "327  Nunca he asistido a terapia grupal y me causa ...   \n",
       "104                                                NaN   \n",
       "894  Porqué he oído tus audios y me han parecido y ...   \n",
       "980  No me cierro a nada, y amo el podcast, me sien...   \n",
       "206                                                NaN   \n",
       "\n",
       "                                       interes_reserva  \\\n",
       "327  Sí, estoy dispuesta a invertir en mí y tengo d...   \n",
       "104                                                NaN   \n",
       "894  Sí, estoy dispuesta a invertir en mí y tengo d...   \n",
       "980  Sí, estoy dispuesta a invertir en mí y tengo d...   \n",
       "206                                                NaN   \n",
       "\n",
       "                               interes_sesion_personal response_type  \\\n",
       "327  Sí!! Estoy dispuesta a invertirme en mí y comp...     completed   \n",
       "104                                                NaN     completed   \n",
       "894  Sí!! Estoy dispuesta a invertirme en mí y comp...     completed   \n",
       "980  Sí!! Estoy dispuesta a invertirme en mí y comp...     completed   \n",
       "206                                                NaN     completed   \n",
       "\n",
       "             start_date         submit_date  network_id  \n",
       "327 2024-04-01 22:41:59 2024-04-01 22:46:02  6acb82028b  \n",
       "104 2024-07-17 02:12:44 2024-07-17 02:14:23  829e320e19  \n",
       "894 2023-05-09 17:25:02 2023-05-09 17:27:59  4e20b97f07  \n",
       "980 2023-02-28 08:23:37 2023-02-28 08:27:00  c09dcdc8b4  \n",
       "206 2024-06-04 12:22:18 2024-06-04 12:23:23  b7df496c37  "
      ]
     },
     "execution_count": 11,
     "metadata": {},
     "output_type": "execute_result"
    }
   ],
   "source": [
    "df.sample(5)"
   ]
  },
  {
   "cell_type": "code",
   "execution_count": 12,
   "id": "363709e8-b616-40fe-aa96-f7c69c1802c2",
   "metadata": {
    "tags": []
   },
   "outputs": [
    {
     "data": {
      "text/plain": [
       "nombre                             object\n",
       "politica_privacidad                object\n",
       "email                              object\n",
       "telefono                          float64\n",
       "zona_horaria                       object\n",
       "condiciones_terapia                object\n",
       "problema_principal                 object\n",
       "cambios_deseados                   object\n",
       "busqueda_en_terapia                object\n",
       "interes_reserva                    object\n",
       "interes_sesion_personal            object\n",
       "response_type                      object\n",
       "start_date                 datetime64[ns]\n",
       "submit_date                datetime64[ns]\n",
       "network_id                         object\n",
       "dtype: object"
      ]
     },
     "execution_count": 12,
     "metadata": {},
     "output_type": "execute_result"
    }
   ],
   "source": [
    "df.dtypes"
   ]
  },
  {
   "cell_type": "markdown",
   "id": "56fff22b-3805-4fcb-aff4-2cfba100542f",
   "metadata": {},
   "source": [
    "### Leyenda de columnas:\n",
    "\n",
    "**nombre**: nombre de pila\n",
    "\n",
    "**politica_privacidad**: acepta políticas de privacidad y consentimiento publicitario\n",
    "\n",
    "**email**: correo electrónico\n",
    "\n",
    "**telefono**: telefono con extensión\n",
    "\n",
    "**zona_horaria**: 3 zonas contempladas (Europa, Latam/USA, Asia/Australia)\n",
    "\n",
    "**condiciones_terapia**: la usuaria puede asumir condiciones y precio de terapia grupal\n",
    "\n",
    "**problema_principal**: qué no funciona en sus vidas para buscar terapia grupal\n",
    "\n",
    "**cambios_deseados**: qué buscan cambiar gracias a la terapia grupal\n",
    "\n",
    "**busqueda_en_terapia**: cómo creen que la terapia grupañ les ayudará\n",
    "\n",
    "**interes_reserva**: si están interesadas en reservar plaza\n",
    "\n",
    "**interes_sesion_personal**: si están interesadas en realizar una sesión personalizada sobre su caso en específico de cara a entrar en la terapia grupal\n",
    "\n",
    "**start_date**: momento en que comienzan el typeform\n",
    "\n",
    "**submit_date**: momento en que finalizan el typeform\n",
    "\n",
    "**network_id**: id específico de su entrada"
   ]
  },
  {
   "cell_type": "markdown",
   "id": "aa53647b-389f-46ad-b088-4b1036e75079",
   "metadata": {},
   "source": [
    "## STANDARIZATION & NULLS"
   ]
  },
  {
   "cell_type": "markdown",
   "id": "4a85404a-5e4e-4b96-991e-5781f6af1f30",
   "metadata": {},
   "source": [
    "### Cleaning functions"
   ]
  },
  {
   "cell_type": "code",
   "execution_count": 13,
   "id": "0934cba7-8534-4484-871f-1bd5a4fd67e9",
   "metadata": {
    "tags": []
   },
   "outputs": [],
   "source": [
    "# replace and fillna\n",
    "\n",
    "def replace_fillna(df, column_name, replace_dict=None, fill_value=None):\n",
    "    if replace_dict:\n",
    "        df[column_name] = df[column_name].replace(replace_dict)\n",
    "    if fill_value is not None:\n",
    "        df[column_name] = df[column_name].fillna(fill_value)\n",
    "    return df"
   ]
  },
  {
   "cell_type": "code",
   "execution_count": 14,
   "id": "6f89c3f5-cade-496d-9efc-77cc10e86694",
   "metadata": {},
   "outputs": [],
   "source": [
    "# format clean telephone\n",
    "\n",
    "def format_phone(phone):\n",
    "    if pd.isna(phone):\n",
    "        return phone\n",
    "    else:\n",
    "        phone_str = str(phone)\n",
    "        phone_str = phone_str.split(\".\")[0]\n",
    "        return f\"+{phone_str[:2]} {phone_str[2:5]} {phone_str[5:7]} {phone_str[7:9]} {phone_str[9:]}\""
   ]
  },
  {
   "cell_type": "code",
   "execution_count": 15,
   "id": "855eab9f-72e3-4ce0-bcb8-de9386aaf727",
   "metadata": {},
   "outputs": [],
   "source": [
    "# Obtainin phone code number\n",
    "\n",
    "def country_code(value, skip_value=\"Sin completar\"):\n",
    "    if value == skip_value:\n",
    "        return value\n",
    "    else:\n",
    "        return str(value).split(\" \")[0]\n",
    "    \n",
    "def apply_country_code(df, column_name, new_column_name, skip_value=\"Sin completar\"):\n",
    "    df[new_column_name] = df[column_name].apply(lambda x: country_code(x, skip_value))\n",
    "    return df[new_column_name]"
   ]
  },
  {
   "cell_type": "code",
   "execution_count": 16,
   "id": "81625ecb-69eb-456b-bd99-0ef689412ad8",
   "metadata": {
    "tags": []
   },
   "outputs": [],
   "source": [
    "# Obtainin country through phone code\n",
    "\n",
    "def country(code, skip_value=\"Sin completar\"):\n",
    "    if code == skip_value:\n",
    "        return \"Desconocido\"\n",
    "    else:\n",
    "        return country_by_code.get(code)"
   ]
  },
  {
   "cell_type": "markdown",
   "id": "4eff869d-8e9b-4c00-9fb2-e5f73e1b6dbc",
   "metadata": {
    "tags": []
   },
   "source": [
    "### Política de Privacidad"
   ]
  },
  {
   "cell_type": "code",
   "execution_count": 17,
   "id": "8ffbbe53-7456-4fdc-a9bd-5c5eb9845a9d",
   "metadata": {
    "tags": []
   },
   "outputs": [
    {
     "data": {
      "text/plain": [
       "politica_privacidad\n",
       "Acepto! yes!    1069\n",
       "Name: count, dtype: int64"
      ]
     },
     "execution_count": 17,
     "metadata": {},
     "output_type": "execute_result"
    }
   ],
   "source": [
    "df[\"politica_privacidad\"].value_counts()"
   ]
  },
  {
   "cell_type": "code",
   "execution_count": 18,
   "id": "32517709-beda-4b45-9164-3142812d0ba3",
   "metadata": {
    "tags": []
   },
   "outputs": [],
   "source": [
    "df = replace_fillna(df, \"politica_privacidad\", replace_dict={\"Acepto! yes!\":\"Yes\"}, fill_value=\"No\")"
   ]
  },
  {
   "cell_type": "code",
   "execution_count": 19,
   "id": "0cf64e7b-970c-42d9-9738-7704627fcdb8",
   "metadata": {
    "tags": []
   },
   "outputs": [
    {
     "data": {
      "text/plain": [
       "politica_privacidad\n",
       "Yes    1069\n",
       "No      170\n",
       "Name: count, dtype: int64"
      ]
     },
     "execution_count": 19,
     "metadata": {},
     "output_type": "execute_result"
    }
   ],
   "source": [
    "df[\"politica_privacidad\"].value_counts()"
   ]
  },
  {
   "cell_type": "markdown",
   "id": "272691c3-ed6e-48f7-a533-288b2cb68c72",
   "metadata": {},
   "source": [
    "#### Teléfono"
   ]
  },
  {
   "cell_type": "code",
   "execution_count": 20,
   "id": "2eb08c91-2477-4d98-8291-40ea9d8388ac",
   "metadata": {
    "tags": []
   },
   "outputs": [
    {
     "data": {
      "text/plain": [
       "0       5.233226e+11\n",
       "1       5.198916e+10\n",
       "2       3.934979e+11\n",
       "3       5.492604e+12\n",
       "4       5.699234e+10\n",
       "            ...     \n",
       "1234             NaN\n",
       "1235             NaN\n",
       "1236             NaN\n",
       "1237             NaN\n",
       "1238             NaN\n",
       "Name: telefono, Length: 1239, dtype: float64"
      ]
     },
     "execution_count": 20,
     "metadata": {},
     "output_type": "execute_result"
    }
   ],
   "source": [
    "df[\"telefono\"]"
   ]
  },
  {
   "cell_type": "code",
   "execution_count": 21,
   "id": "5e83fdd6-ac11-4794-a602-628f5ac920d8",
   "metadata": {
    "tags": []
   },
   "outputs": [],
   "source": [
    "df[\"telefono\"] = df[\"telefono\"].apply(format_phone)"
   ]
  },
  {
   "cell_type": "code",
   "execution_count": 22,
   "id": "511cb18d-9de6-4414-b98e-d8ba4b0a5411",
   "metadata": {
    "tags": []
   },
   "outputs": [
    {
     "data": {
      "text/plain": [
       "372"
      ]
     },
     "execution_count": 22,
     "metadata": {},
     "output_type": "execute_result"
    }
   ],
   "source": [
    "df[\"telefono\"].isna().sum()"
   ]
  },
  {
   "cell_type": "code",
   "execution_count": 23,
   "id": "f8d73232-86a5-41b4-8d0c-9aab3c3c8d8e",
   "metadata": {
    "tags": []
   },
   "outputs": [],
   "source": [
    "df[\"telefono\"] = df[\"telefono\"].fillna(\"Sin completar\")"
   ]
  },
  {
   "cell_type": "code",
   "execution_count": 24,
   "id": "02bb023b-4b07-4b76-b2fa-8d319d269ba9",
   "metadata": {
    "tags": []
   },
   "outputs": [
    {
     "data": {
      "text/plain": [
       "411      +34 607 08 64 28\n",
       "591      +34 633 36 06 32\n",
       "78       +34 646 13 25 46\n",
       "157      +34 686 90 84 84\n",
       "1113        Sin completar\n",
       "587     +44 746 38 80 707\n",
       "1157        Sin completar\n",
       "51       +34 649 17 44 68\n",
       "1054        Sin completar\n",
       "2       +39 349 79 31 372\n",
       "Name: telefono, dtype: object"
      ]
     },
     "execution_count": 24,
     "metadata": {},
     "output_type": "execute_result"
    }
   ],
   "source": [
    "df[\"telefono\"].sample(10)"
   ]
  },
  {
   "cell_type": "markdown",
   "id": "e856e21f-0cf3-4674-9cda-8ac816c5a1ce",
   "metadata": {
    "tags": []
   },
   "source": [
    "### Zona horaria"
   ]
  },
  {
   "cell_type": "code",
   "execution_count": 25,
   "id": "14ef8601-deea-48d1-9d03-d263ee7bd4f1",
   "metadata": {
    "tags": []
   },
   "outputs": [
    {
     "data": {
      "text/plain": [
       "zona_horaria\n",
       "Europa                231\n",
       "Latino America/USA    124\n",
       "Asia/Australia          6\n",
       "Name: count, dtype: int64"
      ]
     },
     "execution_count": 25,
     "metadata": {},
     "output_type": "execute_result"
    }
   ],
   "source": [
    "df[\"zona_horaria\"].value_counts()"
   ]
  },
  {
   "cell_type": "code",
   "execution_count": 26,
   "id": "df444380-12e2-411f-886a-4df73beddf90",
   "metadata": {
    "tags": []
   },
   "outputs": [],
   "source": [
    "df = replace_fillna(df, \"zona_horaria\", replace_dict={\"Europa\":\"Europa\", \"Latino America/USA\":\"Latam/USA\", \"Asia/Australia\":\"Asia/Australia\"}, fill_value=\"Sin completar\")"
   ]
  },
  {
   "cell_type": "code",
   "execution_count": 27,
   "id": "460fa69c-51a1-4d68-896f-218f02f59114",
   "metadata": {
    "tags": []
   },
   "outputs": [
    {
     "data": {
      "text/plain": [
       "zona_horaria\n",
       "Sin completar     878\n",
       "Europa            231\n",
       "Latam/USA         124\n",
       "Asia/Australia      6\n",
       "Name: count, dtype: int64"
      ]
     },
     "execution_count": 27,
     "metadata": {},
     "output_type": "execute_result"
    }
   ],
   "source": [
    "df[\"zona_horaria\"].value_counts()"
   ]
  },
  {
   "cell_type": "markdown",
   "id": "a4d2d6ae-72da-4bf9-b6ed-623152a8dba5",
   "metadata": {},
   "source": [
    "### Condiciones terapia"
   ]
  },
  {
   "cell_type": "code",
   "execution_count": 28,
   "id": "d787c6d0-6be8-4fff-af1a-0ba7d5a7a2c0",
   "metadata": {
    "tags": []
   },
   "outputs": [
    {
     "data": {
      "text/plain": [
       "condiciones_terapia\n",
       "NaN                                    1115\n",
       "No se ajusta a mis posibilidades 🙏🏽     106\n",
       "Sí se ajusta a mis posibilidades ❤️      18\n",
       "Name: count, dtype: int64"
      ]
     },
     "execution_count": 28,
     "metadata": {},
     "output_type": "execute_result"
    }
   ],
   "source": [
    "df[\"condiciones_terapia\"].value_counts(dropna=False)"
   ]
  },
  {
   "cell_type": "code",
   "execution_count": 29,
   "id": "08c72cea-36fe-45a6-a688-c6a55732635e",
   "metadata": {
    "tags": []
   },
   "outputs": [],
   "source": [
    "df = replace_fillna(df, \"condiciones_terapia\", replace_dict={\"No se ajusta a mis posibilidades 🙏🏽\":\"No (Latam)\", \"Sí se ajusta a mis posibilidades ❤️\":\"Yes (Latam)\"}, fill_value=\"Yes\")"
   ]
  },
  {
   "cell_type": "code",
   "execution_count": 30,
   "id": "0b357cf3-6112-464f-bae0-bd423a625a7f",
   "metadata": {
    "tags": []
   },
   "outputs": [
    {
     "data": {
      "text/plain": [
       "condiciones_terapia\n",
       "Yes            1115\n",
       "No (Latam)      106\n",
       "Yes (Latam)      18\n",
       "Name: count, dtype: int64"
      ]
     },
     "execution_count": 30,
     "metadata": {},
     "output_type": "execute_result"
    }
   ],
   "source": [
    "df[\"condiciones_terapia\"].value_counts(dropna=False)"
   ]
  },
  {
   "cell_type": "markdown",
   "id": "9064d7e2-905d-4a7a-be35-b80366aefab4",
   "metadata": {},
   "source": [
    "#### Problema principal - Cambios deseados - Búsqueda en terapia"
   ]
  },
  {
   "cell_type": "code",
   "execution_count": 31,
   "id": "637a3edd-9611-4609-a00b-1808063c5172",
   "metadata": {
    "tags": []
   },
   "outputs": [],
   "source": [
    "columnas_nan = [\"problema_principal\", \"cambios_deseados\", \"busqueda_en_terapia\"]"
   ]
  },
  {
   "cell_type": "code",
   "execution_count": 32,
   "id": "4e3e1a08-0f38-4f68-8a7d-a774ded39512",
   "metadata": {
    "tags": []
   },
   "outputs": [],
   "source": [
    "df[columnas_nan] = df[columnas_nan].fillna(\"Sin completar\")"
   ]
  },
  {
   "cell_type": "markdown",
   "id": "2139194f-b1ba-40a9-8050-33a5defe7593",
   "metadata": {},
   "source": [
    "### Interés reserva"
   ]
  },
  {
   "cell_type": "code",
   "execution_count": 33,
   "id": "f387fb7d-3be3-4f62-b0ea-40906efbbb95",
   "metadata": {
    "tags": []
   },
   "outputs": [
    {
     "data": {
      "text/plain": [
       "interes_reserva\n",
       "Sí, estoy dispuesta a invertir en mí y tengo disponibilidad semanal.                                        439\n",
       "Sí, estoy dispuesta a invertir en mí y tengo disponibilidad semanal, aunque me cuadraría pagar a plazos.    331\n",
       "No, ahora mismo no estoy dispuesta a invertir en terapia.                                                   258\n",
       "NaN                                                                                                         211\n",
       "Name: count, dtype: int64"
      ]
     },
     "execution_count": 33,
     "metadata": {},
     "output_type": "execute_result"
    }
   ],
   "source": [
    "df[\"interes_reserva\"].value_counts(dropna=False)"
   ]
  },
  {
   "cell_type": "code",
   "execution_count": 34,
   "id": "5dfc1cbf-fa22-47a6-bf46-1edb813f2f92",
   "metadata": {
    "tags": []
   },
   "outputs": [],
   "source": [
    "df = replace_fillna(df, \"interes_reserva\", replace_dict={\"Sí, estoy dispuesta a invertir en mí y tengo disponibilidad semanal.\":\"Yes\", \n",
    "                                                         \"Sí, estoy dispuesta a invertir en mí y tengo disponibilidad semanal, aunque me cuadraría pagar a plazos.\":\"Yes (Pago plazos)\",\n",
    "                                                         \"No, ahora mismo no estoy dispuesta a invertir en terapia.\":\"No\"\n",
    "                                                        }, \n",
    "                                                         fill_value=\"Sin completar\")"
   ]
  },
  {
   "cell_type": "code",
   "execution_count": 35,
   "id": "786c0432-6759-41d5-b35d-b0b5c58f4a78",
   "metadata": {
    "tags": []
   },
   "outputs": [
    {
     "data": {
      "text/plain": [
       "interes_reserva\n",
       "Yes                  439\n",
       "Yes (Pago plazos)    331\n",
       "No                   258\n",
       "Sin completar        211\n",
       "Name: count, dtype: int64"
      ]
     },
     "execution_count": 35,
     "metadata": {},
     "output_type": "execute_result"
    }
   ],
   "source": [
    "df[\"interes_reserva\"].value_counts(dropna=False)"
   ]
  },
  {
   "cell_type": "markdown",
   "id": "c8041b63-2b4b-48d2-a6f4-25ac3719afde",
   "metadata": {},
   "source": [
    "#### Interés Sesión personalizada"
   ]
  },
  {
   "cell_type": "code",
   "execution_count": 36,
   "id": "68b363aa-b1f4-4400-83a8-47a63f86b803",
   "metadata": {
    "tags": []
   },
   "outputs": [
    {
     "data": {
      "text/plain": [
       "interes_sesion_personal\n",
       "Sí!! Estoy dispuesta a invertirme en mí y comprometida a asistir.    820\n",
       "NaN                                                                  265\n",
       "No, estoy comprometida ni puedo invertir prefiero no seguir          154\n",
       "Name: count, dtype: int64"
      ]
     },
     "execution_count": 36,
     "metadata": {},
     "output_type": "execute_result"
    }
   ],
   "source": [
    "df[\"interes_sesion_personal\"].value_counts(dropna=False)"
   ]
  },
  {
   "cell_type": "code",
   "execution_count": 37,
   "id": "4ef653d3-5f70-417f-8cf7-6f35ce1f5412",
   "metadata": {
    "tags": []
   },
   "outputs": [],
   "source": [
    "df = replace_fillna(df, \"interes_sesion_personal\", replace_dict={\"Sí!! Estoy dispuesta a invertirme en mí y comprometida a asistir.\":\"Yes\", \n",
    "                                                         \"No, estoy comprometida ni puedo invertir prefiero no seguir\":\"No\"\n",
    "                                                        }, \n",
    "                                                         fill_value=\"Sin completar\")"
   ]
  },
  {
   "cell_type": "code",
   "execution_count": 38,
   "id": "0cab163b-b284-4627-9f7a-46d9e85aaca3",
   "metadata": {
    "tags": []
   },
   "outputs": [
    {
     "data": {
      "text/plain": [
       "interes_sesion_personal\n",
       "Yes              820\n",
       "Sin completar    265\n",
       "No               154\n",
       "Name: count, dtype: int64"
      ]
     },
     "execution_count": 38,
     "metadata": {},
     "output_type": "execute_result"
    }
   ],
   "source": [
    "df[\"interes_sesion_personal\"].value_counts(dropna=False)"
   ]
  },
  {
   "cell_type": "code",
   "execution_count": 39,
   "id": "d0c744d2-8016-462a-8a19-8606e2af34bf",
   "metadata": {
    "tags": []
   },
   "outputs": [
    {
     "data": {
      "text/html": [
       "<div>\n",
       "<style scoped>\n",
       "    .dataframe tbody tr th:only-of-type {\n",
       "        vertical-align: middle;\n",
       "    }\n",
       "\n",
       "    .dataframe tbody tr th {\n",
       "        vertical-align: top;\n",
       "    }\n",
       "\n",
       "    .dataframe thead th {\n",
       "        text-align: right;\n",
       "    }\n",
       "</style>\n",
       "<table border=\"1\" class=\"dataframe\">\n",
       "  <thead>\n",
       "    <tr style=\"text-align: right;\">\n",
       "      <th></th>\n",
       "      <th>nombre</th>\n",
       "      <th>politica_privacidad</th>\n",
       "      <th>email</th>\n",
       "      <th>telefono</th>\n",
       "      <th>zona_horaria</th>\n",
       "      <th>condiciones_terapia</th>\n",
       "      <th>problema_principal</th>\n",
       "      <th>cambios_deseados</th>\n",
       "      <th>busqueda_en_terapia</th>\n",
       "      <th>interes_reserva</th>\n",
       "      <th>interes_sesion_personal</th>\n",
       "      <th>response_type</th>\n",
       "      <th>start_date</th>\n",
       "      <th>submit_date</th>\n",
       "      <th>network_id</th>\n",
       "    </tr>\n",
       "  </thead>\n",
       "  <tbody>\n",
       "    <tr>\n",
       "      <th>928</th>\n",
       "      <td>Cami</td>\n",
       "      <td>Yes</td>\n",
       "      <td>camilakohn13@hmail.com</td>\n",
       "      <td>Sin completar</td>\n",
       "      <td>Sin completar</td>\n",
       "      <td>Yes</td>\n",
       "      <td>Me cuesta tener confianza conmigo misma y soltar.</td>\n",
       "      <td>Me gustaría recuperar la confianza, empatizar ...</td>\n",
       "      <td>Me interesa que sea grupal y me gusta escucharlas</td>\n",
       "      <td>Yes (Pago plazos)</td>\n",
       "      <td>Yes</td>\n",
       "      <td>completed</td>\n",
       "      <td>2023-04-11 11:51:36</td>\n",
       "      <td>2023-04-11 11:56:10</td>\n",
       "      <td>1996b5f172</td>\n",
       "    </tr>\n",
       "    <tr>\n",
       "      <th>302</th>\n",
       "      <td>x</td>\n",
       "      <td>Yes</td>\n",
       "      <td>notengo@nontengo.com</td>\n",
       "      <td>+34 600 00 00 00</td>\n",
       "      <td>Europa</td>\n",
       "      <td>Yes</td>\n",
       "      <td>lkjlkj</td>\n",
       "      <td>ljlkjkl</td>\n",
       "      <td>lkjlkj</td>\n",
       "      <td>Yes</td>\n",
       "      <td>Yes</td>\n",
       "      <td>completed</td>\n",
       "      <td>2024-04-18 18:38:57</td>\n",
       "      <td>2024-04-18 18:39:54</td>\n",
       "      <td>55a66153e2</td>\n",
       "    </tr>\n",
       "    <tr>\n",
       "      <th>22</th>\n",
       "      <td>Noeli</td>\n",
       "      <td>Yes</td>\n",
       "      <td>noe_7_33@hotmail.com</td>\n",
       "      <td>+34 680 62 73 69</td>\n",
       "      <td>Europa</td>\n",
       "      <td>Yes</td>\n",
       "      <td>Mis relaciones con los chicos , tuve una relac...</td>\n",
       "      <td>Un aumento de mi autoestima que creo que es la...</td>\n",
       "      <td>Creo que puede ser una bonita forma de avanzar</td>\n",
       "      <td>No</td>\n",
       "      <td>Sin completar</td>\n",
       "      <td>completed</td>\n",
       "      <td>2024-09-02 20:55:10</td>\n",
       "      <td>2024-09-02 20:58:06</td>\n",
       "      <td>e5fec7880d</td>\n",
       "    </tr>\n",
       "    <tr>\n",
       "      <th>1083</th>\n",
       "      <td>Laura</td>\n",
       "      <td>Yes</td>\n",
       "      <td>laurapruwe@gmail.com</td>\n",
       "      <td>Sin completar</td>\n",
       "      <td>Sin completar</td>\n",
       "      <td>Yes</td>\n",
       "      <td>Mi compromiso con mi crecimiento personal y há...</td>\n",
       "      <td>Comprometida con mis hábitos, mayor conocimien...</td>\n",
       "      <td>Es creada específicamente para mujeres</td>\n",
       "      <td>Yes (Pago plazos)</td>\n",
       "      <td>Sin completar</td>\n",
       "      <td>completed</td>\n",
       "      <td>2023-01-22 17:04:39</td>\n",
       "      <td>2023-01-22 17:09:06</td>\n",
       "      <td>e4c28f1c0b</td>\n",
       "    </tr>\n",
       "    <tr>\n",
       "      <th>413</th>\n",
       "      <td>Mayo</td>\n",
       "      <td>Yes</td>\n",
       "      <td>marjoriesanchez1508@gmail.com</td>\n",
       "      <td>+56 926 34 90 73</td>\n",
       "      <td>Sin completar</td>\n",
       "      <td>Yes</td>\n",
       "      <td>Mi vida en general</td>\n",
       "      <td>Tener más autoestima</td>\n",
       "      <td>Por los videos que vi creo que me ayudaría</td>\n",
       "      <td>No</td>\n",
       "      <td>Yes</td>\n",
       "      <td>completed</td>\n",
       "      <td>2024-02-28 06:17:29</td>\n",
       "      <td>2024-02-28 06:20:18</td>\n",
       "      <td>83f2ac944b</td>\n",
       "    </tr>\n",
       "    <tr>\n",
       "      <th>1157</th>\n",
       "      <td>Marija</td>\n",
       "      <td>No</td>\n",
       "      <td>masha.sufik@gmail.com</td>\n",
       "      <td>Sin completar</td>\n",
       "      <td>Sin completar</td>\n",
       "      <td>Yes</td>\n",
       "      <td>Sin completar</td>\n",
       "      <td>Sin completar</td>\n",
       "      <td>Sin completar</td>\n",
       "      <td>Sin completar</td>\n",
       "      <td>Sin completar</td>\n",
       "      <td>completed</td>\n",
       "      <td>2022-11-11 09:38:08</td>\n",
       "      <td>2022-11-11 09:39:07</td>\n",
       "      <td>1d7d32ea53</td>\n",
       "    </tr>\n",
       "    <tr>\n",
       "      <th>131</th>\n",
       "      <td>Gema</td>\n",
       "      <td>Yes</td>\n",
       "      <td>gemis_85@hotmail.com</td>\n",
       "      <td>+34 650 73 74 84</td>\n",
       "      <td>Europa</td>\n",
       "      <td>Yes</td>\n",
       "      <td>No lo sé</td>\n",
       "      <td>Saber quién soy</td>\n",
       "      <td>Para poder conocer a otras personas</td>\n",
       "      <td>No</td>\n",
       "      <td>Sin completar</td>\n",
       "      <td>completed</td>\n",
       "      <td>2024-07-02 16:23:30</td>\n",
       "      <td>2024-07-02 16:23:45</td>\n",
       "      <td>fa5eba557f</td>\n",
       "    </tr>\n",
       "    <tr>\n",
       "      <th>999</th>\n",
       "      <td>Dúnia</td>\n",
       "      <td>No</td>\n",
       "      <td>duniafeesparza@gmail.com</td>\n",
       "      <td>Sin completar</td>\n",
       "      <td>Sin completar</td>\n",
       "      <td>Yes</td>\n",
       "      <td>Mi vida personal es un caos</td>\n",
       "      <td>Necesito dejar a mi pareja y seguir con mi vid...</td>\n",
       "      <td>Me hace ver las cosas desde la perspectiva que...</td>\n",
       "      <td>Yes</td>\n",
       "      <td>Yes</td>\n",
       "      <td>completed</td>\n",
       "      <td>2023-02-18 23:27:18</td>\n",
       "      <td>2023-02-18 23:29:37</td>\n",
       "      <td>24151bce92</td>\n",
       "    </tr>\n",
       "    <tr>\n",
       "      <th>679</th>\n",
       "      <td>Sandra</td>\n",
       "      <td>Yes</td>\n",
       "      <td>bizamatani@gmail.com</td>\n",
       "      <td>+54 261 24 09 466</td>\n",
       "      <td>Sin completar</td>\n",
       "      <td>Yes</td>\n",
       "      <td>Altibajos emocionales</td>\n",
       "      <td>Alcanzar más serenidad conmigo misma</td>\n",
       "      <td>Porque estoy segura que el trabajo con otros m...</td>\n",
       "      <td>No</td>\n",
       "      <td>No</td>\n",
       "      <td>completed</td>\n",
       "      <td>2023-10-25 11:10:50</td>\n",
       "      <td>2023-10-25 11:14:38</td>\n",
       "      <td>67e3212385</td>\n",
       "    </tr>\n",
       "    <tr>\n",
       "      <th>221</th>\n",
       "      <td>Carina</td>\n",
       "      <td>Yes</td>\n",
       "      <td>flycaryfer@gmail.com</td>\n",
       "      <td>+84 393 44 95 83</td>\n",
       "      <td>Asia/Australia</td>\n",
       "      <td>Yes</td>\n",
       "      <td>Motivación y relaciones sociales</td>\n",
       "      <td>Mejor estado de animo</td>\n",
       "      <td>Para escuchar y reflexionar</td>\n",
       "      <td>Yes (Pago plazos)</td>\n",
       "      <td>Yes</td>\n",
       "      <td>completed</td>\n",
       "      <td>2024-05-28 15:34:41</td>\n",
       "      <td>2024-05-28 15:38:47</td>\n",
       "      <td>1a48b8b07a</td>\n",
       "    </tr>\n",
       "  </tbody>\n",
       "</table>\n",
       "</div>"
      ],
      "text/plain": [
       "      nombre politica_privacidad                          email  \\\n",
       "928     Cami                 Yes         camilakohn13@hmail.com   \n",
       "302        x                 Yes           notengo@nontengo.com   \n",
       "22     Noeli                 Yes           noe_7_33@hotmail.com   \n",
       "1083   Laura                 Yes           laurapruwe@gmail.com   \n",
       "413     Mayo                 Yes  marjoriesanchez1508@gmail.com   \n",
       "1157  Marija                  No          masha.sufik@gmail.com   \n",
       "131     Gema                 Yes           gemis_85@hotmail.com   \n",
       "999    Dúnia                  No       duniafeesparza@gmail.com   \n",
       "679   Sandra                 Yes           bizamatani@gmail.com   \n",
       "221   Carina                 Yes           flycaryfer@gmail.com   \n",
       "\n",
       "               telefono    zona_horaria condiciones_terapia  \\\n",
       "928       Sin completar   Sin completar                 Yes   \n",
       "302    +34 600 00 00 00          Europa                 Yes   \n",
       "22     +34 680 62 73 69          Europa                 Yes   \n",
       "1083      Sin completar   Sin completar                 Yes   \n",
       "413    +56 926 34 90 73   Sin completar                 Yes   \n",
       "1157      Sin completar   Sin completar                 Yes   \n",
       "131    +34 650 73 74 84          Europa                 Yes   \n",
       "999       Sin completar   Sin completar                 Yes   \n",
       "679   +54 261 24 09 466   Sin completar                 Yes   \n",
       "221    +84 393 44 95 83  Asia/Australia                 Yes   \n",
       "\n",
       "                                     problema_principal  \\\n",
       "928   Me cuesta tener confianza conmigo misma y soltar.   \n",
       "302                                              lkjlkj   \n",
       "22    Mis relaciones con los chicos , tuve una relac...   \n",
       "1083  Mi compromiso con mi crecimiento personal y há...   \n",
       "413                                  Mi vida en general   \n",
       "1157                                      Sin completar   \n",
       "131                                            No lo sé   \n",
       "999                         Mi vida personal es un caos   \n",
       "679                               Altibajos emocionales   \n",
       "221                    Motivación y relaciones sociales   \n",
       "\n",
       "                                       cambios_deseados  \\\n",
       "928   Me gustaría recuperar la confianza, empatizar ...   \n",
       "302                                             ljlkjkl   \n",
       "22    Un aumento de mi autoestima que creo que es la...   \n",
       "1083  Comprometida con mis hábitos, mayor conocimien...   \n",
       "413                                Tener más autoestima   \n",
       "1157                                      Sin completar   \n",
       "131                                     Saber quién soy   \n",
       "999   Necesito dejar a mi pareja y seguir con mi vid...   \n",
       "679                Alcanzar más serenidad conmigo misma   \n",
       "221                               Mejor estado de animo   \n",
       "\n",
       "                                    busqueda_en_terapia    interes_reserva  \\\n",
       "928   Me interesa que sea grupal y me gusta escucharlas  Yes (Pago plazos)   \n",
       "302                                              lkjlkj                Yes   \n",
       "22       Creo que puede ser una bonita forma de avanzar                 No   \n",
       "1083             Es creada específicamente para mujeres  Yes (Pago plazos)   \n",
       "413          Por los videos que vi creo que me ayudaría                 No   \n",
       "1157                                      Sin completar      Sin completar   \n",
       "131                 Para poder conocer a otras personas                 No   \n",
       "999   Me hace ver las cosas desde la perspectiva que...                Yes   \n",
       "679   Porque estoy segura que el trabajo con otros m...                 No   \n",
       "221                         Para escuchar y reflexionar  Yes (Pago plazos)   \n",
       "\n",
       "     interes_sesion_personal response_type          start_date  \\\n",
       "928                      Yes     completed 2023-04-11 11:51:36   \n",
       "302                      Yes     completed 2024-04-18 18:38:57   \n",
       "22             Sin completar     completed 2024-09-02 20:55:10   \n",
       "1083           Sin completar     completed 2023-01-22 17:04:39   \n",
       "413                      Yes     completed 2024-02-28 06:17:29   \n",
       "1157           Sin completar     completed 2022-11-11 09:38:08   \n",
       "131            Sin completar     completed 2024-07-02 16:23:30   \n",
       "999                      Yes     completed 2023-02-18 23:27:18   \n",
       "679                       No     completed 2023-10-25 11:10:50   \n",
       "221                      Yes     completed 2024-05-28 15:34:41   \n",
       "\n",
       "             submit_date  network_id  \n",
       "928  2023-04-11 11:56:10  1996b5f172  \n",
       "302  2024-04-18 18:39:54  55a66153e2  \n",
       "22   2024-09-02 20:58:06  e5fec7880d  \n",
       "1083 2023-01-22 17:09:06  e4c28f1c0b  \n",
       "413  2024-02-28 06:20:18  83f2ac944b  \n",
       "1157 2022-11-11 09:39:07  1d7d32ea53  \n",
       "131  2024-07-02 16:23:45  fa5eba557f  \n",
       "999  2023-02-18 23:29:37  24151bce92  \n",
       "679  2023-10-25 11:14:38  67e3212385  \n",
       "221  2024-05-28 15:38:47  1a48b8b07a  "
      ]
     },
     "execution_count": 39,
     "metadata": {},
     "output_type": "execute_result"
    }
   ],
   "source": [
    "df.sample(10)"
   ]
  },
  {
   "cell_type": "markdown",
   "id": "fd06f8e9-7d31-4ad2-ba66-69c552c40232",
   "metadata": {},
   "source": [
    "### *New column*: país"
   ]
  },
  {
   "cell_type": "code",
   "execution_count": 40,
   "id": "5c5d1c0b-f1e0-4069-8d00-b5ad7bc8387e",
   "metadata": {
    "tags": []
   },
   "outputs": [],
   "source": [
    "df_code = apply_country_code(df, \"telefono\", \"codigo_tlf\")"
   ]
  },
  {
   "cell_type": "code",
   "execution_count": 41,
   "id": "ff264e58-9c54-483e-8135-01daabe8e827",
   "metadata": {
    "tags": []
   },
   "outputs": [],
   "source": [
    "df_code = df_code.reset_index(drop=True)"
   ]
  },
  {
   "cell_type": "code",
   "execution_count": 42,
   "id": "c5f14863-2453-428e-a502-a7ccaa1c0fcd",
   "metadata": {
    "tags": []
   },
   "outputs": [],
   "source": [
    "df_code = pd.DataFrame(df_code)"
   ]
  },
  {
   "cell_type": "code",
   "execution_count": 43,
   "id": "59aa6741-1065-4776-8f86-60f59ca68cc4",
   "metadata": {
    "tags": []
   },
   "outputs": [
    {
     "data": {
      "text/html": [
       "<div>\n",
       "<style scoped>\n",
       "    .dataframe tbody tr th:only-of-type {\n",
       "        vertical-align: middle;\n",
       "    }\n",
       "\n",
       "    .dataframe tbody tr th {\n",
       "        vertical-align: top;\n",
       "    }\n",
       "\n",
       "    .dataframe thead th {\n",
       "        text-align: right;\n",
       "    }\n",
       "</style>\n",
       "<table border=\"1\" class=\"dataframe\">\n",
       "  <thead>\n",
       "    <tr style=\"text-align: right;\">\n",
       "      <th></th>\n",
       "      <th>codigo_tlf</th>\n",
       "    </tr>\n",
       "  </thead>\n",
       "  <tbody>\n",
       "    <tr>\n",
       "      <th>1157</th>\n",
       "      <td>Sin completar</td>\n",
       "    </tr>\n",
       "    <tr>\n",
       "      <th>231</th>\n",
       "      <td>+34</td>\n",
       "    </tr>\n",
       "    <tr>\n",
       "      <th>1143</th>\n",
       "      <td>Sin completar</td>\n",
       "    </tr>\n",
       "    <tr>\n",
       "      <th>518</th>\n",
       "      <td>+34</td>\n",
       "    </tr>\n",
       "    <tr>\n",
       "      <th>433</th>\n",
       "      <td>+34</td>\n",
       "    </tr>\n",
       "  </tbody>\n",
       "</table>\n",
       "</div>"
      ],
      "text/plain": [
       "         codigo_tlf\n",
       "1157  Sin completar\n",
       "231             +34\n",
       "1143  Sin completar\n",
       "518             +34\n",
       "433             +34"
      ]
     },
     "execution_count": 43,
     "metadata": {},
     "output_type": "execute_result"
    }
   ],
   "source": [
    "df_code.sample(5)"
   ]
  },
  {
   "cell_type": "code",
   "execution_count": 44,
   "id": "4b6ed044-6ffd-4842-8495-b4d8626b2ce9",
   "metadata": {
    "tags": []
   },
   "outputs": [],
   "source": [
    "country_by_code = {\n",
    "\"+34\": \"España\",\n",
    "\"+52\": \"México\",\n",
    "\"+56\": \"Chile\",\n",
    "\"+54\": \"Argentina\",\n",
    "\"+57\": \"Colombia\",\n",
    "\"+59\": \"Bolivia\",\n",
    "\"+50\": \"Guatemala\",\n",
    "\"+51\": \"Perú\",\n",
    "\"+39\": \"Italia\",\n",
    "\"+41\": \"Suiza\",\n",
    "\"+58\": \"Venezuela\",\n",
    "\"+17\": \"Estados Unidos\",\n",
    "\"+19\": \"Canadá\",\n",
    "\"+61\": \"Australia\",\n",
    "\"+12\": \"Estados Unidos\",\n",
    "\"+18\": \"Estados Unidos\",\n",
    "\"+33\": \"Francia\",\n",
    "\"+44\": \"Reino Unido\",\n",
    "\"+49\": \"Alemania\",\n",
    "\"+96\": \"Bahréin\",\n",
    "\"+15\": \"Estados Unidos\",\n",
    "\"+55\": \"Brasil\",\n",
    "\"+13\": \"Estados Unidos\",\n",
    "\"+16\": \"Estados Unidos\",\n",
    "\"+97\": \"Emiratos Árabes Unidos\",\n",
    "\"+32\": \"Bélgica\",\n",
    "\"+35\": \"Gibraltar\",\n",
    "\"+14\": \"Estados Unidos\",\n",
    "\"+38\": \"Yugoslavia\",\n",
    "\"+86\": \"China\",\n",
    "\"+37\": \"Lituania\",\n",
    "\"+84\": \"Vietnam\",\n",
    "\"+36\": \"Hungría\",\n",
    "\"+46\": \"Suecia\",\n",
    "\"+31\": \"Países Bajos\",\n",
    "\"+48\": \"Polonia\",\n",
    "\"+47\": \"Noruega\",\n",
    "\"+64\": \"Nueva Zelanda\"\n",
    "}"
   ]
  },
  {
   "cell_type": "code",
   "execution_count": 45,
   "id": "5a2e2dbe-4dc1-48cd-9f40-ede5bc67da96",
   "metadata": {
    "tags": []
   },
   "outputs": [],
   "source": [
    "df_code[\"pais\"] = df_code[\"codigo_tlf\"].apply(country)"
   ]
  },
  {
   "cell_type": "code",
   "execution_count": 46,
   "id": "694c5d48-8bda-4df6-a655-61e102123ee6",
   "metadata": {
    "tags": []
   },
   "outputs": [
    {
     "data": {
      "text/html": [
       "<div>\n",
       "<style scoped>\n",
       "    .dataframe tbody tr th:only-of-type {\n",
       "        vertical-align: middle;\n",
       "    }\n",
       "\n",
       "    .dataframe tbody tr th {\n",
       "        vertical-align: top;\n",
       "    }\n",
       "\n",
       "    .dataframe thead th {\n",
       "        text-align: right;\n",
       "    }\n",
       "</style>\n",
       "<table border=\"1\" class=\"dataframe\">\n",
       "  <thead>\n",
       "    <tr style=\"text-align: right;\">\n",
       "      <th></th>\n",
       "      <th>codigo_tlf</th>\n",
       "      <th>pais</th>\n",
       "    </tr>\n",
       "  </thead>\n",
       "  <tbody>\n",
       "    <tr>\n",
       "      <th>0</th>\n",
       "      <td>+52</td>\n",
       "      <td>México</td>\n",
       "    </tr>\n",
       "    <tr>\n",
       "      <th>1</th>\n",
       "      <td>+51</td>\n",
       "      <td>Perú</td>\n",
       "    </tr>\n",
       "    <tr>\n",
       "      <th>2</th>\n",
       "      <td>+39</td>\n",
       "      <td>Italia</td>\n",
       "    </tr>\n",
       "    <tr>\n",
       "      <th>3</th>\n",
       "      <td>+54</td>\n",
       "      <td>Argentina</td>\n",
       "    </tr>\n",
       "    <tr>\n",
       "      <th>4</th>\n",
       "      <td>+56</td>\n",
       "      <td>Chile</td>\n",
       "    </tr>\n",
       "  </tbody>\n",
       "</table>\n",
       "</div>"
      ],
      "text/plain": [
       "  codigo_tlf       pais\n",
       "0        +52     México\n",
       "1        +51       Perú\n",
       "2        +39     Italia\n",
       "3        +54  Argentina\n",
       "4        +56      Chile"
      ]
     },
     "execution_count": 46,
     "metadata": {},
     "output_type": "execute_result"
    }
   ],
   "source": [
    "df_code.head(5)"
   ]
  },
  {
   "cell_type": "code",
   "execution_count": 47,
   "id": "6033d35d-5e3a-4632-9726-b4943af319ae",
   "metadata": {
    "tags": []
   },
   "outputs": [],
   "source": [
    "df_columns = df.columns.to_list()"
   ]
  },
  {
   "cell_type": "code",
   "execution_count": 48,
   "id": "2ee265cc-8059-402d-8188-51acdac290ae",
   "metadata": {
    "tags": []
   },
   "outputs": [
    {
     "data": {
      "text/plain": [
       "4"
      ]
     },
     "execution_count": 48,
     "metadata": {},
     "output_type": "execute_result"
    }
   ],
   "source": [
    "df_columns.index(\"zona_horaria\")"
   ]
  },
  {
   "cell_type": "code",
   "execution_count": 49,
   "id": "0db0a2f8-c7fa-4d69-87b1-7a787cd95b98",
   "metadata": {
    "tags": []
   },
   "outputs": [],
   "source": [
    "df.insert(5, \"pais\", df_code[\"pais\"])"
   ]
  },
  {
   "cell_type": "code",
   "execution_count": 52,
   "id": "fb7479ee-e4d3-4ef7-9116-db16c0532d94",
   "metadata": {
    "tags": []
   },
   "outputs": [],
   "source": [
    "df.drop(columns=[\"codigo_tlf\"], inplace=True)"
   ]
  },
  {
   "cell_type": "code",
   "execution_count": 53,
   "id": "4661ea41-4b51-469a-8bb7-7fbf25dc0ce7",
   "metadata": {
    "tags": []
   },
   "outputs": [
    {
     "data": {
      "text/html": [
       "<div>\n",
       "<style scoped>\n",
       "    .dataframe tbody tr th:only-of-type {\n",
       "        vertical-align: middle;\n",
       "    }\n",
       "\n",
       "    .dataframe tbody tr th {\n",
       "        vertical-align: top;\n",
       "    }\n",
       "\n",
       "    .dataframe thead th {\n",
       "        text-align: right;\n",
       "    }\n",
       "</style>\n",
       "<table border=\"1\" class=\"dataframe\">\n",
       "  <thead>\n",
       "    <tr style=\"text-align: right;\">\n",
       "      <th></th>\n",
       "      <th>nombre</th>\n",
       "      <th>politica_privacidad</th>\n",
       "      <th>email</th>\n",
       "      <th>telefono</th>\n",
       "      <th>zona_horaria</th>\n",
       "      <th>pais</th>\n",
       "      <th>condiciones_terapia</th>\n",
       "      <th>problema_principal</th>\n",
       "      <th>cambios_deseados</th>\n",
       "      <th>busqueda_en_terapia</th>\n",
       "      <th>interes_reserva</th>\n",
       "      <th>interes_sesion_personal</th>\n",
       "      <th>response_type</th>\n",
       "      <th>start_date</th>\n",
       "      <th>submit_date</th>\n",
       "      <th>network_id</th>\n",
       "    </tr>\n",
       "  </thead>\n",
       "  <tbody>\n",
       "    <tr>\n",
       "      <th>362</th>\n",
       "      <td>Cariño</td>\n",
       "      <td>Yes</td>\n",
       "      <td>miguel@hortelanos.net</td>\n",
       "      <td>+34 635 72 54 21</td>\n",
       "      <td>Sin completar</td>\n",
       "      <td>España</td>\n",
       "      <td>Yes</td>\n",
       "      <td>Tengo miedos que han aparecido en mi vida y an...</td>\n",
       "      <td>Que desaparezcan dichos miedos.</td>\n",
       "      <td>No estoy seguro.</td>\n",
       "      <td>Yes</td>\n",
       "      <td>Yes</td>\n",
       "      <td>completed</td>\n",
       "      <td>2024-03-18 10:41:37</td>\n",
       "      <td>2024-03-18 10:44:23</td>\n",
       "      <td>b54de4edb7</td>\n",
       "    </tr>\n",
       "    <tr>\n",
       "      <th>724</th>\n",
       "      <td>Pili</td>\n",
       "      <td>Yes</td>\n",
       "      <td>pcheda@uoc.edu</td>\n",
       "      <td>+34 625 05 73 54</td>\n",
       "      <td>Sin completar</td>\n",
       "      <td>España</td>\n",
       "      <td>Yes</td>\n",
       "      <td>Relación de pareja</td>\n",
       "      <td>Conseguir una relación de pareja no monógama, ...</td>\n",
       "      <td>No lo sé</td>\n",
       "      <td>No</td>\n",
       "      <td>No</td>\n",
       "      <td>completed</td>\n",
       "      <td>2023-09-24 06:06:12</td>\n",
       "      <td>2023-09-24 06:10:31</td>\n",
       "      <td>04830b3c44</td>\n",
       "    </tr>\n",
       "    <tr>\n",
       "      <th>266</th>\n",
       "      <td>pene</td>\n",
       "      <td>Yes</td>\n",
       "      <td>pene@gmail.com</td>\n",
       "      <td>+34 666 66 66 66</td>\n",
       "      <td>Europa</td>\n",
       "      <td>España</td>\n",
       "      <td>Yes</td>\n",
       "      <td>pene</td>\n",
       "      <td>puta</td>\n",
       "      <td>caca</td>\n",
       "      <td>Yes</td>\n",
       "      <td>Yes</td>\n",
       "      <td>completed</td>\n",
       "      <td>2024-05-05 14:01:34</td>\n",
       "      <td>2024-05-05 14:03:52</td>\n",
       "      <td>6ca15cf200</td>\n",
       "    </tr>\n",
       "    <tr>\n",
       "      <th>94</th>\n",
       "      <td>Laura</td>\n",
       "      <td>Yes</td>\n",
       "      <td>lauralorenafeijoo@gmail.com</td>\n",
       "      <td>+54 116 00 06 555</td>\n",
       "      <td>Latam/USA</td>\n",
       "      <td>Argentina</td>\n",
       "      <td>No (Latam)</td>\n",
       "      <td>Sin completar</td>\n",
       "      <td>Sin completar</td>\n",
       "      <td>Sin completar</td>\n",
       "      <td>Sin completar</td>\n",
       "      <td>Sin completar</td>\n",
       "      <td>completed</td>\n",
       "      <td>2024-07-26 05:53:01</td>\n",
       "      <td>2024-07-26 05:54:11</td>\n",
       "      <td>ad99ff0bff</td>\n",
       "    </tr>\n",
       "    <tr>\n",
       "      <th>793</th>\n",
       "      <td>Mel</td>\n",
       "      <td>Yes</td>\n",
       "      <td>mel.castruitac@gmail.com</td>\n",
       "      <td>+52 558 61 62 511</td>\n",
       "      <td>Sin completar</td>\n",
       "      <td>México</td>\n",
       "      <td>Yes</td>\n",
       "      <td>Mi relación de pareja, mi seguridad y autoestima</td>\n",
       "      <td>Amor propio, dejar de sentir apego , dejar de ...</td>\n",
       "      <td>Por qué los podcasts me han ayudado y me eh se...</td>\n",
       "      <td>Yes (Pago plazos)</td>\n",
       "      <td>Yes</td>\n",
       "      <td>completed</td>\n",
       "      <td>2023-08-01 14:39:13</td>\n",
       "      <td>2023-08-01 14:44:21</td>\n",
       "      <td>9c2bb39880</td>\n",
       "    </tr>\n",
       "  </tbody>\n",
       "</table>\n",
       "</div>"
      ],
      "text/plain": [
       "     nombre politica_privacidad                        email  \\\n",
       "362  Cariño                 Yes        miguel@hortelanos.net   \n",
       "724    Pili                 Yes               pcheda@uoc.edu   \n",
       "266    pene                 Yes               pene@gmail.com   \n",
       "94    Laura                 Yes  lauralorenafeijoo@gmail.com   \n",
       "793     Mel                 Yes     mel.castruitac@gmail.com   \n",
       "\n",
       "              telefono   zona_horaria       pais condiciones_terapia  \\\n",
       "362   +34 635 72 54 21  Sin completar     España                 Yes   \n",
       "724   +34 625 05 73 54  Sin completar     España                 Yes   \n",
       "266   +34 666 66 66 66         Europa     España                 Yes   \n",
       "94   +54 116 00 06 555      Latam/USA  Argentina          No (Latam)   \n",
       "793  +52 558 61 62 511  Sin completar     México                 Yes   \n",
       "\n",
       "                                    problema_principal  \\\n",
       "362  Tengo miedos que han aparecido en mi vida y an...   \n",
       "724                                 Relación de pareja   \n",
       "266                                               pene   \n",
       "94                                       Sin completar   \n",
       "793   Mi relación de pareja, mi seguridad y autoestima   \n",
       "\n",
       "                                      cambios_deseados  \\\n",
       "362                    Que desaparezcan dichos miedos.   \n",
       "724  Conseguir una relación de pareja no monógama, ...   \n",
       "266                                               puta   \n",
       "94                                       Sin completar   \n",
       "793  Amor propio, dejar de sentir apego , dejar de ...   \n",
       "\n",
       "                                   busqueda_en_terapia    interes_reserva  \\\n",
       "362                                   No estoy seguro.                Yes   \n",
       "724                                           No lo sé                 No   \n",
       "266                                               caca                Yes   \n",
       "94                                       Sin completar      Sin completar   \n",
       "793  Por qué los podcasts me han ayudado y me eh se...  Yes (Pago plazos)   \n",
       "\n",
       "    interes_sesion_personal response_type          start_date  \\\n",
       "362                     Yes     completed 2024-03-18 10:41:37   \n",
       "724                      No     completed 2023-09-24 06:06:12   \n",
       "266                     Yes     completed 2024-05-05 14:01:34   \n",
       "94            Sin completar     completed 2024-07-26 05:53:01   \n",
       "793                     Yes     completed 2023-08-01 14:39:13   \n",
       "\n",
       "            submit_date  network_id  \n",
       "362 2024-03-18 10:44:23  b54de4edb7  \n",
       "724 2023-09-24 06:10:31  04830b3c44  \n",
       "266 2024-05-05 14:03:52  6ca15cf200  \n",
       "94  2024-07-26 05:54:11  ad99ff0bff  \n",
       "793 2023-08-01 14:44:21  9c2bb39880  "
      ]
     },
     "execution_count": 53,
     "metadata": {},
     "output_type": "execute_result"
    }
   ],
   "source": [
    "df.sample(5)"
   ]
  },
  {
   "cell_type": "markdown",
   "id": "7a4d7cb3-cb76-4e12-8680-e116658ba9a0",
   "metadata": {},
   "source": [
    "## CALENDLY MERGE: SESSIONS DONE"
   ]
  },
  {
   "cell_type": "markdown",
   "id": "3fcf81af-23d2-42ab-b82d-249653c93f6f",
   "metadata": {},
   "source": [
    "### Set up"
   ]
  },
  {
   "cell_type": "code",
   "execution_count": 54,
   "id": "ff02efda-48b8-4ae7-91c3-0103e1bfc1a0",
   "metadata": {
    "tags": []
   },
   "outputs": [],
   "source": [
    "data2 = pd.read_excel(\"Calendly 15 sp 2024.xlsx\")"
   ]
  },
  {
   "cell_type": "code",
   "execution_count": 55,
   "id": "a4553fc0-35a3-456d-b47c-23d381aa91b1",
   "metadata": {
    "tags": []
   },
   "outputs": [],
   "source": [
    "df2 = data2.copy()"
   ]
  },
  {
   "cell_type": "code",
   "execution_count": 62,
   "id": "b06301d4-15b1-419b-8fa8-3ddb215624fa",
   "metadata": {
    "tags": []
   },
   "outputs": [],
   "source": [
    "df2.columns = df2.columns.str.lower().str.replace(\" \",\"_\").str.replace(\".\",\"_\").str.replace(\":\",\"\")"
   ]
  },
  {
   "cell_type": "code",
   "execution_count": 63,
   "id": "eee1cc94-fa59-4995-969f-bc3d276a3008",
   "metadata": {
    "tags": []
   },
   "outputs": [
    {
     "data": {
      "text/html": [
       "<div>\n",
       "<style scoped>\n",
       "    .dataframe tbody tr th:only-of-type {\n",
       "        vertical-align: middle;\n",
       "    }\n",
       "\n",
       "    .dataframe tbody tr th {\n",
       "        vertical-align: top;\n",
       "    }\n",
       "\n",
       "    .dataframe thead th {\n",
       "        text-align: right;\n",
       "    }\n",
       "</style>\n",
       "<table border=\"1\" class=\"dataframe\">\n",
       "  <thead>\n",
       "    <tr style=\"text-align: right;\">\n",
       "      <th></th>\n",
       "      <th>user_name</th>\n",
       "      <th>team</th>\n",
       "      <th>invitee_name</th>\n",
       "      <th>invitee_first_name</th>\n",
       "      <th>invitee_last_name</th>\n",
       "      <th>invitee_email</th>\n",
       "      <th>invitee_time_zone</th>\n",
       "      <th>invitee_accepted_marketing_emails</th>\n",
       "      <th>text_reminder_number</th>\n",
       "      <th>event_type_name</th>\n",
       "      <th>start_date_&amp;_time</th>\n",
       "      <th>end_date_&amp;_time</th>\n",
       "      <th>location</th>\n",
       "      <th>event_created_date_&amp;_time</th>\n",
       "      <th>canceled</th>\n",
       "      <th>canceled_by</th>\n",
       "      <th>cancellation_reason</th>\n",
       "      <th>question_1</th>\n",
       "      <th>response_1</th>\n",
       "      <th>question_2</th>\n",
       "      <th>response_2</th>\n",
       "      <th>question_3</th>\n",
       "      <th>response_3</th>\n",
       "      <th>question_4</th>\n",
       "      <th>response_4</th>\n",
       "      <th>question_5</th>\n",
       "      <th>response_5</th>\n",
       "      <th>question_6</th>\n",
       "      <th>response_6</th>\n",
       "      <th>question_7</th>\n",
       "      <th>response_7</th>\n",
       "      <th>question_8</th>\n",
       "      <th>response_8</th>\n",
       "      <th>utm_campaign</th>\n",
       "      <th>utm_source</th>\n",
       "      <th>utm_medium</th>\n",
       "      <th>utm_term</th>\n",
       "      <th>utm_content</th>\n",
       "      <th>salesforce_uuid</th>\n",
       "      <th>event_price</th>\n",
       "      <th>payment_currency</th>\n",
       "      <th>guest_email(s)</th>\n",
       "      <th>invitee_reconfirmed</th>\n",
       "      <th>marked_as_no-show</th>\n",
       "      <th>meeting_notes</th>\n",
       "      <th>group</th>\n",
       "      <th>user_email</th>\n",
       "      <th>event_uuid</th>\n",
       "      <th>invitee_uuid</th>\n",
       "      <th>invitee_scheduled_by</th>\n",
       "      <th>scheduling_method</th>\n",
       "    </tr>\n",
       "  </thead>\n",
       "  <tbody>\n",
       "    <tr>\n",
       "      <th>556</th>\n",
       "      <td>Eyas Psicología</td>\n",
       "      <td>NaN</td>\n",
       "      <td>Ainhoa Egaña hernandez</td>\n",
       "      <td>Ainhoa</td>\n",
       "      <td>Egaña hernandez</td>\n",
       "      <td>ainhoi_eh@hotmail.com</td>\n",
       "      <td>Europa Central</td>\n",
       "      <td>NaN</td>\n",
       "      <td>NaN</td>\n",
       "      <td>Sesión Conecta Contigo</td>\n",
       "      <td>2024-05-16 16:30:00</td>\n",
       "      <td>2024-05-16 17:15:00</td>\n",
       "      <td>Zoom URL: https://us05web.zoom.us/j/8799213570...</td>\n",
       "      <td>2024-05-13 13:40:00</td>\n",
       "      <td>False</td>\n",
       "      <td>NaN</td>\n",
       "      <td>NaN</td>\n",
       "      <td>Tu teléfono para poder mandarte el link de la ...</td>\n",
       "      <td>669107748</td>\n",
       "      <td>NaN</td>\n",
       "      <td>NaN</td>\n",
       "      <td>NaN</td>\n",
       "      <td>NaN</td>\n",
       "      <td>NaN</td>\n",
       "      <td>NaN</td>\n",
       "      <td>NaN</td>\n",
       "      <td>NaN</td>\n",
       "      <td>NaN</td>\n",
       "      <td>NaN</td>\n",
       "      <td>NaN</td>\n",
       "      <td>NaN</td>\n",
       "      <td>NaN</td>\n",
       "      <td>NaN</td>\n",
       "      <td>NaN</td>\n",
       "      <td>NaN</td>\n",
       "      <td>NaN</td>\n",
       "      <td>NaN</td>\n",
       "      <td>NaN</td>\n",
       "      <td>NaN</td>\n",
       "      <td>NaN</td>\n",
       "      <td>NaN</td>\n",
       "      <td>NaN</td>\n",
       "      <td>NaN</td>\n",
       "      <td>No</td>\n",
       "      <td>NaN</td>\n",
       "      <td>NaN</td>\n",
       "      <td>wadasanchez@gmail.com</td>\n",
       "      <td>1af110e3-2461-4527-bf11-b13d58cd1059</td>\n",
       "      <td>73a8c55d-547a-48e0-8e7f-f6a794282af2</td>\n",
       "      <td>Eyas Psicología</td>\n",
       "      <td>NaN</td>\n",
       "    </tr>\n",
       "  </tbody>\n",
       "</table>\n",
       "</div>"
      ],
      "text/plain": [
       "           user_name  team            invitee_name invitee_first_name  \\\n",
       "556  Eyas Psicología   NaN  Ainhoa Egaña hernandez             Ainhoa   \n",
       "\n",
       "    invitee_last_name          invitee_email invitee_time_zone  \\\n",
       "556   Egaña hernandez  ainhoi_eh@hotmail.com    Europa Central   \n",
       "\n",
       "    invitee_accepted_marketing_emails text_reminder_number  \\\n",
       "556                               NaN                  NaN   \n",
       "\n",
       "            event_type_name   start_date_&_time     end_date_&_time  \\\n",
       "556  Sesión Conecta Contigo 2024-05-16 16:30:00 2024-05-16 17:15:00   \n",
       "\n",
       "                                              location  \\\n",
       "556  Zoom URL: https://us05web.zoom.us/j/8799213570...   \n",
       "\n",
       "    event_created_date_&_time  canceled  canceled_by  cancellation_reason  \\\n",
       "556       2024-05-13 13:40:00     False          NaN                  NaN   \n",
       "\n",
       "                                            question_1 response_1 question_2  \\\n",
       "556  Tu teléfono para poder mandarte el link de la ...  669107748        NaN   \n",
       "\n",
       "    response_2 question_3 response_3 question_4 response_4 question_5  \\\n",
       "556        NaN        NaN        NaN        NaN        NaN        NaN   \n",
       "\n",
       "    response_5 question_6 response_6 question_7 response_7 question_8  \\\n",
       "556        NaN        NaN        NaN        NaN        NaN        NaN   \n",
       "\n",
       "    response_8  utm_campaign  utm_source  utm_medium  utm_term  utm_content  \\\n",
       "556        NaN           NaN         NaN         NaN       NaN          NaN   \n",
       "\n",
       "     salesforce_uuid  event_price  payment_currency guest_email(s)  \\\n",
       "556              NaN          NaN               NaN            NaN   \n",
       "\n",
       "     invitee_reconfirmed marked_as_no-show  meeting_notes  group  \\\n",
       "556                  NaN                No            NaN    NaN   \n",
       "\n",
       "                user_email                            event_uuid  \\\n",
       "556  wadasanchez@gmail.com  1af110e3-2461-4527-bf11-b13d58cd1059   \n",
       "\n",
       "                             invitee_uuid invitee_scheduled_by  \\\n",
       "556  73a8c55d-547a-48e0-8e7f-f6a794282af2      Eyas Psicología   \n",
       "\n",
       "     scheduling_method  \n",
       "556                NaN  "
      ]
     },
     "execution_count": 63,
     "metadata": {},
     "output_type": "execute_result"
    }
   ],
   "source": [
    "df2.sample(1)"
   ]
  },
  {
   "cell_type": "code",
   "execution_count": 61,
   "id": "65397374-7578-4800-8855-cb7f9a2989b4",
   "metadata": {
    "tags": []
   },
   "outputs": [
    {
     "data": {
      "text/plain": [
       "(629, 51)"
      ]
     },
     "execution_count": 61,
     "metadata": {},
     "output_type": "execute_result"
    }
   ],
   "source": [
    "df2.shape"
   ]
  },
  {
   "cell_type": "code",
   "execution_count": 64,
   "id": "3d57aa1b-aab7-46c0-a479-b1a1f4f56555",
   "metadata": {
    "tags": []
   },
   "outputs": [],
   "source": [
    "calendly = df2[[\"invitee_email\", \"start_date_&_time\", \"end_date_&_time\"]]"
   ]
  },
  {
   "cell_type": "code",
   "execution_count": 65,
   "id": "b625c8b1-af1c-4935-b891-5a03dc4b1622",
   "metadata": {
    "tags": []
   },
   "outputs": [
    {
     "data": {
      "text/html": [
       "<div>\n",
       "<style scoped>\n",
       "    .dataframe tbody tr th:only-of-type {\n",
       "        vertical-align: middle;\n",
       "    }\n",
       "\n",
       "    .dataframe tbody tr th {\n",
       "        vertical-align: top;\n",
       "    }\n",
       "\n",
       "    .dataframe thead th {\n",
       "        text-align: right;\n",
       "    }\n",
       "</style>\n",
       "<table border=\"1\" class=\"dataframe\">\n",
       "  <thead>\n",
       "    <tr style=\"text-align: right;\">\n",
       "      <th></th>\n",
       "      <th>invitee_email</th>\n",
       "      <th>start_date_&amp;_time</th>\n",
       "      <th>end_date_&amp;_time</th>\n",
       "    </tr>\n",
       "  </thead>\n",
       "  <tbody>\n",
       "    <tr>\n",
       "      <th>0</th>\n",
       "      <td>wadasanchez@gmail.com</td>\n",
       "      <td>2021-06-02 10:00:00</td>\n",
       "      <td>2021-06-02 10:45:00</td>\n",
       "    </tr>\n",
       "    <tr>\n",
       "      <th>1</th>\n",
       "      <td>eganie@gmail.com</td>\n",
       "      <td>2021-07-15 20:00:00</td>\n",
       "      <td>2021-07-15 20:45:00</td>\n",
       "    </tr>\n",
       "    <tr>\n",
       "      <th>2</th>\n",
       "      <td>kbperona@gmail.com</td>\n",
       "      <td>2021-09-29 20:00:00</td>\n",
       "      <td>2021-09-29 20:45:00</td>\n",
       "    </tr>\n",
       "    <tr>\n",
       "      <th>3</th>\n",
       "      <td>esti_kamatxo@hotmail.com</td>\n",
       "      <td>2022-01-03 09:00:00</td>\n",
       "      <td>2022-01-03 10:00:00</td>\n",
       "    </tr>\n",
       "    <tr>\n",
       "      <th>4</th>\n",
       "      <td>jessi17246@hotmail.es</td>\n",
       "      <td>2022-01-03 20:00:00</td>\n",
       "      <td>2022-01-03 21:00:00</td>\n",
       "    </tr>\n",
       "    <tr>\n",
       "      <th>...</th>\n",
       "      <td>...</td>\n",
       "      <td>...</td>\n",
       "      <td>...</td>\n",
       "    </tr>\n",
       "    <tr>\n",
       "      <th>624</th>\n",
       "      <td>ainatml@gmail.com</td>\n",
       "      <td>2024-09-03 18:00:00</td>\n",
       "      <td>2024-09-03 19:00:00</td>\n",
       "    </tr>\n",
       "    <tr>\n",
       "      <th>625</th>\n",
       "      <td>ainatml@gmail.com</td>\n",
       "      <td>2024-09-05 13:00:00</td>\n",
       "      <td>2024-09-05 14:00:00</td>\n",
       "    </tr>\n",
       "    <tr>\n",
       "      <th>626</th>\n",
       "      <td>ana.osuna1980@gmail.com</td>\n",
       "      <td>2024-09-10 15:00:00</td>\n",
       "      <td>2024-09-10 16:00:00</td>\n",
       "    </tr>\n",
       "    <tr>\n",
       "      <th>627</th>\n",
       "      <td>machezgui2@gmail.com</td>\n",
       "      <td>2024-09-05 10:00:00</td>\n",
       "      <td>2024-09-05 11:00:00</td>\n",
       "    </tr>\n",
       "    <tr>\n",
       "      <th>628</th>\n",
       "      <td>bevirca@gmail.com</td>\n",
       "      <td>2024-09-04 17:00:00</td>\n",
       "      <td>2024-09-04 18:00:00</td>\n",
       "    </tr>\n",
       "  </tbody>\n",
       "</table>\n",
       "<p>629 rows × 3 columns</p>\n",
       "</div>"
      ],
      "text/plain": [
       "                invitee_email   start_date_&_time     end_date_&_time\n",
       "0       wadasanchez@gmail.com 2021-06-02 10:00:00 2021-06-02 10:45:00\n",
       "1            eganie@gmail.com 2021-07-15 20:00:00 2021-07-15 20:45:00\n",
       "2          kbperona@gmail.com 2021-09-29 20:00:00 2021-09-29 20:45:00\n",
       "3    esti_kamatxo@hotmail.com 2022-01-03 09:00:00 2022-01-03 10:00:00\n",
       "4       jessi17246@hotmail.es 2022-01-03 20:00:00 2022-01-03 21:00:00\n",
       "..                        ...                 ...                 ...\n",
       "624         ainatml@gmail.com 2024-09-03 18:00:00 2024-09-03 19:00:00\n",
       "625         ainatml@gmail.com 2024-09-05 13:00:00 2024-09-05 14:00:00\n",
       "626   ana.osuna1980@gmail.com 2024-09-10 15:00:00 2024-09-10 16:00:00\n",
       "627      machezgui2@gmail.com 2024-09-05 10:00:00 2024-09-05 11:00:00\n",
       "628         bevirca@gmail.com 2024-09-04 17:00:00 2024-09-04 18:00:00\n",
       "\n",
       "[629 rows x 3 columns]"
      ]
     },
     "execution_count": 65,
     "metadata": {},
     "output_type": "execute_result"
    }
   ],
   "source": [
    "calendly"
   ]
  },
  {
   "cell_type": "code",
   "execution_count": 66,
   "id": "86b0d3b6-caf6-47fa-acfa-d43d5b992bbe",
   "metadata": {
    "tags": []
   },
   "outputs": [],
   "source": [
    "df[\"sesion_completada\"] = df[\"email\"].isin(calendly[\"invitee_email\"]).map({True: \"Yes\", False: \"No\"})"
   ]
  },
  {
   "cell_type": "code",
   "execution_count": 68,
   "id": "7987e080-5ff2-4829-8ab6-6f1376325f42",
   "metadata": {
    "tags": []
   },
   "outputs": [
    {
     "data": {
      "text/plain": [
       "sesion_completada\n",
       "No     700\n",
       "Yes    539\n",
       "Name: count, dtype: int64"
      ]
     },
     "execution_count": 68,
     "metadata": {},
     "output_type": "execute_result"
    }
   ],
   "source": [
    "df[\"sesion_completada\"].value_counts()"
   ]
  },
  {
   "cell_type": "markdown",
   "id": "3b9a4a3f-8429-45e6-9f3d-2e4efb840709",
   "metadata": {},
   "source": [
    "### Sessions done"
   ]
  },
  {
   "cell_type": "code",
   "execution_count": 69,
   "id": "d0e03a70-bdcb-45df-b913-c657e7e8480f",
   "metadata": {
    "tags": []
   },
   "outputs": [],
   "source": [
    "sesiones_si = df[df[\"sesion_completada\"] == \"Yes\"]"
   ]
  },
  {
   "cell_type": "code",
   "execution_count": 71,
   "id": "d15ca392-6641-463b-a24d-31a1d5d637c8",
   "metadata": {
    "tags": []
   },
   "outputs": [
    {
     "data": {
      "text/plain": [
       "pais\n",
       "España                    281\n",
       "Desconocido               149\n",
       "México                     16\n",
       "Argentina                  14\n",
       "Colombia                   11\n",
       "Chile                      10\n",
       "Bolivia                     8\n",
       "Perú                        6\n",
       "Guatemala                   5\n",
       "Estados Unidos              5\n",
       "Suiza                       4\n",
       "Brasil                      3\n",
       "Australia                   3\n",
       "Bahréin                     3\n",
       "Italia                      3\n",
       "Canadá                      2\n",
       "Gibraltar                   2\n",
       "Reino Unido                 2\n",
       "Emiratos Árabes Unidos      2\n",
       "Venezuela                   2\n",
       "Polonia                     1\n",
       "Alemania                    1\n",
       "Suecia                      1\n",
       "Hungría                     1\n",
       "Lituania                    1\n",
       "China                       1\n",
       "Francia                     1\n",
       "Bélgica                     1\n",
       "Name: count, dtype: int64"
      ]
     },
     "execution_count": 71,
     "metadata": {},
     "output_type": "execute_result"
    }
   ],
   "source": [
    "sesiones_si[\"pais\"].value_counts()"
   ]
  },
  {
   "cell_type": "code",
   "execution_count": 72,
   "id": "fb806c0c-48c5-4bf6-bdf6-c16dd330279d",
   "metadata": {
    "tags": []
   },
   "outputs": [],
   "source": [
    "sesiones_no = df[df[\"sesion_completada\"] == \"No\"]"
   ]
  },
  {
   "cell_type": "code",
   "execution_count": 73,
   "id": "f786b88a-91da-4f98-9d01-ac75bf6f9347",
   "metadata": {
    "tags": []
   },
   "outputs": [
    {
     "data": {
      "text/plain": [
       "pais\n",
       "España            248\n",
       "Desconocido       223\n",
       "Chile              44\n",
       "México             39\n",
       "Argentina          35\n",
       "Estados Unidos     23\n",
       "Colombia           20\n",
       "Guatemala          12\n",
       "Italia              9\n",
       "Bolivia             9\n",
       "Perú                8\n",
       "Venezuela           5\n",
       "Canadá              4\n",
       "Francia             4\n",
       "Alemania            3\n",
       "Suiza               3\n",
       "Australia           3\n",
       "Reino Unido         2\n",
       "Nueva Zelanda       1\n",
       "Vietnam             1\n",
       "Países Bajos        1\n",
       "Yugoslavia          1\n",
       "Bélgica             1\n",
       "Noruega             1\n",
       "Name: count, dtype: int64"
      ]
     },
     "execution_count": 73,
     "metadata": {},
     "output_type": "execute_result"
    }
   ],
   "source": [
    "sesiones_no[\"pais\"].value_counts()"
   ]
  },
  {
   "cell_type": "markdown",
   "id": "66ddbbe0-8f5b-492b-8b01-d25f9dafe3aa",
   "metadata": {},
   "source": [
    "## EXPORT CLEAN CSV TO EDA"
   ]
  },
  {
   "cell_type": "code",
   "execution_count": 75,
   "id": "303020d5-9f90-4ade-be42-5a062ee4c70b",
   "metadata": {
    "tags": []
   },
   "outputs": [],
   "source": [
    "df.to_csv(\"clean_typeform.csv\", index=False)"
   ]
  }
 ],
 "metadata": {
  "kernelspec": {
   "display_name": "Python 3 (ipykernel)",
   "language": "python",
   "name": "python3"
  },
  "language_info": {
   "codemirror_mode": {
    "name": "ipython",
    "version": 3
   },
   "file_extension": ".py",
   "mimetype": "text/x-python",
   "name": "python",
   "nbconvert_exporter": "python",
   "pygments_lexer": "ipython3",
   "version": "3.11.5"
  }
 },
 "nbformat": 4,
 "nbformat_minor": 5
}
