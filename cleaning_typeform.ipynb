{
 "cells": [
  {
   "cell_type": "markdown",
   "id": "0e79c28e-4082-408c-9ff6-bbb4cdbc6856",
   "metadata": {},
   "source": [
    "## SET UP & DATA WRANGLING"
   ]
  },
  {
   "cell_type": "code",
   "execution_count": 1,
   "id": "c2953d08-e079-4ec5-8dd2-2545a9bdd1f8",
   "metadata": {
    "tags": []
   },
   "outputs": [],
   "source": [
    "import pandas as pd\n",
    "import numpy as np \n",
    "\n",
    "## EDA Libraries \n",
    "import matplotlib.pyplot as plt\n",
    "import seaborn as sns\n",
    "\n",
    "## Settings\n",
    "pd.set_option('display.max_columns', None) # display all columns\n",
    "import warnings\n",
    "warnings.filterwarnings('ignore') # ignore warnings\n",
    "\n",
    "import hashlib # to encode personal details\n",
    "import re"
   ]
  },
  {
   "cell_type": "code",
   "execution_count": 2,
   "id": "e6028fd9-5f7a-4434-bb7d-4dcfb3fa5376",
   "metadata": {},
   "outputs": [],
   "source": [
    "from cleaning_functions import *"
   ]
  },
  {
   "cell_type": "code",
   "execution_count": 3,
   "id": "2ba5c761-09cc-4ef5-9f82-bc4f6416e3ac",
   "metadata": {
    "tags": []
   },
   "outputs": [],
   "source": [
    "data = pd.read_excel(\"typeform 15-09-2024.xlsx\")"
   ]
  },
  {
   "cell_type": "code",
   "execution_count": 4,
   "id": "d9ac99f0-8649-485a-b26b-bbf7a456184e",
   "metadata": {
    "tags": []
   },
   "outputs": [],
   "source": [
    "df = data.copy()"
   ]
  },
  {
   "cell_type": "code",
   "execution_count": 5,
   "id": "6be3a78d-ad40-4da8-8c87-ee2fae295fb7",
   "metadata": {
    "tags": []
   },
   "outputs": [],
   "source": [
    "df.columns = df.columns.str.lower().str.replace(\" \",\"_\").str.replace(\".\",\"_\").str.replace(\":\",\"\")"
   ]
  },
  {
   "cell_type": "code",
   "execution_count": 6,
   "id": "ef573e7a-80ba-4150-8209-5469e1b7a4d3",
   "metadata": {
    "tags": []
   },
   "outputs": [
    {
     "data": {
      "text/plain": [
       "(1239, 24)"
      ]
     },
     "execution_count": 6,
     "metadata": {},
     "output_type": "execute_result"
    }
   ],
   "source": [
    "df.shape"
   ]
  },
  {
   "cell_type": "code",
   "execution_count": 7,
   "id": "9ba841ff-0c15-4606-8f91-78fd8d3383d3",
   "metadata": {
    "tags": []
   },
   "outputs": [
    {
     "data": {
      "text/plain": [
       "Index(['#', '¿cómo_te_gusta_que_te_llamemos?',\n",
       "       'para_empezar,_aceptas_la_política_de_privacidad_y_que_te_mandemos_chicha_de_la_buena?',\n",
       "       '{{field01g9cmc9sx965qwjp9reb0q2bj}},_escribe_tu_mejor_correo',\n",
       "       'escribe_tu_teléfono_(*con_prefijo,_si_no_no_te_podremos_contactar*)_para_poder_pasarte_la_información_de_nuestra_sesión_juntas❤️',\n",
       "       '¿en_qué_franja_horaria_vives?',\n",
       "       '-nuestra_terapia_grupal_dura_*16_semanas_*\\n\\n-los_horarios_son_de_*1200_-_1400_pm_o_de_1900_a_2100_pm_*(franja_horaria_españa)\\n\\n-tiene_un_precio_desde*_64€_por_sesiones_de_2_horas__*pero_no_se_paga_por_sesión,_sino_que_te_comprometes_al_proceso_entero_\\n\\n_*esto_implica_tanto_una_inversión_económica,_como_de_tiempo_*__si_esto_no_encaja_en_tus_posibilidades,_te_pedimos,_con_amor,_que_reconsideres_la_reserva__',\n",
       "       'cuéntame,_¿qué_no_está_funcionando_actualmente_en_tu_vida?',\n",
       "       '¿_qué_cambios_te_gustaría_ver_después_de_pasar_por_nuestra_terapia?',\n",
       "       '{{field01g9cmc9sx965qwjp9reb0q2bj}},_¿por_qué_crees_que_conecta_contigo,_nuestra_terapia_grupal,_puede_ayudarte?_',\n",
       "       '-nuestra_terapia_grupal_dura_*16_semanas_*\\n\\n-cada_semana_de_*1900-2100_pm_o_cada_semana_de_1200-1400_pm_*\\n-se_paga_por_*todo_el_proceso*_en_cuotas_de_1/3/6_pagos_mensuales_\\n\\nesto_implica_una_inversión_económica_y_de_tiempo__si_esto_no_encaja_en_tus_posibilidades,_te_pedimos,_con_amor,_que_reconsideres_la_reserva__\\n\\n¿estás_interesada_en_continuar?',\n",
       "       'sí!', 'no,_solo_por_la_tarde!',\n",
       "       'por_las_tardes_a_partir_de_las_3_00pm',\n",
       "       'por_las_tardes_a_partir_de_las_5_00pm',\n",
       "       'por_las_tardes_a_partir_de_las_6_00pm',\n",
       "       'por_las_tardes_a_partir_de_las_7_00pm',\n",
       "       'tu_tiempo_es_oro_y_el_nuestro_también,_reserva_esta_sesión_solo_*si_estás_comprometida_a_asistir__*\\n\\n*-esta_sesión_es_una_sesión_enfocada_a_ver_tu_caso_para_entrar_a_la_terapia_grupal_*_\\n\\nsin_tu_compromiso,_no_puede_haber_avance__¿trato_hecho?',\n",
       "       'response_type', 'start_date_(utc)', 'stage_date_(utc)',\n",
       "       'submit_date_(utc)', 'network_id', 'tags'],\n",
       "      dtype='object')"
      ]
     },
     "execution_count": 7,
     "metadata": {},
     "output_type": "execute_result"
    }
   ],
   "source": [
    "df.columns"
   ]
  },
  {
   "cell_type": "code",
   "execution_count": 8,
   "id": "83ac723e-1a49-4b7a-a3c0-73d46c425254",
   "metadata": {
    "tags": []
   },
   "outputs": [],
   "source": [
    "df.drop(columns=[\"#\",\"sí!\",\"no,_solo_por_la_tarde!\",\"por_las_tardes_a_partir_de_las_3_00pm\",\"por_las_tardes_a_partir_de_las_5_00pm\",\"por_las_tardes_a_partir_de_las_6_00pm\",\"por_las_tardes_a_partir_de_las_7_00pm\", \"stage_date_(utc)\", \"tags\"], inplace=True)"
   ]
  },
  {
   "cell_type": "code",
   "execution_count": 9,
   "id": "f63427e8-4a98-450b-b4f4-1048050d972c",
   "metadata": {
    "tags": []
   },
   "outputs": [],
   "source": [
    "df = df.rename(columns={\"¿cómo_te_gusta_que_te_llamemos?\":\"nombre\",\n",
    "                   \"para_empezar,_aceptas_la_política_de_privacidad_y_que_te_mandemos_chicha_de_la_buena?\":\"politica_privacidad\",\n",
    "                   \"{{field01g9cmc9sx965qwjp9reb0q2bj}},_escribe_tu_mejor_correo\":\"email\",\n",
    "                   \"escribe_tu_teléfono_(*con_prefijo,_si_no_no_te_podremos_contactar*)_para_poder_pasarte_la_información_de_nuestra_sesión_juntas❤️\":\"telefono\",\n",
    "                   \"¿en_qué_franja_horaria_vives?\":\"zona_horaria\",\n",
    "                   \"-nuestra_terapia_grupal_dura_*16_semanas_*\\n\\n-los_horarios_son_de_*1200_-_1400_pm_o_de_1900_a_2100_pm_*(franja_horaria_españa)\\n\\n-tiene_un_precio_desde*_64€_por_sesiones_de_2_horas__*pero_no_se_paga_por_sesión,_sino_que_te_comprometes_al_proceso_entero_\\n\\n_*esto_implica_tanto_una_inversión_económica,_como_de_tiempo_*__si_esto_no_encaja_en_tus_posibilidades,_te_pedimos,_con_amor,_que_reconsideres_la_reserva__\":\"condiciones_terapia\",\n",
    "                   \"cuéntame,_¿qué_no_está_funcionando_actualmente_en_tu_vida?\":\"problema_principal\",\n",
    "                   \"¿_qué_cambios_te_gustaría_ver_después_de_pasar_por_nuestra_terapia?\":\"cambios_deseados\",\n",
    "                   \"{{field01g9cmc9sx965qwjp9reb0q2bj}},_¿por_qué_crees_que_conecta_contigo,_nuestra_terapia_grupal,_puede_ayudarte?_\":\"busqueda_en_terapia\",\n",
    "                   \"-nuestra_terapia_grupal_dura_*16_semanas_*\\n\\n-cada_semana_de_*1900-2100_pm_o_cada_semana_de_1200-1400_pm_*\\n-se_paga_por_*todo_el_proceso*_en_cuotas_de_1/3/6_pagos_mensuales_\\n\\nesto_implica_una_inversión_económica_y_de_tiempo__si_esto_no_encaja_en_tus_posibilidades,_te_pedimos,_con_amor,_que_reconsideres_la_reserva__\\n\\n¿estás_interesada_en_continuar?\":\"interes_reserva\",\n",
    "                   \"tu_tiempo_es_oro_y_el_nuestro_también,_reserva_esta_sesión_solo_*si_estás_comprometida_a_asistir__*\\n\\n*-esta_sesión_es_una_sesión_enfocada_a_ver_tu_caso_para_entrar_a_la_terapia_grupal_*_\\n\\nsin_tu_compromiso,_no_puede_haber_avance__¿trato_hecho?\":\"interes_sesion_personal\",\n",
    "                   \"start_date_(utc)\":\"start_date\",\n",
    "                   \"submit_date_(utc)\":\"submit_date\"\n",
    "                  })"
   ]
  },
  {
   "cell_type": "code",
   "execution_count": 10,
   "id": "363709e8-b616-40fe-aa96-f7c69c1802c2",
   "metadata": {
    "tags": []
   },
   "outputs": [
    {
     "data": {
      "text/plain": [
       "nombre                             object\n",
       "politica_privacidad                object\n",
       "email                              object\n",
       "telefono                          float64\n",
       "zona_horaria                       object\n",
       "condiciones_terapia                object\n",
       "problema_principal                 object\n",
       "cambios_deseados                   object\n",
       "busqueda_en_terapia                object\n",
       "interes_reserva                    object\n",
       "interes_sesion_personal            object\n",
       "response_type                      object\n",
       "start_date                 datetime64[ns]\n",
       "submit_date                datetime64[ns]\n",
       "network_id                         object\n",
       "dtype: object"
      ]
     },
     "execution_count": 10,
     "metadata": {},
     "output_type": "execute_result"
    }
   ],
   "source": [
    "df.dtypes"
   ]
  },
  {
   "cell_type": "markdown",
   "id": "56fff22b-3805-4fcb-aff4-2cfba100542f",
   "metadata": {},
   "source": [
    "### Leyenda de columnas:\n",
    "\n",
    "**nombre**: nombre de pila\n",
    "\n",
    "**politica_privacidad**: acepta políticas de privacidad y consentimiento publicitario\n",
    "\n",
    "**email**: correo electrónico\n",
    "\n",
    "**telefono**: telefono con extensión\n",
    "\n",
    "**zona_horaria**: 3 zonas contempladas (Europa, Latam/USA, Asia/Australia)\n",
    "\n",
    "**condiciones_terapia**: la usuaria puede asumir condiciones y precio de terapia grupal\n",
    "\n",
    "**problema_principal**: qué no funciona en sus vidas para buscar terapia grupal\n",
    "\n",
    "**cambios_deseados**: qué buscan cambiar gracias a la terapia grupal\n",
    "\n",
    "**busqueda_en_terapia**: cómo creen que la terapia grupañ les ayudará\n",
    "\n",
    "**interes_reserva**: si están interesadas en reservar plaza\n",
    "\n",
    "**interes_sesion_personal**: si están interesadas en realizar una sesión personalizada sobre su caso en específico de cara a entrar en la terapia grupal\n",
    "\n",
    "**start_date**: momento en que comienzan el typeform\n",
    "\n",
    "**submit_date**: momento en que finalizan el typeform\n",
    "\n",
    "**network_id**: id específico de su entrada"
   ]
  },
  {
   "cell_type": "markdown",
   "id": "aa53647b-389f-46ad-b088-4b1036e75079",
   "metadata": {},
   "source": [
    "## STANDARIZATION & NULLS"
   ]
  },
  {
   "cell_type": "markdown",
   "id": "26132fea-6763-4c18-95ab-fb33c5199d9d",
   "metadata": {
    "tags": []
   },
   "source": [
    "### Política de Privacidad"
   ]
  },
  {
   "cell_type": "code",
   "execution_count": 11,
   "id": "8ffbbe53-7456-4fdc-a9bd-5c5eb9845a9d",
   "metadata": {
    "tags": []
   },
   "outputs": [
    {
     "data": {
      "text/plain": [
       "politica_privacidad\n",
       "Acepto! yes!    1069\n",
       "Name: count, dtype: int64"
      ]
     },
     "execution_count": 11,
     "metadata": {},
     "output_type": "execute_result"
    }
   ],
   "source": [
    "df[\"politica_privacidad\"].value_counts()"
   ]
  },
  {
   "cell_type": "code",
   "execution_count": 12,
   "id": "32517709-beda-4b45-9164-3142812d0ba3",
   "metadata": {
    "tags": []
   },
   "outputs": [],
   "source": [
    "df = replace_fillna(df, \"politica_privacidad\", replace_dict={\"Acepto! yes!\":\"Yes\"}, fill_value=\"No\")"
   ]
  },
  {
   "cell_type": "code",
   "execution_count": 13,
   "id": "0cf64e7b-970c-42d9-9738-7704627fcdb8",
   "metadata": {
    "tags": []
   },
   "outputs": [
    {
     "data": {
      "text/plain": [
       "politica_privacidad\n",
       "Yes    1069\n",
       "No      170\n",
       "Name: count, dtype: int64"
      ]
     },
     "execution_count": 13,
     "metadata": {},
     "output_type": "execute_result"
    }
   ],
   "source": [
    "df[\"politica_privacidad\"].value_counts()"
   ]
  },
  {
   "cell_type": "markdown",
   "id": "272691c3-ed6e-48f7-a533-288b2cb68c72",
   "metadata": {},
   "source": [
    "#### Teléfono"
   ]
  },
  {
   "cell_type": "code",
   "execution_count": 14,
   "id": "2eb08c91-2477-4d98-8291-40ea9d8388ac",
   "metadata": {
    "tags": []
   },
   "outputs": [
    {
     "data": {
      "text/plain": [
       "0       5.233226e+11\n",
       "1       5.198916e+10\n",
       "2       3.934979e+11\n",
       "3       5.492604e+12\n",
       "4       5.699234e+10\n",
       "            ...     \n",
       "1234             NaN\n",
       "1235             NaN\n",
       "1236             NaN\n",
       "1237             NaN\n",
       "1238             NaN\n",
       "Name: telefono, Length: 1239, dtype: float64"
      ]
     },
     "execution_count": 14,
     "metadata": {},
     "output_type": "execute_result"
    }
   ],
   "source": [
    "df[\"telefono\"]"
   ]
  },
  {
   "cell_type": "code",
   "execution_count": 15,
   "id": "5e83fdd6-ac11-4794-a602-628f5ac920d8",
   "metadata": {
    "tags": []
   },
   "outputs": [],
   "source": [
    "df[\"telefono\"] = df[\"telefono\"].apply(format_phone)"
   ]
  },
  {
   "cell_type": "code",
   "execution_count": 16,
   "id": "511cb18d-9de6-4414-b98e-d8ba4b0a5411",
   "metadata": {
    "tags": []
   },
   "outputs": [
    {
     "data": {
      "text/plain": [
       "372"
      ]
     },
     "execution_count": 16,
     "metadata": {},
     "output_type": "execute_result"
    }
   ],
   "source": [
    "df[\"telefono\"].isna().sum()"
   ]
  },
  {
   "cell_type": "code",
   "execution_count": 17,
   "id": "f8d73232-86a5-41b4-8d0c-9aab3c3c8d8e",
   "metadata": {
    "tags": []
   },
   "outputs": [],
   "source": [
    "df[\"telefono\"] = df[\"telefono\"].fillna(\"Sin completar\")"
   ]
  },
  {
   "cell_type": "code",
   "execution_count": 18,
   "id": "02bb023b-4b07-4b76-b2fa-8d319d269ba9",
   "metadata": {
    "tags": []
   },
   "outputs": [
    {
     "data": {
      "text/plain": [
       "77       +34 603 40 86 99\n",
       "751      +61 457 51 53 58\n",
       "698      +34 671 73 60 62\n",
       "19       +34 662 28 08 70\n",
       "1180        Sin completar\n",
       "194     +58 412 10 09 215\n",
       "325     +52 556 44 66 641\n",
       "513      +34 630 77 25 88\n",
       "258     +39 392 66 05 478\n",
       "213      +34 608 34 79 15\n",
       "Name: telefono, dtype: object"
      ]
     },
     "execution_count": 18,
     "metadata": {},
     "output_type": "execute_result"
    }
   ],
   "source": [
    "df[\"telefono\"].sample(10)"
   ]
  },
  {
   "cell_type": "markdown",
   "id": "e856e21f-0cf3-4674-9cda-8ac816c5a1ce",
   "metadata": {
    "tags": []
   },
   "source": [
    "### Zona horaria"
   ]
  },
  {
   "cell_type": "code",
   "execution_count": 19,
   "id": "14ef8601-deea-48d1-9d03-d263ee7bd4f1",
   "metadata": {
    "tags": []
   },
   "outputs": [
    {
     "data": {
      "text/plain": [
       "zona_horaria\n",
       "Europa                231\n",
       "Latino America/USA    124\n",
       "Asia/Australia          6\n",
       "Name: count, dtype: int64"
      ]
     },
     "execution_count": 19,
     "metadata": {},
     "output_type": "execute_result"
    }
   ],
   "source": [
    "df[\"zona_horaria\"].value_counts()"
   ]
  },
  {
   "cell_type": "code",
   "execution_count": 20,
   "id": "df444380-12e2-411f-886a-4df73beddf90",
   "metadata": {
    "tags": []
   },
   "outputs": [],
   "source": [
    "df = replace_fillna(df, \"zona_horaria\", replace_dict={\"Europa\":\"Europa\", \"Latino America/USA\":\"Latam/USA\", \"Asia/Australia\":\"Asia/Australia\"}, fill_value=\"Sin completar\")"
   ]
  },
  {
   "cell_type": "code",
   "execution_count": 21,
   "id": "460fa69c-51a1-4d68-896f-218f02f59114",
   "metadata": {
    "tags": []
   },
   "outputs": [
    {
     "data": {
      "text/plain": [
       "zona_horaria\n",
       "Sin completar     878\n",
       "Europa            231\n",
       "Latam/USA         124\n",
       "Asia/Australia      6\n",
       "Name: count, dtype: int64"
      ]
     },
     "execution_count": 21,
     "metadata": {},
     "output_type": "execute_result"
    }
   ],
   "source": [
    "df[\"zona_horaria\"].value_counts()"
   ]
  },
  {
   "cell_type": "markdown",
   "id": "a4d2d6ae-72da-4bf9-b6ed-623152a8dba5",
   "metadata": {},
   "source": [
    "### Condiciones terapia"
   ]
  },
  {
   "cell_type": "code",
   "execution_count": 22,
   "id": "d787c6d0-6be8-4fff-af1a-0ba7d5a7a2c0",
   "metadata": {
    "tags": []
   },
   "outputs": [
    {
     "data": {
      "text/plain": [
       "condiciones_terapia\n",
       "NaN                                    1115\n",
       "No se ajusta a mis posibilidades 🙏🏽     106\n",
       "Sí se ajusta a mis posibilidades ❤️      18\n",
       "Name: count, dtype: int64"
      ]
     },
     "execution_count": 22,
     "metadata": {},
     "output_type": "execute_result"
    }
   ],
   "source": [
    "df[\"condiciones_terapia\"].value_counts(dropna=False)"
   ]
  },
  {
   "cell_type": "code",
   "execution_count": 23,
   "id": "08c72cea-36fe-45a6-a688-c6a55732635e",
   "metadata": {
    "tags": []
   },
   "outputs": [],
   "source": [
    "df = replace_fillna(df, \"condiciones_terapia\", replace_dict={\"No se ajusta a mis posibilidades 🙏🏽\":\"No (Latam)\", \"Sí se ajusta a mis posibilidades ❤️\":\"Yes (Latam)\"}, fill_value=\"Yes\")"
   ]
  },
  {
   "cell_type": "code",
   "execution_count": 24,
   "id": "0b357cf3-6112-464f-bae0-bd423a625a7f",
   "metadata": {
    "tags": []
   },
   "outputs": [
    {
     "data": {
      "text/plain": [
       "condiciones_terapia\n",
       "Yes            1115\n",
       "No (Latam)      106\n",
       "Yes (Latam)      18\n",
       "Name: count, dtype: int64"
      ]
     },
     "execution_count": 24,
     "metadata": {},
     "output_type": "execute_result"
    }
   ],
   "source": [
    "df[\"condiciones_terapia\"].value_counts(dropna=False)"
   ]
  },
  {
   "cell_type": "markdown",
   "id": "9064d7e2-905d-4a7a-be35-b80366aefab4",
   "metadata": {},
   "source": [
    "#### Problema principal - Cambios deseados - Búsqueda en terapia"
   ]
  },
  {
   "cell_type": "code",
   "execution_count": 25,
   "id": "637a3edd-9611-4609-a00b-1808063c5172",
   "metadata": {
    "tags": []
   },
   "outputs": [],
   "source": [
    "columnas_nan = [\"problema_principal\", \"cambios_deseados\", \"busqueda_en_terapia\"]"
   ]
  },
  {
   "cell_type": "code",
   "execution_count": 26,
   "id": "4e3e1a08-0f38-4f68-8a7d-a774ded39512",
   "metadata": {
    "tags": []
   },
   "outputs": [],
   "source": [
    "df[columnas_nan] = df[columnas_nan].fillna(\"Sin completar\")"
   ]
  },
  {
   "cell_type": "markdown",
   "id": "2139194f-b1ba-40a9-8050-33a5defe7593",
   "metadata": {},
   "source": [
    "### Interés reserva"
   ]
  },
  {
   "cell_type": "code",
   "execution_count": 27,
   "id": "f387fb7d-3be3-4f62-b0ea-40906efbbb95",
   "metadata": {
    "tags": []
   },
   "outputs": [
    {
     "data": {
      "text/plain": [
       "interes_reserva\n",
       "Sí, estoy dispuesta a invertir en mí y tengo disponibilidad semanal.                                        439\n",
       "Sí, estoy dispuesta a invertir en mí y tengo disponibilidad semanal, aunque me cuadraría pagar a plazos.    331\n",
       "No, ahora mismo no estoy dispuesta a invertir en terapia.                                                   258\n",
       "NaN                                                                                                         211\n",
       "Name: count, dtype: int64"
      ]
     },
     "execution_count": 27,
     "metadata": {},
     "output_type": "execute_result"
    }
   ],
   "source": [
    "df[\"interes_reserva\"].value_counts(dropna=False)"
   ]
  },
  {
   "cell_type": "code",
   "execution_count": 28,
   "id": "5dfc1cbf-fa22-47a6-bf46-1edb813f2f92",
   "metadata": {
    "tags": []
   },
   "outputs": [],
   "source": [
    "df = replace_fillna(df, \"interes_reserva\", replace_dict={\"Sí, estoy dispuesta a invertir en mí y tengo disponibilidad semanal.\":\"Yes\", \n",
    "                                                         \"Sí, estoy dispuesta a invertir en mí y tengo disponibilidad semanal, aunque me cuadraría pagar a plazos.\":\"Yes (Pago plazos)\",\n",
    "                                                         \"No, ahora mismo no estoy dispuesta a invertir en terapia.\":\"No\"\n",
    "                                                        }, \n",
    "                                                         fill_value=\"Sin completar\")"
   ]
  },
  {
   "cell_type": "code",
   "execution_count": 29,
   "id": "786c0432-6759-41d5-b35d-b0b5c58f4a78",
   "metadata": {
    "tags": []
   },
   "outputs": [
    {
     "data": {
      "text/plain": [
       "interes_reserva\n",
       "Yes                  439\n",
       "Yes (Pago plazos)    331\n",
       "No                   258\n",
       "Sin completar        211\n",
       "Name: count, dtype: int64"
      ]
     },
     "execution_count": 29,
     "metadata": {},
     "output_type": "execute_result"
    }
   ],
   "source": [
    "df[\"interes_reserva\"].value_counts(dropna=False)"
   ]
  },
  {
   "cell_type": "markdown",
   "id": "c8041b63-2b4b-48d2-a6f4-25ac3719afde",
   "metadata": {},
   "source": [
    "#### Interés Sesión personalizada"
   ]
  },
  {
   "cell_type": "code",
   "execution_count": 30,
   "id": "68b363aa-b1f4-4400-83a8-47a63f86b803",
   "metadata": {
    "tags": []
   },
   "outputs": [
    {
     "data": {
      "text/plain": [
       "interes_sesion_personal\n",
       "Sí!! Estoy dispuesta a invertirme en mí y comprometida a asistir.    820\n",
       "NaN                                                                  265\n",
       "No, estoy comprometida ni puedo invertir prefiero no seguir          154\n",
       "Name: count, dtype: int64"
      ]
     },
     "execution_count": 30,
     "metadata": {},
     "output_type": "execute_result"
    }
   ],
   "source": [
    "df[\"interes_sesion_personal\"].value_counts(dropna=False)"
   ]
  },
  {
   "cell_type": "code",
   "execution_count": 31,
   "id": "4ef653d3-5f70-417f-8cf7-6f35ce1f5412",
   "metadata": {
    "tags": []
   },
   "outputs": [],
   "source": [
    "df = replace_fillna(df, \"interes_sesion_personal\", replace_dict={\"Sí!! Estoy dispuesta a invertirme en mí y comprometida a asistir.\":\"Yes\", \n",
    "                                                         \"No, estoy comprometida ni puedo invertir prefiero no seguir\":\"No\"\n",
    "                                                        }, \n",
    "                                                         fill_value=\"Sin completar\")"
   ]
  },
  {
   "cell_type": "code",
   "execution_count": 32,
   "id": "0cab163b-b284-4627-9f7a-46d9e85aaca3",
   "metadata": {
    "tags": []
   },
   "outputs": [
    {
     "data": {
      "text/plain": [
       "interes_sesion_personal\n",
       "Yes              820\n",
       "Sin completar    265\n",
       "No               154\n",
       "Name: count, dtype: int64"
      ]
     },
     "execution_count": 32,
     "metadata": {},
     "output_type": "execute_result"
    }
   ],
   "source": [
    "df[\"interes_sesion_personal\"].value_counts(dropna=False)"
   ]
  },
  {
   "cell_type": "markdown",
   "id": "fd06f8e9-7d31-4ad2-ba66-69c552c40232",
   "metadata": {},
   "source": [
    "### *New column*: país"
   ]
  },
  {
   "cell_type": "code",
   "execution_count": 33,
   "id": "5c5d1c0b-f1e0-4069-8d00-b5ad7bc8387e",
   "metadata": {
    "tags": []
   },
   "outputs": [],
   "source": [
    "df_code = apply_country_code(df, \"telefono\", \"codigo_tlf\")"
   ]
  },
  {
   "cell_type": "code",
   "execution_count": 34,
   "id": "ff264e58-9c54-483e-8135-01daabe8e827",
   "metadata": {
    "tags": []
   },
   "outputs": [],
   "source": [
    "df_code = df_code.reset_index(drop=True)"
   ]
  },
  {
   "cell_type": "code",
   "execution_count": 35,
   "id": "c5f14863-2453-428e-a502-a7ccaa1c0fcd",
   "metadata": {
    "tags": []
   },
   "outputs": [],
   "source": [
    "df_code = pd.DataFrame(df_code)"
   ]
  },
  {
   "cell_type": "code",
   "execution_count": 36,
   "id": "59aa6741-1065-4776-8f86-60f59ca68cc4",
   "metadata": {
    "tags": []
   },
   "outputs": [
    {
     "data": {
      "text/html": [
       "<div>\n",
       "<style scoped>\n",
       "    .dataframe tbody tr th:only-of-type {\n",
       "        vertical-align: middle;\n",
       "    }\n",
       "\n",
       "    .dataframe tbody tr th {\n",
       "        vertical-align: top;\n",
       "    }\n",
       "\n",
       "    .dataframe thead th {\n",
       "        text-align: right;\n",
       "    }\n",
       "</style>\n",
       "<table border=\"1\" class=\"dataframe\">\n",
       "  <thead>\n",
       "    <tr style=\"text-align: right;\">\n",
       "      <th></th>\n",
       "      <th>codigo_tlf</th>\n",
       "    </tr>\n",
       "  </thead>\n",
       "  <tbody>\n",
       "    <tr>\n",
       "      <th>56</th>\n",
       "      <td>+34</td>\n",
       "    </tr>\n",
       "    <tr>\n",
       "      <th>687</th>\n",
       "      <td>+34</td>\n",
       "    </tr>\n",
       "    <tr>\n",
       "      <th>836</th>\n",
       "      <td>+41</td>\n",
       "    </tr>\n",
       "    <tr>\n",
       "      <th>511</th>\n",
       "      <td>+34</td>\n",
       "    </tr>\n",
       "    <tr>\n",
       "      <th>1134</th>\n",
       "      <td>Sin completar</td>\n",
       "    </tr>\n",
       "  </tbody>\n",
       "</table>\n",
       "</div>"
      ],
      "text/plain": [
       "         codigo_tlf\n",
       "56              +34\n",
       "687             +34\n",
       "836             +41\n",
       "511             +34\n",
       "1134  Sin completar"
      ]
     },
     "execution_count": 36,
     "metadata": {},
     "output_type": "execute_result"
    }
   ],
   "source": [
    "df_code.sample(5)"
   ]
  },
  {
   "cell_type": "code",
   "execution_count": 37,
   "id": "5a2e2dbe-4dc1-48cd-9f40-ede5bc67da96",
   "metadata": {
    "tags": []
   },
   "outputs": [],
   "source": [
    "df_code[\"pais\"] = df_code[\"codigo_tlf\"].apply(country)"
   ]
  },
  {
   "cell_type": "code",
   "execution_count": 38,
   "id": "694c5d48-8bda-4df6-a655-61e102123ee6",
   "metadata": {
    "tags": []
   },
   "outputs": [
    {
     "data": {
      "text/html": [
       "<div>\n",
       "<style scoped>\n",
       "    .dataframe tbody tr th:only-of-type {\n",
       "        vertical-align: middle;\n",
       "    }\n",
       "\n",
       "    .dataframe tbody tr th {\n",
       "        vertical-align: top;\n",
       "    }\n",
       "\n",
       "    .dataframe thead th {\n",
       "        text-align: right;\n",
       "    }\n",
       "</style>\n",
       "<table border=\"1\" class=\"dataframe\">\n",
       "  <thead>\n",
       "    <tr style=\"text-align: right;\">\n",
       "      <th></th>\n",
       "      <th>codigo_tlf</th>\n",
       "      <th>pais</th>\n",
       "    </tr>\n",
       "  </thead>\n",
       "  <tbody>\n",
       "    <tr>\n",
       "      <th>0</th>\n",
       "      <td>+52</td>\n",
       "      <td>México</td>\n",
       "    </tr>\n",
       "    <tr>\n",
       "      <th>1</th>\n",
       "      <td>+51</td>\n",
       "      <td>Perú</td>\n",
       "    </tr>\n",
       "    <tr>\n",
       "      <th>2</th>\n",
       "      <td>+39</td>\n",
       "      <td>Italia</td>\n",
       "    </tr>\n",
       "    <tr>\n",
       "      <th>3</th>\n",
       "      <td>+54</td>\n",
       "      <td>Argentina</td>\n",
       "    </tr>\n",
       "    <tr>\n",
       "      <th>4</th>\n",
       "      <td>+56</td>\n",
       "      <td>Chile</td>\n",
       "    </tr>\n",
       "  </tbody>\n",
       "</table>\n",
       "</div>"
      ],
      "text/plain": [
       "  codigo_tlf       pais\n",
       "0        +52     México\n",
       "1        +51       Perú\n",
       "2        +39     Italia\n",
       "3        +54  Argentina\n",
       "4        +56      Chile"
      ]
     },
     "execution_count": 38,
     "metadata": {},
     "output_type": "execute_result"
    }
   ],
   "source": [
    "df_code.head(5)"
   ]
  },
  {
   "cell_type": "code",
   "execution_count": 39,
   "id": "6033d35d-5e3a-4632-9726-b4943af319ae",
   "metadata": {
    "tags": []
   },
   "outputs": [],
   "source": [
    "df_columns = df.columns.to_list()"
   ]
  },
  {
   "cell_type": "code",
   "execution_count": 40,
   "id": "2ee265cc-8059-402d-8188-51acdac290ae",
   "metadata": {
    "tags": []
   },
   "outputs": [
    {
     "data": {
      "text/plain": [
       "4"
      ]
     },
     "execution_count": 40,
     "metadata": {},
     "output_type": "execute_result"
    }
   ],
   "source": [
    "df_columns.index(\"zona_horaria\")"
   ]
  },
  {
   "cell_type": "code",
   "execution_count": 41,
   "id": "0db0a2f8-c7fa-4d69-87b1-7a787cd95b98",
   "metadata": {
    "tags": []
   },
   "outputs": [],
   "source": [
    "df.insert(5, \"pais\", df_code[\"pais\"])"
   ]
  },
  {
   "cell_type": "code",
   "execution_count": 42,
   "id": "fb7479ee-e4d3-4ef7-9116-db16c0532d94",
   "metadata": {
    "tags": []
   },
   "outputs": [],
   "source": [
    "df.drop(columns=[\"codigo_tlf\"], inplace=True)"
   ]
  },
  {
   "cell_type": "markdown",
   "id": "7a4d7cb3-cb76-4e12-8680-e116658ba9a0",
   "metadata": {},
   "source": [
    "## CALENDLY MERGE: SESSIONS DONE"
   ]
  },
  {
   "cell_type": "markdown",
   "id": "3fcf81af-23d2-42ab-b82d-249653c93f6f",
   "metadata": {},
   "source": [
    "### Set up"
   ]
  },
  {
   "cell_type": "code",
   "execution_count": 43,
   "id": "ff02efda-48b8-4ae7-91c3-0103e1bfc1a0",
   "metadata": {
    "tags": []
   },
   "outputs": [],
   "source": [
    "data2 = pd.read_excel(\"Calendly 15 sp 2024.xlsx\")"
   ]
  },
  {
   "cell_type": "code",
   "execution_count": 44,
   "id": "a4553fc0-35a3-456d-b47c-23d381aa91b1",
   "metadata": {
    "tags": []
   },
   "outputs": [],
   "source": [
    "df2 = data2.copy()"
   ]
  },
  {
   "cell_type": "code",
   "execution_count": 45,
   "id": "b06301d4-15b1-419b-8fa8-3ddb215624fa",
   "metadata": {
    "tags": []
   },
   "outputs": [],
   "source": [
    "df2.columns = df2.columns.str.lower().str.replace(\" \",\"_\").str.replace(\".\",\"_\").str.replace(\":\",\"\")"
   ]
  },
  {
   "cell_type": "code",
   "execution_count": 46,
   "id": "65397374-7578-4800-8855-cb7f9a2989b4",
   "metadata": {
    "tags": []
   },
   "outputs": [
    {
     "data": {
      "text/plain": [
       "(629, 51)"
      ]
     },
     "execution_count": 46,
     "metadata": {},
     "output_type": "execute_result"
    }
   ],
   "source": [
    "df2.shape"
   ]
  },
  {
   "cell_type": "code",
   "execution_count": 47,
   "id": "3d57aa1b-aab7-46c0-a479-b1a1f4f56555",
   "metadata": {
    "tags": []
   },
   "outputs": [],
   "source": [
    "calendly = df2[[\"invitee_email\", \"start_date_&_time\", \"end_date_&_time\"]]"
   ]
  },
  {
   "cell_type": "code",
   "execution_count": 48,
   "id": "86b0d3b6-caf6-47fa-acfa-d43d5b992bbe",
   "metadata": {
    "tags": []
   },
   "outputs": [],
   "source": [
    "df[\"sesion_completada\"] = df[\"email\"].isin(calendly[\"invitee_email\"]).map({True: \"Yes\", False: \"No\"})"
   ]
  },
  {
   "cell_type": "code",
   "execution_count": 49,
   "id": "7987e080-5ff2-4829-8ab6-6f1376325f42",
   "metadata": {
    "tags": []
   },
   "outputs": [
    {
     "data": {
      "text/plain": [
       "sesion_completada\n",
       "No     700\n",
       "Yes    539\n",
       "Name: count, dtype: int64"
      ]
     },
     "execution_count": 49,
     "metadata": {},
     "output_type": "execute_result"
    }
   ],
   "source": [
    "df[\"sesion_completada\"].value_counts()"
   ]
  },
  {
   "cell_type": "markdown",
   "id": "4eff869d-8e9b-4c00-9fb2-e5f73e1b6dbc",
   "metadata": {
    "tags": []
   },
   "source": [
    "### Anonymize variables "
   ]
  },
  {
   "cell_type": "code",
   "execution_count": 50,
   "id": "c54bc37f-85b7-410c-b045-91e9b3c12c06",
   "metadata": {
    "tags": []
   },
   "outputs": [],
   "source": [
    "df['nombre'] = df['nombre'].apply(anonymize_name)\n",
    "df['email'] = df['email'].apply(anonymize_email)\n",
    "df['telefono'] = df['telefono'].apply(anonymize_phone)"
   ]
  },
  {
   "cell_type": "code",
   "execution_count": 51,
   "id": "56e5488d-84f6-4c33-b4a5-286d42a2b2e0",
   "metadata": {
    "tags": []
   },
   "outputs": [
    {
     "data": {
      "text/html": [
       "<div>\n",
       "<style scoped>\n",
       "    .dataframe tbody tr th:only-of-type {\n",
       "        vertical-align: middle;\n",
       "    }\n",
       "\n",
       "    .dataframe tbody tr th {\n",
       "        vertical-align: top;\n",
       "    }\n",
       "\n",
       "    .dataframe thead th {\n",
       "        text-align: right;\n",
       "    }\n",
       "</style>\n",
       "<table border=\"1\" class=\"dataframe\">\n",
       "  <thead>\n",
       "    <tr style=\"text-align: right;\">\n",
       "      <th></th>\n",
       "      <th>nombre</th>\n",
       "      <th>politica_privacidad</th>\n",
       "      <th>email</th>\n",
       "      <th>telefono</th>\n",
       "      <th>zona_horaria</th>\n",
       "      <th>pais</th>\n",
       "      <th>condiciones_terapia</th>\n",
       "      <th>problema_principal</th>\n",
       "      <th>cambios_deseados</th>\n",
       "      <th>busqueda_en_terapia</th>\n",
       "      <th>interes_reserva</th>\n",
       "      <th>interes_sesion_personal</th>\n",
       "      <th>response_type</th>\n",
       "      <th>start_date</th>\n",
       "      <th>submit_date</th>\n",
       "      <th>network_id</th>\n",
       "      <th>sesion_completada</th>\n",
       "    </tr>\n",
       "  </thead>\n",
       "  <tbody>\n",
       "    <tr>\n",
       "      <th>0</th>\n",
       "      <td>51c75f94</td>\n",
       "      <td>Yes</td>\n",
       "      <td>d2db4125@gmail.com</td>\n",
       "      <td>+52 4eb88f07</td>\n",
       "      <td>Latam/USA</td>\n",
       "      <td>México</td>\n",
       "      <td>No (Latam)</td>\n",
       "      <td>Sin completar</td>\n",
       "      <td>Sin completar</td>\n",
       "      <td>Sin completar</td>\n",
       "      <td>Sin completar</td>\n",
       "      <td>Sin completar</td>\n",
       "      <td>completed</td>\n",
       "      <td>2024-09-15 02:31:31</td>\n",
       "      <td>2024-09-15 02:33:19</td>\n",
       "      <td>301ade9f8b</td>\n",
       "      <td>No</td>\n",
       "    </tr>\n",
       "    <tr>\n",
       "      <th>1</th>\n",
       "      <td>8c3a0eb7</td>\n",
       "      <td>Yes</td>\n",
       "      <td>b277736b@gmail.com</td>\n",
       "      <td>+51 40bef173</td>\n",
       "      <td>Latam/USA</td>\n",
       "      <td>Perú</td>\n",
       "      <td>No (Latam)</td>\n",
       "      <td>Sin completar</td>\n",
       "      <td>Sin completar</td>\n",
       "      <td>Sin completar</td>\n",
       "      <td>Sin completar</td>\n",
       "      <td>Sin completar</td>\n",
       "      <td>completed</td>\n",
       "      <td>2024-09-14 04:30:39</td>\n",
       "      <td>2024-09-14 04:32:26</td>\n",
       "      <td>a3dc8e3bc7</td>\n",
       "      <td>No</td>\n",
       "    </tr>\n",
       "    <tr>\n",
       "      <th>2</th>\n",
       "      <td>a5c59c03</td>\n",
       "      <td>Yes</td>\n",
       "      <td>fc17a6d2@gmail.com</td>\n",
       "      <td>+39 7b3288f3</td>\n",
       "      <td>Europa</td>\n",
       "      <td>Italia</td>\n",
       "      <td>Yes</td>\n",
       "      <td>A pesar del hecho que soy consciente de dónde ...</td>\n",
       "      <td>Me gustaría lograr expresarme con más segurida...</td>\n",
       "      <td>Porque ya hice terapia individual (y lo agrade...</td>\n",
       "      <td>Yes (Pago plazos)</td>\n",
       "      <td>Yes</td>\n",
       "      <td>completed</td>\n",
       "      <td>2024-09-13 18:15:53</td>\n",
       "      <td>2024-09-13 18:25:03</td>\n",
       "      <td>1eab984797</td>\n",
       "      <td>No</td>\n",
       "    </tr>\n",
       "    <tr>\n",
       "      <th>3</th>\n",
       "      <td>6f7e8c07</td>\n",
       "      <td>Yes</td>\n",
       "      <td>e7d63ca0@gmail.com</td>\n",
       "      <td>+54 4bbe53b8</td>\n",
       "      <td>Latam/USA</td>\n",
       "      <td>Argentina</td>\n",
       "      <td>No (Latam)</td>\n",
       "      <td>Sin completar</td>\n",
       "      <td>Sin completar</td>\n",
       "      <td>Sin completar</td>\n",
       "      <td>Sin completar</td>\n",
       "      <td>Sin completar</td>\n",
       "      <td>completed</td>\n",
       "      <td>2024-09-13 05:08:20</td>\n",
       "      <td>2024-09-13 05:09:54</td>\n",
       "      <td>b46f9fdeda</td>\n",
       "      <td>No</td>\n",
       "    </tr>\n",
       "    <tr>\n",
       "      <th>4</th>\n",
       "      <td>707ac562</td>\n",
       "      <td>Yes</td>\n",
       "      <td>55720728@hotmail.com</td>\n",
       "      <td>+56 3a0b3c9e</td>\n",
       "      <td>Latam/USA</td>\n",
       "      <td>Chile</td>\n",
       "      <td>No (Latam)</td>\n",
       "      <td>Sin completar</td>\n",
       "      <td>Sin completar</td>\n",
       "      <td>Sin completar</td>\n",
       "      <td>Sin completar</td>\n",
       "      <td>Sin completar</td>\n",
       "      <td>completed</td>\n",
       "      <td>2024-09-12 21:58:57</td>\n",
       "      <td>2024-09-12 22:00:15</td>\n",
       "      <td>ab982c39ca</td>\n",
       "      <td>No</td>\n",
       "    </tr>\n",
       "  </tbody>\n",
       "</table>\n",
       "</div>"
      ],
      "text/plain": [
       "     nombre politica_privacidad                 email      telefono  \\\n",
       "0  51c75f94                 Yes    d2db4125@gmail.com  +52 4eb88f07   \n",
       "1  8c3a0eb7                 Yes    b277736b@gmail.com  +51 40bef173   \n",
       "2  a5c59c03                 Yes    fc17a6d2@gmail.com  +39 7b3288f3   \n",
       "3  6f7e8c07                 Yes    e7d63ca0@gmail.com  +54 4bbe53b8   \n",
       "4  707ac562                 Yes  55720728@hotmail.com  +56 3a0b3c9e   \n",
       "\n",
       "  zona_horaria       pais condiciones_terapia  \\\n",
       "0    Latam/USA     México          No (Latam)   \n",
       "1    Latam/USA       Perú          No (Latam)   \n",
       "2       Europa     Italia                 Yes   \n",
       "3    Latam/USA  Argentina          No (Latam)   \n",
       "4    Latam/USA      Chile          No (Latam)   \n",
       "\n",
       "                                  problema_principal  \\\n",
       "0                                      Sin completar   \n",
       "1                                      Sin completar   \n",
       "2  A pesar del hecho que soy consciente de dónde ...   \n",
       "3                                      Sin completar   \n",
       "4                                      Sin completar   \n",
       "\n",
       "                                    cambios_deseados  \\\n",
       "0                                      Sin completar   \n",
       "1                                      Sin completar   \n",
       "2  Me gustaría lograr expresarme con más segurida...   \n",
       "3                                      Sin completar   \n",
       "4                                      Sin completar   \n",
       "\n",
       "                                 busqueda_en_terapia    interes_reserva  \\\n",
       "0                                      Sin completar      Sin completar   \n",
       "1                                      Sin completar      Sin completar   \n",
       "2  Porque ya hice terapia individual (y lo agrade...  Yes (Pago plazos)   \n",
       "3                                      Sin completar      Sin completar   \n",
       "4                                      Sin completar      Sin completar   \n",
       "\n",
       "  interes_sesion_personal response_type          start_date  \\\n",
       "0           Sin completar     completed 2024-09-15 02:31:31   \n",
       "1           Sin completar     completed 2024-09-14 04:30:39   \n",
       "2                     Yes     completed 2024-09-13 18:15:53   \n",
       "3           Sin completar     completed 2024-09-13 05:08:20   \n",
       "4           Sin completar     completed 2024-09-12 21:58:57   \n",
       "\n",
       "          submit_date  network_id sesion_completada  \n",
       "0 2024-09-15 02:33:19  301ade9f8b                No  \n",
       "1 2024-09-14 04:32:26  a3dc8e3bc7                No  \n",
       "2 2024-09-13 18:25:03  1eab984797                No  \n",
       "3 2024-09-13 05:09:54  b46f9fdeda                No  \n",
       "4 2024-09-12 22:00:15  ab982c39ca                No  "
      ]
     },
     "execution_count": 51,
     "metadata": {},
     "output_type": "execute_result"
    }
   ],
   "source": [
    "df.head(5)"
   ]
  },
  {
   "cell_type": "markdown",
   "id": "3b9a4a3f-8429-45e6-9f3d-2e4efb840709",
   "metadata": {},
   "source": [
    "### Sessions done"
   ]
  },
  {
   "cell_type": "code",
   "execution_count": 52,
   "id": "d0e03a70-bdcb-45df-b913-c657e7e8480f",
   "metadata": {
    "tags": []
   },
   "outputs": [],
   "source": [
    "sesiones_si = df[df[\"sesion_completada\"] == \"Yes\"]"
   ]
  },
  {
   "cell_type": "code",
   "execution_count": 53,
   "id": "d15ca392-6641-463b-a24d-31a1d5d637c8",
   "metadata": {
    "tags": []
   },
   "outputs": [
    {
     "data": {
      "text/plain": [
       "pais\n",
       "España            281\n",
       "Desconocido       149\n",
       "México             16\n",
       "Argentina          14\n",
       "Colombia           11\n",
       "Chile              10\n",
       "Bolivia             8\n",
       "Perú                6\n",
       "Guatemala           5\n",
       "Estados Unidos      5\n",
       "Name: count, dtype: int64"
      ]
     },
     "execution_count": 53,
     "metadata": {},
     "output_type": "execute_result"
    }
   ],
   "source": [
    "sesiones_si[\"pais\"].value_counts().head(10)"
   ]
  },
  {
   "cell_type": "code",
   "execution_count": 54,
   "id": "fb806c0c-48c5-4bf6-bdf6-c16dd330279d",
   "metadata": {
    "tags": []
   },
   "outputs": [],
   "source": [
    "sesiones_no = df[df[\"sesion_completada\"] == \"No\"]"
   ]
  },
  {
   "cell_type": "code",
   "execution_count": 55,
   "id": "f786b88a-91da-4f98-9d01-ac75bf6f9347",
   "metadata": {
    "tags": []
   },
   "outputs": [
    {
     "data": {
      "text/plain": [
       "pais\n",
       "España            248\n",
       "Desconocido       223\n",
       "Chile              44\n",
       "México             39\n",
       "Argentina          35\n",
       "Estados Unidos     23\n",
       "Colombia           20\n",
       "Guatemala          12\n",
       "Italia              9\n",
       "Bolivia             9\n",
       "Name: count, dtype: int64"
      ]
     },
     "execution_count": 55,
     "metadata": {},
     "output_type": "execute_result"
    }
   ],
   "source": [
    "sesiones_no[\"pais\"].value_counts().head(10)"
   ]
  },
  {
   "cell_type": "markdown",
   "id": "66ddbbe0-8f5b-492b-8b01-d25f9dafe3aa",
   "metadata": {},
   "source": [
    "## EXPORT CLEAN CSV TO EDA"
   ]
  },
  {
   "cell_type": "code",
   "execution_count": 56,
   "id": "303020d5-9f90-4ade-be42-5a062ee4c70b",
   "metadata": {
    "tags": []
   },
   "outputs": [],
   "source": [
    "df.to_csv(\"clean_typeform.csv\", index=False)"
   ]
  },
  {
   "cell_type": "code",
   "execution_count": 57,
   "id": "a45f7d3f-b779-4204-8b53-b9f22c03ef25",
   "metadata": {
    "tags": []
   },
   "outputs": [
    {
     "name": "stdout",
     "output_type": "stream",
     "text": [
      "Package                       Version\n",
      "----------------------------- -----------\n",
      "absl-py                       2.1.0\n",
      "aiobotocore                   2.5.0\n",
      "aiofiles                      22.1.0\n",
      "aiohttp                       3.8.5\n",
      "aioitertools                  0.7.1\n",
      "aiosignal                     1.2.0\n",
      "aiosqlite                     0.18.0\n",
      "alabaster                     0.7.12\n",
      "altair                        5.2.0\n",
      "anaconda-anon-usage           0.4.2\n",
      "anaconda-client               1.12.1\n",
      "anaconda-cloud-auth           0.5.1\n",
      "anaconda-navigator            2.5.0\n",
      "anaconda-project              0.11.1\n",
      "annotated-types               0.6.0\n",
      "anyio                         3.5.0\n",
      "appdirs                       1.4.4\n",
      "archspec                      0.2.3\n",
      "argon2-cffi                   21.3.0\n",
      "argon2-cffi-bindings          21.2.0\n",
      "arrow                         1.2.3\n",
      "asgiref                       3.8.1\n",
      "astroid                       2.14.2\n",
      "asttokens                     2.0.5\n",
      "astunparse                    1.6.3\n",
      "async-timeout                 4.0.2\n",
      "atomicwrites                  1.4.0\n",
      "attrs                         23.1.0\n",
      "Automat                       20.2.0\n",
      "autopep8                      2.0.4\n",
      "Babel                         2.11.0\n",
      "backcall                      0.2.0\n",
      "backports.functools-lru-cache 1.6.4\n",
      "backports.tempfile            1.0\n",
      "backports.weakref             1.0.post1\n",
      "bcrypt                        3.2.0\n",
      "beautifulsoup4                4.12.2\n",
      "binaryornot                   0.4.4\n",
      "black                         24.3.0\n",
      "bleach                        4.1.0\n",
      "blinker                       1.7.0\n",
      "boltons                       23.0.0\n",
      "botocore                      1.29.76\n",
      "Brotli                        1.0.9\n",
      "brotlipy                      0.7.0\n",
      "cachetools                    5.3.3\n",
      "certifi                       2024.2.2\n",
      "cffi                          1.16.0\n",
      "chardet                       4.0.0\n",
      "charset-normalizer            2.0.4\n",
      "click                         8.1.7\n",
      "cloudpickle                   2.2.1\n",
      "clyent                        1.2.2\n",
      "colorama                      0.4.6\n",
      "colorcet                      3.0.1\n",
      "comm                          0.2.1\n",
      "conda                         23.11.0\n",
      "conda-build                   3.28.4\n",
      "conda-content-trust           0.2.0\n",
      "conda_index                   0.4.0\n",
      "conda-libmamba-solver         24.1.0\n",
      "conda-pack                    0.6.0\n",
      "conda-package-handling        2.2.0\n",
      "conda_package_streaming       0.9.0\n",
      "conda-repo-cli                1.0.88\n",
      "conda-token                   0.4.0\n",
      "conda-verify                  3.4.2\n",
      "constantly                    23.10.4\n",
      "contourpy                     1.2.1\n",
      "cookiecutter                  2.6.0\n",
      "cryptography                  42.0.5\n",
      "cssselect                     1.2.0\n",
      "cycler                        0.11.0\n",
      "cytoolz                       0.12.0\n",
      "dask                          2023.6.0\n",
      "debugpy                       1.6.7\n",
      "decorator                     5.1.1\n",
      "defusedxml                    0.7.1\n",
      "diff-match-patch              20200713\n",
      "dill                          0.3.8\n",
      "distlib                       0.3.8\n",
      "distributed                   2023.6.0\n",
      "distro                        1.9.0\n",
      "Django                        5.0.7\n",
      "dm-tree                       0.1.8\n",
      "docstring-to-markdown         0.11\n",
      "docutils                      0.18.1\n",
      "entrypoints                   0.4\n",
      "et-xmlfile                    1.1.0\n",
      "executing                     0.8.3\n",
      "fastjsonschema                2.16.2\n",
      "filelock                      3.13.1\n",
      "flake8                        6.0.0\n",
      "Flask                         2.2.2\n",
      "flatbuffers                   24.3.7\n",
      "fonttools                     4.25.0\n",
      "frozenlist                    1.3.3\n",
      "fsspec                        2024.5.0\n",
      "future                        0.18.3\n",
      "gast                          0.5.4\n",
      "gensim                        4.3.2\n",
      "gitdb                         4.0.11\n",
      "GitPython                     3.1.42\n",
      "glob2                         0.7\n",
      "google-pasta                  0.2.0\n",
      "greenlet                      2.0.1\n",
      "grpcio                        1.62.1\n",
      "h5py                          3.10.0\n",
      "HeapDict                      1.0.1\n",
      "html5lib                      1.1\n",
      "huggingface-hub               0.23.2\n",
      "hyperlink                     21.0.0\n",
      "idna                          3.7\n",
      "imagesize                     1.4.1\n",
      "importlib-metadata            7.0.1\n",
      "incremental                   22.10.0\n",
      "inflection                    0.5.1\n",
      "iniconfig                     1.1.1\n",
      "intel-openmp                  2021.4.0\n",
      "intervaltree                  3.1.0\n",
      "ipykernel                     6.28.0\n",
      "ipython                       8.20.0\n",
      "ipython-genutils              0.2.0\n",
      "ipywidgets                    8.0.4\n",
      "isort                         5.9.3\n",
      "itemadapter                   0.3.0\n",
      "itemloaders                   1.1.0\n",
      "itsdangerous                  2.0.1\n",
      "jaraco.classes                3.2.1\n",
      "jedi                          0.18.1\n",
      "jellyfish                     1.0.1\n",
      "Jinja2                        3.1.3\n",
      "jinja2-time                   0.2.0\n",
      "jmespath                      1.0.1\n",
      "joblib                        1.2.0\n",
      "json5                         0.9.6\n",
      "jsonpatch                     1.33\n",
      "jsonpointer                   2.1\n",
      "jsonschema                    4.19.2\n",
      "jsonschema-specifications     2023.7.1\n",
      "jupyter                       1.0.0\n",
      "jupyter_client                8.6.0\n",
      "jupyter-console               6.6.3\n",
      "jupyter_core                  5.5.0\n",
      "jupyter-events                0.6.3\n",
      "jupyter-server                1.23.4\n",
      "jupyter_server_fileid         0.9.0\n",
      "jupyter_server_ydoc           0.8.0\n",
      "jupyter-ydoc                  0.2.4\n",
      "jupyterlab                    3.6.3\n",
      "jupyterlab-pygments           0.2.2\n",
      "jupyterlab_server             2.22.0\n",
      "jupyterlab-widgets            3.0.5\n",
      "kaleido                       0.2.1\n",
      "keras                         3.0.5\n",
      "keyring                       24.3.1\n",
      "kiwisolver                    1.4.4\n",
      "lazy_loader                   0.2\n",
      "lazy-object-proxy             1.10.0\n",
      "libarchive-c                  2.9\n",
      "libclang                      18.1.1\n",
      "libmambapy                    1.5.8\n",
      "linkify-it-py                 2.0.0\n",
      "llvmlite                      0.40.0\n",
      "lmdb                          1.4.1\n",
      "locket                        1.0.0\n",
      "lxml                          5.2.1\n",
      "lz4                           4.3.2\n",
      "Markdown                      3.4.1\n",
      "markdown-it-py                2.2.0\n",
      "MarkupSafe                    2.1.3\n",
      "matplotlib                    3.9.0\n",
      "matplotlib-inline             0.1.6\n",
      "mccabe                        0.7.0\n",
      "mdit-py-plugins               0.3.0\n",
      "mdurl                         0.1.0\n",
      "menuinst                      1.4.19\n",
      "mistune                       2.0.4\n",
      "mkl                           2021.4.0\n",
      "ml-dtypes                     0.3.2\n",
      "more-itertools                10.1.0\n",
      "mpmath                        1.3.0\n",
      "msgpack                       1.0.3\n",
      "multidict                     6.0.2\n",
      "multipledispatch              0.6.0\n",
      "multiprocess                  0.70.14\n",
      "munkres                       1.1.4\n",
      "mypy-extensions               1.0.0\n",
      "mysql-connector-python        8.0.33\n",
      "mysqlclient                   2.2.4\n",
      "namex                         0.0.7\n",
      "navigator-updater             0.5.0\n",
      "nbclassic                     0.5.5\n",
      "nbclient                      0.8.0\n",
      "nbconvert                     7.10.0\n",
      "nbformat                      5.9.2\n",
      "nest-asyncio                  1.6.0\n",
      "networkx                      3.1\n",
      "nltk                          3.8.1\n",
      "notebook                      6.5.4\n",
      "notebook_shim                 0.2.2\n",
      "numpy                         1.26.4\n",
      "numpydoc                      1.5.0\n",
      "openpyxl                      3.1.5\n",
      "opt-einsum                    3.3.0\n",
      "packaging                     23.2\n",
      "pandas                        2.2.2\n",
      "pandocfilters                 1.5.0\n",
      "param                         1.13.0\n",
      "paramiko                      2.8.1\n",
      "parsel                        1.8.1\n",
      "parso                         0.8.3\n",
      "partd                         1.4.0\n",
      "pathlib                       1.0.1\n",
      "pathspec                      0.10.3\n",
      "pep8                          1.7.1\n",
      "pexpect                       4.8.0\n",
      "pickleshare                   0.7.5\n",
      "pillow                        10.3.0\n",
      "pip                           24.0\n",
      "pipenv                        2024.0.1\n",
      "pkce                          1.0.3\n",
      "pkginfo                       1.10.0\n",
      "platformdirs                  3.10.0\n",
      "plotly                        5.9.0\n",
      "pluggy                        1.0.0\n",
      "ply                           3.11\n",
      "poyo                          0.5.0\n",
      "prometheus-client             0.14.1\n",
      "prompt-toolkit                3.0.43\n",
      "Protego                       0.1.16\n",
      "protobuf                      4.25.3\n",
      "psutil                        5.9.0\n",
      "ptyprocess                    0.7.0\n",
      "pure-eval                     0.2.2\n",
      "py-cpuinfo                    8.0.0\n",
      "pyarrow                       16.1.0\n",
      "pyasn1                        0.4.8\n",
      "pyasn1-modules                0.2.8\n",
      "pycodestyle                   2.10.0\n",
      "pycosat                       0.6.6\n",
      "pycparser                     2.21\n",
      "pyct                          0.5.0\n",
      "pycurl                        7.45.2\n",
      "pydantic                      2.5.3\n",
      "pydantic_core                 2.14.6\n",
      "pydeck                        0.8.1b0\n",
      "PyDispatcher                  2.0.5\n",
      "pydocstyle                    6.3.0\n",
      "pyflakes                      3.0.1\n",
      "Pygments                      2.15.1\n",
      "PyJWT                         2.8.0\n",
      "pylint                        2.16.2\n",
      "pylint-venv                   3.0.3\n",
      "pyls-spyder                   0.4.0\n",
      "PyNaCl                        1.5.0\n",
      "pyodbc                        4.0.34\n",
      "pyOpenSSL                     24.0.0\n",
      "pyparsing                     3.0.9\n",
      "PyQt5                         5.15.10\n",
      "PyQt5-sip                     12.13.0\n",
      "PyQtWebEngine                 5.15.6\n",
      "pyrsistent                    0.18.0\n",
      "PySocks                       1.7.1\n",
      "pytest                        7.4.0\n",
      "python-dateutil               2.9.0.post0\n",
      "python-dotenv                 0.21.0\n",
      "python-json-logger            2.0.7\n",
      "python-lsp-black              2.0.0\n",
      "python-lsp-jsonrpc            1.1.2\n",
      "python-lsp-server             1.7.2\n",
      "python-slugify                5.0.2\n",
      "python-snappy                 0.6.1\n",
      "pytoolconfig                  1.2.6\n",
      "pytz                          2024.1\n",
      "pyviz-comms                   2.3.0\n",
      "pywin32                       305.1\n",
      "pywin32-ctypes                0.2.2\n",
      "pywinpty                      2.0.10\n",
      "PyYAML                        6.0.1\n",
      "pyzmq                         25.1.2\n",
      "QDarkStyle                    3.0.2\n",
      "qstylizer                     0.2.2\n",
      "QtAwesome                     1.2.2\n",
      "qtconsole                     5.4.2\n",
      "QtPy                          2.4.1\n",
      "queuelib                      1.6.2\n",
      "redis                         5.0.8\n",
      "referencing                   0.30.2\n",
      "regex                         2022.7.9\n",
      "requests                      2.31.0\n",
      "requests-file                 1.5.1\n",
      "requests-toolbelt             1.0.0\n",
      "responses                     0.13.3\n",
      "rfc3339-validator             0.1.4\n",
      "rfc3986-validator             0.1.1\n",
      "rich                          13.3.5\n",
      "rope                          1.12.0\n",
      "rpds-py                       0.10.6\n",
      "Rtree                         1.0.1\n",
      "ruamel.yaml                   0.17.21\n",
      "ruamel-yaml-conda             0.17.21\n",
      "s3fs                          2023.4.0\n",
      "safetensors                   0.4.3\n",
      "scikit-learn                  1.5.1\n",
      "scipy                         1.12.0\n",
      "Scrapy                        2.8.0\n",
      "seaborn                       0.13.2\n",
      "semver                        3.0.2\n",
      "Send2Trash                    1.8.0\n",
      "sentiment-analysis-spanish    0.0.25\n",
      "service-identity              18.1.0\n",
      "setuptools                    68.0.0\n",
      "sip                           6.7.12\n",
      "six                           1.16.0\n",
      "smart-open                    5.2.1\n",
      "smmap                         5.0.1\n",
      "sniffio                       1.2.0\n",
      "snowballstemmer               2.2.0\n",
      "sortedcontainers              2.4.0\n",
      "soupsieve                     2.5\n",
      "Sphinx                        5.0.2\n",
      "sphinxcontrib-applehelp       1.0.2\n",
      "sphinxcontrib-devhelp         1.0.2\n",
      "sphinxcontrib-htmlhelp        2.0.0\n",
      "sphinxcontrib-jsmath          1.0.1\n",
      "sphinxcontrib-qthelp          1.0.3\n",
      "sphinxcontrib-serializinghtml 1.1.5\n",
      "spotipy                       2.24.0\n",
      "spyder                        5.4.3\n",
      "spyder-kernels                2.4.4\n",
      "SQLAlchemy                    1.4.39\n",
      "sqlparse                      0.5.1\n",
      "stack-data                    0.2.0\n",
      "streamlit                     1.32.0\n",
      "sympy                         1.11.1\n",
      "tabulate                      0.8.10\n",
      "tbb                           2021.12.0\n",
      "tblib                         1.7.0\n",
      "tenacity                      8.2.2\n",
      "tensorboard                   2.16.2\n",
      "tensorboard-data-server       0.7.2\n",
      "tensorflow                    2.16.1\n",
      "tensorflow-intel              2.16.1\n",
      "tensorflow-io-gcs-filesystem  0.31.0\n",
      "termcolor                     2.4.0\n",
      "terminado                     0.17.1\n",
      "text-unidecode                1.3\n",
      "textdistance                  4.2.1\n",
      "tf_keras                      2.16.0\n",
      "threadpoolctl                 3.5.0\n",
      "three-merge                   0.1.1\n",
      "tinycss2                      1.2.1\n",
      "tldextract                    3.2.0\n",
      "tokenizers                    0.19.1\n",
      "toml                          0.10.2\n",
      "tomlkit                       0.11.1\n",
      "toolz                         0.12.0\n",
      "torch                         2.3.0\n",
      "torchvision                   0.18.0\n",
      "tornado                       6.3.3\n",
      "tqdm                          4.66.4\n",
      "traitlets                     5.7.1\n",
      "transformers                  4.41.1\n",
      "truststore                    0.8.0\n",
      "Twisted                       22.10.0\n",
      "twisted-iocpsupport           1.0.2\n",
      "typing_extensions             4.11.0\n",
      "tzdata                        2023.3\n",
      "uc-micro-py                   1.0.1\n",
      "ujson                         5.4.0\n",
      "Unidecode                     1.2.0\n",
      "urllib3                       2.2.1\n",
      "virtualenv                    20.26.3\n",
      "w3lib                         2.1.2\n",
      "watchdog                      2.1.6\n",
      "wcwidth                       0.2.5\n",
      "webencodings                  0.5.1\n",
      "websocket-client              0.58.0\n",
      "Werkzeug                      2.2.3\n",
      "whatthepatch                  1.0.2\n",
      "wheel                         0.38.4\n",
      "widgetsnbextension            4.0.5\n",
      "win-inet-pton                 1.1.0\n",
      "wordcloud                     1.9.3\n",
      "wrapt                         1.14.1\n",
      "xgboost                       2.0.3\n",
      "xlrd                          2.0.1\n",
      "xlwings                       0.29.1\n",
      "xxhash                        2.0.2\n",
      "xyzservices                   2022.9.0\n",
      "y-py                          0.5.9\n",
      "yapf                          0.31.0\n",
      "yarl                          1.8.1\n",
      "ypy-websocket                 0.8.2\n",
      "zict                          2.2.0\n",
      "zipp                          3.17.0\n",
      "zope.interface                5.4.0\n",
      "zstandard                     0.22.0\n"
     ]
    }
   ],
   "source": [
    "!pip list"
   ]
  },
  {
   "cell_type": "code",
   "execution_count": null,
   "id": "c9e5e5f5-5cf7-42cb-9e82-f99c558d014c",
   "metadata": {},
   "outputs": [],
   "source": []
  }
 ],
 "metadata": {
  "kernelspec": {
   "display_name": "Python 3 (ipykernel)",
   "language": "python",
   "name": "python3"
  },
  "language_info": {
   "codemirror_mode": {
    "name": "ipython",
    "version": 3
   },
   "file_extension": ".py",
   "mimetype": "text/x-python",
   "name": "python",
   "nbconvert_exporter": "python",
   "pygments_lexer": "ipython3",
   "version": "3.11.5"
  }
 },
 "nbformat": 4,
 "nbformat_minor": 5
}
