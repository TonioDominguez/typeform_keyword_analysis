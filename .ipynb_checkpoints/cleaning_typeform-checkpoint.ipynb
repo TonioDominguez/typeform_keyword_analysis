{
 "cells": [
  {
   "cell_type": "markdown",
   "id": "0e79c28e-4082-408c-9ff6-bbb4cdbc6856",
   "metadata": {},
   "source": [
    "## SET UP & DATA WRANGLING"
   ]
  },
  {
   "cell_type": "code",
   "execution_count": 1,
   "id": "c2953d08-e079-4ec5-8dd2-2545a9bdd1f8",
   "metadata": {
    "tags": []
   },
   "outputs": [],
   "source": [
    "import pandas as pd\n",
    "import numpy as np \n",
    "\n",
    "## EDA Libraries \n",
    "import matplotlib.pyplot as plt\n",
    "import seaborn as sns\n",
    "\n",
    "## Settings\n",
    "pd.set_option('display.max_columns', None) # display all columns\n",
    "import warnings\n",
    "warnings.filterwarnings('ignore') # ignore warnings\n",
    "\n",
    "import hashlib # to encode personal details\n",
    "import re"
   ]
  },
  {
   "cell_type": "code",
   "execution_count": 2,
   "id": "2ba5c761-09cc-4ef5-9f82-bc4f6416e3ac",
   "metadata": {
    "tags": []
   },
   "outputs": [
    {
     "ename": "FileNotFoundError",
     "evalue": "[Errno 2] No such file or directory: 'typeform 15-09-2024.xlsx'",
     "output_type": "error",
     "traceback": [
      "\u001b[1;31m---------------------------------------------------------------------------\u001b[0m",
      "\u001b[1;31mFileNotFoundError\u001b[0m                         Traceback (most recent call last)",
      "Cell \u001b[1;32mIn[2], line 1\u001b[0m\n\u001b[1;32m----> 1\u001b[0m data \u001b[38;5;241m=\u001b[39m pd\u001b[38;5;241m.\u001b[39mread_excel(\u001b[38;5;124m\"\u001b[39m\u001b[38;5;124mtypeform 15-09-2024.xlsx\u001b[39m\u001b[38;5;124m\"\u001b[39m)\n",
      "File \u001b[1;32mC:\\ProgramData\\anaconda3\\Lib\\site-packages\\pandas\\io\\excel\\_base.py:495\u001b[0m, in \u001b[0;36mread_excel\u001b[1;34m(io, sheet_name, header, names, index_col, usecols, dtype, engine, converters, true_values, false_values, skiprows, nrows, na_values, keep_default_na, na_filter, verbose, parse_dates, date_parser, date_format, thousands, decimal, comment, skipfooter, storage_options, dtype_backend, engine_kwargs)\u001b[0m\n\u001b[0;32m    493\u001b[0m \u001b[38;5;28;01mif\u001b[39;00m \u001b[38;5;129;01mnot\u001b[39;00m \u001b[38;5;28misinstance\u001b[39m(io, ExcelFile):\n\u001b[0;32m    494\u001b[0m     should_close \u001b[38;5;241m=\u001b[39m \u001b[38;5;28;01mTrue\u001b[39;00m\n\u001b[1;32m--> 495\u001b[0m     io \u001b[38;5;241m=\u001b[39m ExcelFile(\n\u001b[0;32m    496\u001b[0m         io,\n\u001b[0;32m    497\u001b[0m         storage_options\u001b[38;5;241m=\u001b[39mstorage_options,\n\u001b[0;32m    498\u001b[0m         engine\u001b[38;5;241m=\u001b[39mengine,\n\u001b[0;32m    499\u001b[0m         engine_kwargs\u001b[38;5;241m=\u001b[39mengine_kwargs,\n\u001b[0;32m    500\u001b[0m     )\n\u001b[0;32m    501\u001b[0m \u001b[38;5;28;01melif\u001b[39;00m engine \u001b[38;5;129;01mand\u001b[39;00m engine \u001b[38;5;241m!=\u001b[39m io\u001b[38;5;241m.\u001b[39mengine:\n\u001b[0;32m    502\u001b[0m     \u001b[38;5;28;01mraise\u001b[39;00m \u001b[38;5;167;01mValueError\u001b[39;00m(\n\u001b[0;32m    503\u001b[0m         \u001b[38;5;124m\"\u001b[39m\u001b[38;5;124mEngine should not be specified when passing \u001b[39m\u001b[38;5;124m\"\u001b[39m\n\u001b[0;32m    504\u001b[0m         \u001b[38;5;124m\"\u001b[39m\u001b[38;5;124man ExcelFile - ExcelFile already has the engine set\u001b[39m\u001b[38;5;124m\"\u001b[39m\n\u001b[0;32m    505\u001b[0m     )\n",
      "File \u001b[1;32mC:\\ProgramData\\anaconda3\\Lib\\site-packages\\pandas\\io\\excel\\_base.py:1550\u001b[0m, in \u001b[0;36mExcelFile.__init__\u001b[1;34m(self, path_or_buffer, engine, storage_options, engine_kwargs)\u001b[0m\n\u001b[0;32m   1548\u001b[0m     ext \u001b[38;5;241m=\u001b[39m \u001b[38;5;124m\"\u001b[39m\u001b[38;5;124mxls\u001b[39m\u001b[38;5;124m\"\u001b[39m\n\u001b[0;32m   1549\u001b[0m \u001b[38;5;28;01melse\u001b[39;00m:\n\u001b[1;32m-> 1550\u001b[0m     ext \u001b[38;5;241m=\u001b[39m inspect_excel_format(\n\u001b[0;32m   1551\u001b[0m         content_or_path\u001b[38;5;241m=\u001b[39mpath_or_buffer, storage_options\u001b[38;5;241m=\u001b[39mstorage_options\n\u001b[0;32m   1552\u001b[0m     )\n\u001b[0;32m   1553\u001b[0m     \u001b[38;5;28;01mif\u001b[39;00m ext \u001b[38;5;129;01mis\u001b[39;00m \u001b[38;5;28;01mNone\u001b[39;00m:\n\u001b[0;32m   1554\u001b[0m         \u001b[38;5;28;01mraise\u001b[39;00m \u001b[38;5;167;01mValueError\u001b[39;00m(\n\u001b[0;32m   1555\u001b[0m             \u001b[38;5;124m\"\u001b[39m\u001b[38;5;124mExcel file format cannot be determined, you must specify \u001b[39m\u001b[38;5;124m\"\u001b[39m\n\u001b[0;32m   1556\u001b[0m             \u001b[38;5;124m\"\u001b[39m\u001b[38;5;124man engine manually.\u001b[39m\u001b[38;5;124m\"\u001b[39m\n\u001b[0;32m   1557\u001b[0m         )\n",
      "File \u001b[1;32mC:\\ProgramData\\anaconda3\\Lib\\site-packages\\pandas\\io\\excel\\_base.py:1402\u001b[0m, in \u001b[0;36minspect_excel_format\u001b[1;34m(content_or_path, storage_options)\u001b[0m\n\u001b[0;32m   1399\u001b[0m \u001b[38;5;28;01mif\u001b[39;00m \u001b[38;5;28misinstance\u001b[39m(content_or_path, \u001b[38;5;28mbytes\u001b[39m):\n\u001b[0;32m   1400\u001b[0m     content_or_path \u001b[38;5;241m=\u001b[39m BytesIO(content_or_path)\n\u001b[1;32m-> 1402\u001b[0m \u001b[38;5;28;01mwith\u001b[39;00m get_handle(\n\u001b[0;32m   1403\u001b[0m     content_or_path, \u001b[38;5;124m\"\u001b[39m\u001b[38;5;124mrb\u001b[39m\u001b[38;5;124m\"\u001b[39m, storage_options\u001b[38;5;241m=\u001b[39mstorage_options, is_text\u001b[38;5;241m=\u001b[39m\u001b[38;5;28;01mFalse\u001b[39;00m\n\u001b[0;32m   1404\u001b[0m ) \u001b[38;5;28;01mas\u001b[39;00m handle:\n\u001b[0;32m   1405\u001b[0m     stream \u001b[38;5;241m=\u001b[39m handle\u001b[38;5;241m.\u001b[39mhandle\n\u001b[0;32m   1406\u001b[0m     stream\u001b[38;5;241m.\u001b[39mseek(\u001b[38;5;241m0\u001b[39m)\n",
      "File \u001b[1;32mC:\\ProgramData\\anaconda3\\Lib\\site-packages\\pandas\\io\\common.py:882\u001b[0m, in \u001b[0;36mget_handle\u001b[1;34m(path_or_buf, mode, encoding, compression, memory_map, is_text, errors, storage_options)\u001b[0m\n\u001b[0;32m    873\u001b[0m         handle \u001b[38;5;241m=\u001b[39m \u001b[38;5;28mopen\u001b[39m(\n\u001b[0;32m    874\u001b[0m             handle,\n\u001b[0;32m    875\u001b[0m             ioargs\u001b[38;5;241m.\u001b[39mmode,\n\u001b[1;32m   (...)\u001b[0m\n\u001b[0;32m    878\u001b[0m             newline\u001b[38;5;241m=\u001b[39m\u001b[38;5;124m\"\u001b[39m\u001b[38;5;124m\"\u001b[39m,\n\u001b[0;32m    879\u001b[0m         )\n\u001b[0;32m    880\u001b[0m     \u001b[38;5;28;01melse\u001b[39;00m:\n\u001b[0;32m    881\u001b[0m         \u001b[38;5;66;03m# Binary mode\u001b[39;00m\n\u001b[1;32m--> 882\u001b[0m         handle \u001b[38;5;241m=\u001b[39m \u001b[38;5;28mopen\u001b[39m(handle, ioargs\u001b[38;5;241m.\u001b[39mmode)\n\u001b[0;32m    883\u001b[0m     handles\u001b[38;5;241m.\u001b[39mappend(handle)\n\u001b[0;32m    885\u001b[0m \u001b[38;5;66;03m# Convert BytesIO or file objects passed with an encoding\u001b[39;00m\n",
      "\u001b[1;31mFileNotFoundError\u001b[0m: [Errno 2] No such file or directory: 'typeform 15-09-2024.xlsx'"
     ]
    }
   ],
   "source": [
    "data = pd.read_excel(\"typeform 15-09-2024.xlsx\")"
   ]
  },
  {
   "cell_type": "code",
   "execution_count": null,
   "id": "d9ac99f0-8649-485a-b26b-bbf7a456184e",
   "metadata": {
    "tags": []
   },
   "outputs": [],
   "source": [
    "df = data.copy()"
   ]
  },
  {
   "cell_type": "code",
   "execution_count": null,
   "id": "6be3a78d-ad40-4da8-8c87-ee2fae295fb7",
   "metadata": {
    "tags": []
   },
   "outputs": [],
   "source": [
    "df.columns = df.columns.str.lower().str.replace(\" \",\"_\").str.replace(\".\",\"_\").str.replace(\":\",\"\")"
   ]
  },
  {
   "cell_type": "code",
   "execution_count": null,
   "id": "ef573e7a-80ba-4150-8209-5469e1b7a4d3",
   "metadata": {
    "tags": []
   },
   "outputs": [],
   "source": [
    "df.shape"
   ]
  },
  {
   "cell_type": "code",
   "execution_count": null,
   "id": "9ba841ff-0c15-4606-8f91-78fd8d3383d3",
   "metadata": {
    "tags": []
   },
   "outputs": [],
   "source": [
    "df.columns"
   ]
  },
  {
   "cell_type": "code",
   "execution_count": null,
   "id": "83ac723e-1a49-4b7a-a3c0-73d46c425254",
   "metadata": {
    "tags": []
   },
   "outputs": [],
   "source": [
    "df.drop(columns=[\"#\",\"sí!\",\"no,_solo_por_la_tarde!\",\"por_las_tardes_a_partir_de_las_3_00pm\",\"por_las_tardes_a_partir_de_las_5_00pm\",\"por_las_tardes_a_partir_de_las_6_00pm\",\"por_las_tardes_a_partir_de_las_7_00pm\", \"stage_date_(utc)\", \"tags\"], inplace=True)"
   ]
  },
  {
   "cell_type": "code",
   "execution_count": null,
   "id": "f63427e8-4a98-450b-b4f4-1048050d972c",
   "metadata": {
    "tags": []
   },
   "outputs": [],
   "source": [
    "df = df.rename(columns={\"¿cómo_te_gusta_que_te_llamemos?\":\"nombre\",\n",
    "                   \"para_empezar,_aceptas_la_política_de_privacidad_y_que_te_mandemos_chicha_de_la_buena?\":\"politica_privacidad\",\n",
    "                   \"{{field01g9cmc9sx965qwjp9reb0q2bj}},_escribe_tu_mejor_correo\":\"email\",\n",
    "                   \"escribe_tu_teléfono_(*con_prefijo,_si_no_no_te_podremos_contactar*)_para_poder_pasarte_la_información_de_nuestra_sesión_juntas❤️\":\"telefono\",\n",
    "                   \"¿en_qué_franja_horaria_vives?\":\"zona_horaria\",\n",
    "                   \"-nuestra_terapia_grupal_dura_*16_semanas_*\\n\\n-los_horarios_son_de_*1200_-_1400_pm_o_de_1900_a_2100_pm_*(franja_horaria_españa)\\n\\n-tiene_un_precio_desde*_64€_por_sesiones_de_2_horas__*pero_no_se_paga_por_sesión,_sino_que_te_comprometes_al_proceso_entero_\\n\\n_*esto_implica_tanto_una_inversión_económica,_como_de_tiempo_*__si_esto_no_encaja_en_tus_posibilidades,_te_pedimos,_con_amor,_que_reconsideres_la_reserva__\":\"condiciones_terapia\",\n",
    "                   \"cuéntame,_¿qué_no_está_funcionando_actualmente_en_tu_vida?\":\"problema_principal\",\n",
    "                   \"¿_qué_cambios_te_gustaría_ver_después_de_pasar_por_nuestra_terapia?\":\"cambios_deseados\",\n",
    "                   \"{{field01g9cmc9sx965qwjp9reb0q2bj}},_¿por_qué_crees_que_conecta_contigo,_nuestra_terapia_grupal,_puede_ayudarte?_\":\"busqueda_en_terapia\",\n",
    "                   \"-nuestra_terapia_grupal_dura_*16_semanas_*\\n\\n-cada_semana_de_*1900-2100_pm_o_cada_semana_de_1200-1400_pm_*\\n-se_paga_por_*todo_el_proceso*_en_cuotas_de_1/3/6_pagos_mensuales_\\n\\nesto_implica_una_inversión_económica_y_de_tiempo__si_esto_no_encaja_en_tus_posibilidades,_te_pedimos,_con_amor,_que_reconsideres_la_reserva__\\n\\n¿estás_interesada_en_continuar?\":\"interes_reserva\",\n",
    "                   \"tu_tiempo_es_oro_y_el_nuestro_también,_reserva_esta_sesión_solo_*si_estás_comprometida_a_asistir__*\\n\\n*-esta_sesión_es_una_sesión_enfocada_a_ver_tu_caso_para_entrar_a_la_terapia_grupal_*_\\n\\nsin_tu_compromiso,_no_puede_haber_avance__¿trato_hecho?\":\"interes_sesion_personal\",\n",
    "                   \"start_date_(utc)\":\"start_date\",\n",
    "                   \"submit_date_(utc)\":\"submit_date\"\n",
    "                  })"
   ]
  },
  {
   "cell_type": "code",
   "execution_count": null,
   "id": "363709e8-b616-40fe-aa96-f7c69c1802c2",
   "metadata": {
    "tags": []
   },
   "outputs": [],
   "source": [
    "df.dtypes"
   ]
  },
  {
   "cell_type": "markdown",
   "id": "56fff22b-3805-4fcb-aff4-2cfba100542f",
   "metadata": {},
   "source": [
    "### Leyenda de columnas:\n",
    "\n",
    "**nombre**: nombre de pila\n",
    "\n",
    "**politica_privacidad**: acepta políticas de privacidad y consentimiento publicitario\n",
    "\n",
    "**email**: correo electrónico\n",
    "\n",
    "**telefono**: telefono con extensión\n",
    "\n",
    "**zona_horaria**: 3 zonas contempladas (Europa, Latam/USA, Asia/Australia)\n",
    "\n",
    "**condiciones_terapia**: la usuaria puede asumir condiciones y precio de terapia grupal\n",
    "\n",
    "**problema_principal**: qué no funciona en sus vidas para buscar terapia grupal\n",
    "\n",
    "**cambios_deseados**: qué buscan cambiar gracias a la terapia grupal\n",
    "\n",
    "**busqueda_en_terapia**: cómo creen que la terapia grupañ les ayudará\n",
    "\n",
    "**interes_reserva**: si están interesadas en reservar plaza\n",
    "\n",
    "**interes_sesion_personal**: si están interesadas en realizar una sesión personalizada sobre su caso en específico de cara a entrar en la terapia grupal\n",
    "\n",
    "**start_date**: momento en que comienzan el typeform\n",
    "\n",
    "**submit_date**: momento en que finalizan el typeform\n",
    "\n",
    "**network_id**: id específico de su entrada"
   ]
  },
  {
   "cell_type": "markdown",
   "id": "aa53647b-389f-46ad-b088-4b1036e75079",
   "metadata": {},
   "source": [
    "## STANDARIZATION & NULLS"
   ]
  },
  {
   "cell_type": "markdown",
   "id": "4a85404a-5e4e-4b96-991e-5781f6af1f30",
   "metadata": {},
   "source": [
    "### Cleaning functions"
   ]
  },
  {
   "cell_type": "code",
   "execution_count": null,
   "id": "0934cba7-8534-4484-871f-1bd5a4fd67e9",
   "metadata": {
    "tags": []
   },
   "outputs": [],
   "source": [
    "# replace and fillna\n",
    "\n",
    "def replace_fillna(df, column_name, replace_dict=None, fill_value=None):\n",
    "    if replace_dict:\n",
    "        df[column_name] = df[column_name].replace(replace_dict)\n",
    "    if fill_value is not None:\n",
    "        df[column_name] = df[column_name].fillna(fill_value)\n",
    "    return df"
   ]
  },
  {
   "cell_type": "code",
   "execution_count": null,
   "id": "6f89c3f5-cade-496d-9efc-77cc10e86694",
   "metadata": {},
   "outputs": [],
   "source": [
    "# format clean telephone\n",
    "\n",
    "def format_phone(phone):\n",
    "    if pd.isna(phone):\n",
    "        return phone\n",
    "    else:\n",
    "        phone_str = str(phone)\n",
    "        phone_str = phone_str.split(\".\")[0]\n",
    "        return f\"+{phone_str[:2]} {phone_str[2:5]} {phone_str[5:7]} {phone_str[7:9]} {phone_str[9:]}\""
   ]
  },
  {
   "cell_type": "code",
   "execution_count": null,
   "id": "855eab9f-72e3-4ce0-bcb8-de9386aaf727",
   "metadata": {},
   "outputs": [],
   "source": [
    "# Obtainin phone code number\n",
    "\n",
    "def country_code(value, skip_value=\"Sin completar\"):\n",
    "    if value == skip_value:\n",
    "        return value\n",
    "    else:\n",
    "        return str(value).split(\" \")[0]\n",
    "    \n",
    "def apply_country_code(df, column_name, new_column_name, skip_value=\"Sin completar\"):\n",
    "    df[new_column_name] = df[column_name].apply(lambda x: country_code(x, skip_value))\n",
    "    return df[new_column_name]"
   ]
  },
  {
   "cell_type": "code",
   "execution_count": null,
   "id": "81625ecb-69eb-456b-bd99-0ef689412ad8",
   "metadata": {
    "tags": []
   },
   "outputs": [],
   "source": [
    "# Obtainin country through phone code\n",
    "\n",
    "def country(code, skip_value=\"Sin completar\"):\n",
    "    if code == skip_value:\n",
    "        return \"Desconocido\"\n",
    "    else:\n",
    "        return country_by_code.get(code)"
   ]
  },
  {
   "cell_type": "code",
   "execution_count": null,
   "id": "306942df-8c8d-47ea-a516-d218ec1362c7",
   "metadata": {
    "tags": []
   },
   "outputs": [],
   "source": [
    "## Anonimizer functions\n",
    "\n",
    "def anonymize_name(name):\n",
    "    return hashlib.md5(name.encode()).hexdigest()[:8]\n",
    "\n",
    "def anonymize_email(email):\n",
    "    username, domain = email.split('@')\n",
    "    return f\"{hashlib.md5(username.encode()).hexdigest()[:8]}@{domain}\"\n",
    "\n",
    "def anonymize_phone(phone):\n",
    "    if phone == \"Sin completar\":\n",
    "        return phone\n",
    "  \n",
    "    match = re.match(r'(\\+\\d+)\\s*(.*)', phone)\n",
    "    if match:\n",
    "        country_code, rest_of_number = match.groups()\n",
    "      # Eliminar espacios del resto del número\n",
    "        rest_of_number = rest_of_number.replace(\" \", \"\")\n",
    "        return f\"{country_code} {hashlib.md5(rest_of_number.encode()).hexdigest()[:8]}\"\n",
    "    else:\n",
    "      # Si no hay código de país, anonimizar todo el número\n",
    "        return hashlib.md5(phone.encode()).hexdigest()[:8]"
   ]
  },
  {
   "cell_type": "markdown",
   "id": "4eff869d-8e9b-4c00-9fb2-e5f73e1b6dbc",
   "metadata": {
    "tags": []
   },
   "source": [
    "### Anonymize variables "
   ]
  },
  {
   "cell_type": "code",
   "execution_count": null,
   "id": "c54bc37f-85b7-410c-b045-91e9b3c12c06",
   "metadata": {
    "tags": []
   },
   "outputs": [],
   "source": [
    "df['nombre'] = df['nombre'].apply(anonymize_name)\n",
    "df['email'] = df['email'].apply(anonymize_email)\n",
    "df['telefono'] = df['telefono'].apply(anonymize_phone)"
   ]
  },
  {
   "cell_type": "code",
   "execution_count": null,
   "id": "5c05b1f6-307e-4b67-9659-6d9b34ee7ab0",
   "metadata": {},
   "outputs": [],
   "source": []
  },
  {
   "cell_type": "code",
   "execution_count": null,
   "id": "01b0d8cf-eb4d-4100-aed9-e97a1c92f07e",
   "metadata": {},
   "outputs": [],
   "source": []
  },
  {
   "cell_type": "code",
   "execution_count": null,
   "id": "9a42eb60-8021-49e7-850d-c3c11845e8c1",
   "metadata": {},
   "outputs": [],
   "source": []
  },
  {
   "cell_type": "markdown",
   "id": "26132fea-6763-4c18-95ab-fb33c5199d9d",
   "metadata": {
    "tags": []
   },
   "source": [
    "### Política de Privacidad"
   ]
  },
  {
   "cell_type": "code",
   "execution_count": null,
   "id": "8ffbbe53-7456-4fdc-a9bd-5c5eb9845a9d",
   "metadata": {
    "tags": []
   },
   "outputs": [],
   "source": [
    "df[\"politica_privacidad\"].value_counts()"
   ]
  },
  {
   "cell_type": "code",
   "execution_count": null,
   "id": "32517709-beda-4b45-9164-3142812d0ba3",
   "metadata": {
    "tags": []
   },
   "outputs": [],
   "source": [
    "df = replace_fillna(df, \"politica_privacidad\", replace_dict={\"Acepto! yes!\":\"Yes\"}, fill_value=\"No\")"
   ]
  },
  {
   "cell_type": "code",
   "execution_count": null,
   "id": "0cf64e7b-970c-42d9-9738-7704627fcdb8",
   "metadata": {
    "tags": []
   },
   "outputs": [],
   "source": [
    "df[\"politica_privacidad\"].value_counts()"
   ]
  },
  {
   "cell_type": "markdown",
   "id": "272691c3-ed6e-48f7-a533-288b2cb68c72",
   "metadata": {},
   "source": [
    "#### Teléfono"
   ]
  },
  {
   "cell_type": "code",
   "execution_count": null,
   "id": "2eb08c91-2477-4d98-8291-40ea9d8388ac",
   "metadata": {
    "tags": []
   },
   "outputs": [],
   "source": [
    "df[\"telefono\"]"
   ]
  },
  {
   "cell_type": "code",
   "execution_count": null,
   "id": "5e83fdd6-ac11-4794-a602-628f5ac920d8",
   "metadata": {
    "tags": []
   },
   "outputs": [],
   "source": [
    "df[\"telefono\"] = df[\"telefono\"].apply(format_phone)"
   ]
  },
  {
   "cell_type": "code",
   "execution_count": null,
   "id": "511cb18d-9de6-4414-b98e-d8ba4b0a5411",
   "metadata": {
    "tags": []
   },
   "outputs": [],
   "source": [
    "df[\"telefono\"].isna().sum()"
   ]
  },
  {
   "cell_type": "code",
   "execution_count": null,
   "id": "f8d73232-86a5-41b4-8d0c-9aab3c3c8d8e",
   "metadata": {
    "tags": []
   },
   "outputs": [],
   "source": [
    "df[\"telefono\"] = df[\"telefono\"].fillna(\"Sin completar\")"
   ]
  },
  {
   "cell_type": "code",
   "execution_count": null,
   "id": "02bb023b-4b07-4b76-b2fa-8d319d269ba9",
   "metadata": {
    "tags": []
   },
   "outputs": [],
   "source": [
    "df[\"telefono\"].sample(10)"
   ]
  },
  {
   "cell_type": "markdown",
   "id": "e856e21f-0cf3-4674-9cda-8ac816c5a1ce",
   "metadata": {
    "tags": []
   },
   "source": [
    "### Zona horaria"
   ]
  },
  {
   "cell_type": "code",
   "execution_count": null,
   "id": "14ef8601-deea-48d1-9d03-d263ee7bd4f1",
   "metadata": {
    "tags": []
   },
   "outputs": [],
   "source": [
    "df[\"zona_horaria\"].value_counts()"
   ]
  },
  {
   "cell_type": "code",
   "execution_count": null,
   "id": "df444380-12e2-411f-886a-4df73beddf90",
   "metadata": {
    "tags": []
   },
   "outputs": [],
   "source": [
    "df = replace_fillna(df, \"zona_horaria\", replace_dict={\"Europa\":\"Europa\", \"Latino America/USA\":\"Latam/USA\", \"Asia/Australia\":\"Asia/Australia\"}, fill_value=\"Sin completar\")"
   ]
  },
  {
   "cell_type": "code",
   "execution_count": null,
   "id": "460fa69c-51a1-4d68-896f-218f02f59114",
   "metadata": {
    "tags": []
   },
   "outputs": [],
   "source": [
    "df[\"zona_horaria\"].value_counts()"
   ]
  },
  {
   "cell_type": "markdown",
   "id": "a4d2d6ae-72da-4bf9-b6ed-623152a8dba5",
   "metadata": {},
   "source": [
    "### Condiciones terapia"
   ]
  },
  {
   "cell_type": "code",
   "execution_count": null,
   "id": "d787c6d0-6be8-4fff-af1a-0ba7d5a7a2c0",
   "metadata": {
    "tags": []
   },
   "outputs": [],
   "source": [
    "df[\"condiciones_terapia\"].value_counts(dropna=False)"
   ]
  },
  {
   "cell_type": "code",
   "execution_count": null,
   "id": "08c72cea-36fe-45a6-a688-c6a55732635e",
   "metadata": {
    "tags": []
   },
   "outputs": [],
   "source": [
    "df = replace_fillna(df, \"condiciones_terapia\", replace_dict={\"No se ajusta a mis posibilidades 🙏🏽\":\"No (Latam)\", \"Sí se ajusta a mis posibilidades ❤️\":\"Yes (Latam)\"}, fill_value=\"Yes\")"
   ]
  },
  {
   "cell_type": "code",
   "execution_count": null,
   "id": "0b357cf3-6112-464f-bae0-bd423a625a7f",
   "metadata": {
    "tags": []
   },
   "outputs": [],
   "source": [
    "df[\"condiciones_terapia\"].value_counts(dropna=False)"
   ]
  },
  {
   "cell_type": "markdown",
   "id": "9064d7e2-905d-4a7a-be35-b80366aefab4",
   "metadata": {},
   "source": [
    "#### Problema principal - Cambios deseados - Búsqueda en terapia"
   ]
  },
  {
   "cell_type": "code",
   "execution_count": null,
   "id": "637a3edd-9611-4609-a00b-1808063c5172",
   "metadata": {
    "tags": []
   },
   "outputs": [],
   "source": [
    "columnas_nan = [\"problema_principal\", \"cambios_deseados\", \"busqueda_en_terapia\"]"
   ]
  },
  {
   "cell_type": "code",
   "execution_count": null,
   "id": "4e3e1a08-0f38-4f68-8a7d-a774ded39512",
   "metadata": {
    "tags": []
   },
   "outputs": [],
   "source": [
    "df[columnas_nan] = df[columnas_nan].fillna(\"Sin completar\")"
   ]
  },
  {
   "cell_type": "markdown",
   "id": "2139194f-b1ba-40a9-8050-33a5defe7593",
   "metadata": {},
   "source": [
    "### Interés reserva"
   ]
  },
  {
   "cell_type": "code",
   "execution_count": null,
   "id": "f387fb7d-3be3-4f62-b0ea-40906efbbb95",
   "metadata": {
    "tags": []
   },
   "outputs": [],
   "source": [
    "df[\"interes_reserva\"].value_counts(dropna=False)"
   ]
  },
  {
   "cell_type": "code",
   "execution_count": null,
   "id": "5dfc1cbf-fa22-47a6-bf46-1edb813f2f92",
   "metadata": {
    "tags": []
   },
   "outputs": [],
   "source": [
    "df = replace_fillna(df, \"interes_reserva\", replace_dict={\"Sí, estoy dispuesta a invertir en mí y tengo disponibilidad semanal.\":\"Yes\", \n",
    "                                                         \"Sí, estoy dispuesta a invertir en mí y tengo disponibilidad semanal, aunque me cuadraría pagar a plazos.\":\"Yes (Pago plazos)\",\n",
    "                                                         \"No, ahora mismo no estoy dispuesta a invertir en terapia.\":\"No\"\n",
    "                                                        }, \n",
    "                                                         fill_value=\"Sin completar\")"
   ]
  },
  {
   "cell_type": "code",
   "execution_count": null,
   "id": "786c0432-6759-41d5-b35d-b0b5c58f4a78",
   "metadata": {
    "tags": []
   },
   "outputs": [],
   "source": [
    "df[\"interes_reserva\"].value_counts(dropna=False)"
   ]
  },
  {
   "cell_type": "markdown",
   "id": "c8041b63-2b4b-48d2-a6f4-25ac3719afde",
   "metadata": {},
   "source": [
    "#### Interés Sesión personalizada"
   ]
  },
  {
   "cell_type": "code",
   "execution_count": null,
   "id": "68b363aa-b1f4-4400-83a8-47a63f86b803",
   "metadata": {
    "tags": []
   },
   "outputs": [],
   "source": [
    "df[\"interes_sesion_personal\"].value_counts(dropna=False)"
   ]
  },
  {
   "cell_type": "code",
   "execution_count": null,
   "id": "4ef653d3-5f70-417f-8cf7-6f35ce1f5412",
   "metadata": {
    "tags": []
   },
   "outputs": [],
   "source": [
    "df = replace_fillna(df, \"interes_sesion_personal\", replace_dict={\"Sí!! Estoy dispuesta a invertirme en mí y comprometida a asistir.\":\"Yes\", \n",
    "                                                         \"No, estoy comprometida ni puedo invertir prefiero no seguir\":\"No\"\n",
    "                                                        }, \n",
    "                                                         fill_value=\"Sin completar\")"
   ]
  },
  {
   "cell_type": "code",
   "execution_count": null,
   "id": "0cab163b-b284-4627-9f7a-46d9e85aaca3",
   "metadata": {
    "tags": []
   },
   "outputs": [],
   "source": [
    "df[\"interes_sesion_personal\"].value_counts(dropna=False)"
   ]
  },
  {
   "cell_type": "code",
   "execution_count": null,
   "id": "d0c744d2-8016-462a-8a19-8606e2af34bf",
   "metadata": {
    "tags": []
   },
   "outputs": [],
   "source": [
    "df.sample(10)"
   ]
  },
  {
   "cell_type": "markdown",
   "id": "fd06f8e9-7d31-4ad2-ba66-69c552c40232",
   "metadata": {},
   "source": [
    "### *New column*: país"
   ]
  },
  {
   "cell_type": "code",
   "execution_count": null,
   "id": "5c5d1c0b-f1e0-4069-8d00-b5ad7bc8387e",
   "metadata": {
    "tags": []
   },
   "outputs": [],
   "source": [
    "df_code = apply_country_code(df, \"telefono\", \"codigo_tlf\")"
   ]
  },
  {
   "cell_type": "code",
   "execution_count": null,
   "id": "ff264e58-9c54-483e-8135-01daabe8e827",
   "metadata": {
    "tags": []
   },
   "outputs": [],
   "source": [
    "df_code = df_code.reset_index(drop=True)"
   ]
  },
  {
   "cell_type": "code",
   "execution_count": null,
   "id": "c5f14863-2453-428e-a502-a7ccaa1c0fcd",
   "metadata": {
    "tags": []
   },
   "outputs": [],
   "source": [
    "df_code = pd.DataFrame(df_code)"
   ]
  },
  {
   "cell_type": "code",
   "execution_count": null,
   "id": "59aa6741-1065-4776-8f86-60f59ca68cc4",
   "metadata": {
    "tags": []
   },
   "outputs": [],
   "source": [
    "df_code.sample(5)"
   ]
  },
  {
   "cell_type": "code",
   "execution_count": null,
   "id": "4b6ed044-6ffd-4842-8495-b4d8626b2ce9",
   "metadata": {
    "tags": []
   },
   "outputs": [],
   "source": [
    "country_by_code = {\n",
    "\"+34\": \"España\",\n",
    "\"+52\": \"México\",\n",
    "\"+56\": \"Chile\",\n",
    "\"+54\": \"Argentina\",\n",
    "\"+57\": \"Colombia\",\n",
    "\"+59\": \"Bolivia\",\n",
    "\"+50\": \"Guatemala\",\n",
    "\"+51\": \"Perú\",\n",
    "\"+39\": \"Italia\",\n",
    "\"+41\": \"Suiza\",\n",
    "\"+58\": \"Venezuela\",\n",
    "\"+17\": \"Estados Unidos\",\n",
    "\"+19\": \"Canadá\",\n",
    "\"+61\": \"Australia\",\n",
    "\"+12\": \"Estados Unidos\",\n",
    "\"+18\": \"Estados Unidos\",\n",
    "\"+33\": \"Francia\",\n",
    "\"+44\": \"Reino Unido\",\n",
    "\"+49\": \"Alemania\",\n",
    "\"+96\": \"Bahréin\",\n",
    "\"+15\": \"Estados Unidos\",\n",
    "\"+55\": \"Brasil\",\n",
    "\"+13\": \"Estados Unidos\",\n",
    "\"+16\": \"Estados Unidos\",\n",
    "\"+97\": \"Emiratos Árabes Unidos\",\n",
    "\"+32\": \"Bélgica\",\n",
    "\"+35\": \"Gibraltar\",\n",
    "\"+14\": \"Estados Unidos\",\n",
    "\"+38\": \"Yugoslavia\",\n",
    "\"+86\": \"China\",\n",
    "\"+37\": \"Lituania\",\n",
    "\"+84\": \"Vietnam\",\n",
    "\"+36\": \"Hungría\",\n",
    "\"+46\": \"Suecia\",\n",
    "\"+31\": \"Países Bajos\",\n",
    "\"+48\": \"Polonia\",\n",
    "\"+47\": \"Noruega\",\n",
    "\"+64\": \"Nueva Zelanda\"\n",
    "}"
   ]
  },
  {
   "cell_type": "code",
   "execution_count": null,
   "id": "5a2e2dbe-4dc1-48cd-9f40-ede5bc67da96",
   "metadata": {
    "tags": []
   },
   "outputs": [],
   "source": [
    "df_code[\"pais\"] = df_code[\"codigo_tlf\"].apply(country)"
   ]
  },
  {
   "cell_type": "code",
   "execution_count": null,
   "id": "694c5d48-8bda-4df6-a655-61e102123ee6",
   "metadata": {
    "tags": []
   },
   "outputs": [],
   "source": [
    "df_code.head(5)"
   ]
  },
  {
   "cell_type": "code",
   "execution_count": null,
   "id": "6033d35d-5e3a-4632-9726-b4943af319ae",
   "metadata": {
    "tags": []
   },
   "outputs": [],
   "source": [
    "df_columns = df.columns.to_list()"
   ]
  },
  {
   "cell_type": "code",
   "execution_count": null,
   "id": "2ee265cc-8059-402d-8188-51acdac290ae",
   "metadata": {
    "tags": []
   },
   "outputs": [],
   "source": [
    "df_columns.index(\"zona_horaria\")"
   ]
  },
  {
   "cell_type": "code",
   "execution_count": null,
   "id": "0db0a2f8-c7fa-4d69-87b1-7a787cd95b98",
   "metadata": {
    "tags": []
   },
   "outputs": [],
   "source": [
    "df.insert(5, \"pais\", df_code[\"pais\"])"
   ]
  },
  {
   "cell_type": "code",
   "execution_count": null,
   "id": "fb7479ee-e4d3-4ef7-9116-db16c0532d94",
   "metadata": {
    "tags": []
   },
   "outputs": [],
   "source": [
    "df.drop(columns=[\"codigo_tlf\"], inplace=True)"
   ]
  },
  {
   "cell_type": "code",
   "execution_count": null,
   "id": "4661ea41-4b51-469a-8bb7-7fbf25dc0ce7",
   "metadata": {
    "tags": []
   },
   "outputs": [],
   "source": [
    "df.sample(5)"
   ]
  },
  {
   "cell_type": "markdown",
   "id": "7a4d7cb3-cb76-4e12-8680-e116658ba9a0",
   "metadata": {},
   "source": [
    "## CALENDLY MERGE: SESSIONS DONE"
   ]
  },
  {
   "cell_type": "markdown",
   "id": "3fcf81af-23d2-42ab-b82d-249653c93f6f",
   "metadata": {},
   "source": [
    "### Set up"
   ]
  },
  {
   "cell_type": "code",
   "execution_count": null,
   "id": "ff02efda-48b8-4ae7-91c3-0103e1bfc1a0",
   "metadata": {
    "tags": []
   },
   "outputs": [],
   "source": [
    "data2 = pd.read_excel(\"Calendly 15 sp 2024.xlsx\")"
   ]
  },
  {
   "cell_type": "code",
   "execution_count": null,
   "id": "a4553fc0-35a3-456d-b47c-23d381aa91b1",
   "metadata": {
    "tags": []
   },
   "outputs": [],
   "source": [
    "df2 = data2.copy()"
   ]
  },
  {
   "cell_type": "code",
   "execution_count": null,
   "id": "b06301d4-15b1-419b-8fa8-3ddb215624fa",
   "metadata": {
    "tags": []
   },
   "outputs": [],
   "source": [
    "df2.columns = df2.columns.str.lower().str.replace(\" \",\"_\").str.replace(\".\",\"_\").str.replace(\":\",\"\")"
   ]
  },
  {
   "cell_type": "code",
   "execution_count": null,
   "id": "eee1cc94-fa59-4995-969f-bc3d276a3008",
   "metadata": {
    "tags": []
   },
   "outputs": [],
   "source": [
    "df2.sample(1)"
   ]
  },
  {
   "cell_type": "code",
   "execution_count": null,
   "id": "65397374-7578-4800-8855-cb7f9a2989b4",
   "metadata": {
    "tags": []
   },
   "outputs": [],
   "source": [
    "df2.shape"
   ]
  },
  {
   "cell_type": "code",
   "execution_count": null,
   "id": "3d57aa1b-aab7-46c0-a479-b1a1f4f56555",
   "metadata": {
    "tags": []
   },
   "outputs": [],
   "source": [
    "calendly = df2[[\"invitee_email\", \"start_date_&_time\", \"end_date_&_time\"]]"
   ]
  },
  {
   "cell_type": "code",
   "execution_count": null,
   "id": "b625c8b1-af1c-4935-b891-5a03dc4b1622",
   "metadata": {
    "tags": []
   },
   "outputs": [],
   "source": [
    "calendly"
   ]
  },
  {
   "cell_type": "code",
   "execution_count": null,
   "id": "86b0d3b6-caf6-47fa-acfa-d43d5b992bbe",
   "metadata": {
    "tags": []
   },
   "outputs": [],
   "source": [
    "df[\"sesion_completada\"] = df[\"email\"].isin(calendly[\"invitee_email\"]).map({True: \"Yes\", False: \"No\"})"
   ]
  },
  {
   "cell_type": "code",
   "execution_count": null,
   "id": "7987e080-5ff2-4829-8ab6-6f1376325f42",
   "metadata": {
    "tags": []
   },
   "outputs": [],
   "source": [
    "df[\"sesion_completada\"].value_counts()"
   ]
  },
  {
   "cell_type": "markdown",
   "id": "3b9a4a3f-8429-45e6-9f3d-2e4efb840709",
   "metadata": {},
   "source": [
    "### Sessions done"
   ]
  },
  {
   "cell_type": "code",
   "execution_count": null,
   "id": "d0e03a70-bdcb-45df-b913-c657e7e8480f",
   "metadata": {
    "tags": []
   },
   "outputs": [],
   "source": [
    "sesiones_si = df[df[\"sesion_completada\"] == \"Yes\"]"
   ]
  },
  {
   "cell_type": "code",
   "execution_count": null,
   "id": "d15ca392-6641-463b-a24d-31a1d5d637c8",
   "metadata": {
    "tags": []
   },
   "outputs": [],
   "source": [
    "sesiones_si[\"pais\"].value_counts()"
   ]
  },
  {
   "cell_type": "code",
   "execution_count": null,
   "id": "fb806c0c-48c5-4bf6-bdf6-c16dd330279d",
   "metadata": {
    "tags": []
   },
   "outputs": [],
   "source": [
    "sesiones_no = df[df[\"sesion_completada\"] == \"No\"]"
   ]
  },
  {
   "cell_type": "code",
   "execution_count": null,
   "id": "f786b88a-91da-4f98-9d01-ac75bf6f9347",
   "metadata": {
    "tags": []
   },
   "outputs": [],
   "source": [
    "sesiones_no[\"pais\"].value_counts()"
   ]
  },
  {
   "cell_type": "markdown",
   "id": "66ddbbe0-8f5b-492b-8b01-d25f9dafe3aa",
   "metadata": {},
   "source": [
    "## EXPORT CLEAN CSV TO EDA"
   ]
  },
  {
   "cell_type": "code",
   "execution_count": null,
   "id": "303020d5-9f90-4ade-be42-5a062ee4c70b",
   "metadata": {
    "tags": []
   },
   "outputs": [],
   "source": [
    "df.to_csv(\"clean_typeform.csv\", index=False)"
   ]
  }
 ],
 "metadata": {
  "kernelspec": {
   "display_name": "Python 3 (ipykernel)",
   "language": "python",
   "name": "python3"
  },
  "language_info": {
   "codemirror_mode": {
    "name": "ipython",
    "version": 3
   },
   "file_extension": ".py",
   "mimetype": "text/x-python",
   "name": "python",
   "nbconvert_exporter": "python",
   "pygments_lexer": "ipython3",
   "version": "3.11.5"
  }
 },
 "nbformat": 4,
 "nbformat_minor": 5
}
